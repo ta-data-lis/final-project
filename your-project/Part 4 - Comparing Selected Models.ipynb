{
 "cells": [
  {
   "cell_type": "code",
   "execution_count": 1,
   "metadata": {},
   "outputs": [],
   "source": [
    "# Importing libraries\n",
    "import pandas as pd\n",
    "import numpy as np\n",
    "\n",
    "from nltk.probability import FreqDist\n",
    "from nltk.classify.scikitlearn import SklearnClassifier\n",
    "\n",
    "from sklearn.naive_bayes import MultinomialNB\n",
    "from sklearn.linear_model import LogisticRegression\n",
    "\n",
    "# My own functions\n",
    "from NLP_Functions import find_features, make_matrix, clean_up, tokenize, stem_and_lemmatize, remove_stopwords"
   ]
  },
  {
   "cell_type": "code",
   "execution_count": 4,
   "metadata": {},
   "outputs": [],
   "source": [
    "# Importing the dataset\n",
    "comments = pd.read_csv('Datasets/games_comments_cleaned.csv', index_col = 0)"
   ]
  },
  {
   "cell_type": "code",
   "execution_count": 15,
   "metadata": {},
   "outputs": [
    {
     "data": {
      "text/html": [
       "<div>\n",
       "<style scoped>\n",
       "    .dataframe tbody tr th:only-of-type {\n",
       "        vertical-align: middle;\n",
       "    }\n",
       "\n",
       "    .dataframe tbody tr th {\n",
       "        vertical-align: top;\n",
       "    }\n",
       "\n",
       "    .dataframe thead th {\n",
       "        text-align: right;\n",
       "    }\n",
       "</style>\n",
       "<table border=\"1\" class=\"dataframe\">\n",
       "  <thead>\n",
       "    <tr style=\"text-align: right;\">\n",
       "      <th></th>\n",
       "      <th>Title</th>\n",
       "      <th>Platform</th>\n",
       "      <th>Userscore</th>\n",
       "      <th>Comment</th>\n",
       "      <th>Username</th>\n",
       "    </tr>\n",
       "  </thead>\n",
       "  <tbody>\n",
       "    <tr>\n",
       "      <th>70610</th>\n",
       "      <td>Super Smash Bros. for Wii U</td>\n",
       "      <td>WiiU</td>\n",
       "      <td>9</td>\n",
       "      <td>This game is amazing, improves in every aspect...</td>\n",
       "      <td>Zin_49</td>\n",
       "    </tr>\n",
       "    <tr>\n",
       "      <th>276159</th>\n",
       "      <td>Zero Escape: Zero Time Dilemma</td>\n",
       "      <td>3DS</td>\n",
       "      <td>8</td>\n",
       "      <td>A bunch of bootleg robotic versions of the mai...</td>\n",
       "      <td>Techbane</td>\n",
       "    </tr>\n",
       "    <tr>\n",
       "      <th>256598</th>\n",
       "      <td>Metro: Last Light</td>\n",
       "      <td>PC</td>\n",
       "      <td>6</td>\n",
       "      <td>I liked the original this is some innovation b...</td>\n",
       "      <td>gstiker5</td>\n",
       "    </tr>\n",
       "    <tr>\n",
       "      <th>208862</th>\n",
       "      <td>PlanetSide 2</td>\n",
       "      <td>PC</td>\n",
       "      <td>5</td>\n",
       "      <td>Planetside 2  has battles of epic scale and de...</td>\n",
       "      <td>NasseSeta</td>\n",
       "    </tr>\n",
       "    <tr>\n",
       "      <th>141670</th>\n",
       "      <td>Diablo III</td>\n",
       "      <td>PC</td>\n",
       "      <td>1</td>\n",
       "      <td>Game looks good and overall i like the graphic...</td>\n",
       "      <td>JamesLFranco</td>\n",
       "    </tr>\n",
       "    <tr>\n",
       "      <th>...</th>\n",
       "      <td>...</td>\n",
       "      <td>...</td>\n",
       "      <td>...</td>\n",
       "      <td>...</td>\n",
       "      <td>...</td>\n",
       "    </tr>\n",
       "    <tr>\n",
       "      <th>202536</th>\n",
       "      <td>American McGee's Alice</td>\n",
       "      <td>PC</td>\n",
       "      <td>6</td>\n",
       "      <td>Read the Computer Games Magazie review. It is...</td>\n",
       "      <td>KevK.</td>\n",
       "    </tr>\n",
       "    <tr>\n",
       "      <th>182206</th>\n",
       "      <td>XCOM: Enemy Within</td>\n",
       "      <td>PC</td>\n",
       "      <td>9</td>\n",
       "      <td>Something is lost within the gaming community ...</td>\n",
       "      <td>Loodwig</td>\n",
       "    </tr>\n",
       "    <tr>\n",
       "      <th>229606</th>\n",
       "      <td>Call of Duty: Black Ops II</td>\n",
       "      <td>Xbox360</td>\n",
       "      <td>3</td>\n",
       "      <td>I will openly admit that I haven't bought a Co...</td>\n",
       "      <td>KittenUppercut</td>\n",
       "    </tr>\n",
       "    <tr>\n",
       "      <th>122946</th>\n",
       "      <td>Call of Duty: Modern Warfare 3</td>\n",
       "      <td>Xbox360</td>\n",
       "      <td>0</td>\n",
       "      <td>Call of Duty is the same game every year with ...</td>\n",
       "      <td>LoneStarGamer</td>\n",
       "    </tr>\n",
       "    <tr>\n",
       "      <th>129026</th>\n",
       "      <td>Rise of the Tomb Raider: 20 Year Celebration</td>\n",
       "      <td>PlayStation4</td>\n",
       "      <td>9</td>\n",
       "      <td>this games badass its the best in the franchis...</td>\n",
       "      <td>omer123</td>\n",
       "    </tr>\n",
       "  </tbody>\n",
       "</table>\n",
       "<p>50000 rows × 5 columns</p>\n",
       "</div>"
      ],
      "text/plain": [
       "                                               Title      Platform  Userscore  \\\n",
       "70610                    Super Smash Bros. for Wii U          WiiU          9   \n",
       "276159                Zero Escape: Zero Time Dilemma           3DS          8   \n",
       "256598                             Metro: Last Light            PC          6   \n",
       "208862                                  PlanetSide 2            PC          5   \n",
       "141670                                    Diablo III            PC          1   \n",
       "...                                              ...           ...        ...   \n",
       "202536                        American McGee's Alice            PC          6   \n",
       "182206                            XCOM: Enemy Within            PC          9   \n",
       "229606                    Call of Duty: Black Ops II       Xbox360          3   \n",
       "122946                Call of Duty: Modern Warfare 3       Xbox360          0   \n",
       "129026  Rise of the Tomb Raider: 20 Year Celebration  PlayStation4          9   \n",
       "\n",
       "                                                  Comment        Username  \n",
       "70610   This game is amazing, improves in every aspect...          Zin_49  \n",
       "276159  A bunch of bootleg robotic versions of the mai...        Techbane  \n",
       "256598  I liked the original this is some innovation b...        gstiker5  \n",
       "208862  Planetside 2  has battles of epic scale and de...       NasseSeta  \n",
       "141670  Game looks good and overall i like the graphic...    JamesLFranco  \n",
       "...                                                   ...             ...  \n",
       "202536   Read the Computer Games Magazie review. It is...           KevK.  \n",
       "182206  Something is lost within the gaming community ...         Loodwig  \n",
       "229606  I will openly admit that I haven't bought a Co...  KittenUppercut  \n",
       "122946  Call of Duty is the same game every year with ...   LoneStarGamer  \n",
       "129026  this games badass its the best in the franchis...         omer123  \n",
       "\n",
       "[50000 rows x 5 columns]"
      ]
     },
     "execution_count": 15,
     "metadata": {},
     "output_type": "execute_result"
    }
   ],
   "source": [
    "# Creating a 50k sample this time, to see if things are a little better\n",
    "df = comments.sample(50000, random_state = 18)  # random_state for reproducibility\n",
    "df"
   ]
  },
  {
   "cell_type": "markdown",
   "metadata": {},
   "source": [
    "## Creating the 'Target' (label) column"
   ]
  },
  {
   "cell_type": "markdown",
   "metadata": {},
   "source": [
    "I will be testing 2 different label classifications, one of my own (Target) and one suggested from the NPS system (Target_NPS)"
   ]
  },
  {
   "cell_type": "code",
   "execution_count": 16,
   "metadata": {},
   "outputs": [
    {
     "name": "stdout",
     "output_type": "stream",
     "text": [
      "Positive    29113\n",
      "Negative    20887\n",
      "Name: Target, dtype: int64\n"
     ]
    },
    {
     "data": {
      "text/plain": [
       "Positive    29113\n",
       "Negative    12564\n",
       "Neutral      8323\n",
       "Name: Target_NPS, dtype: int64"
      ]
     },
     "execution_count": 16,
     "metadata": {},
     "output_type": "execute_result"
    }
   ],
   "source": [
    "# Creating the 'Target' column\n",
    "## 9-10 positive\n",
    "## 8 and below negative\n",
    "df['Target'] = np.where((df['Userscore'] <= 8), 'Negative', 'Positive')\n",
    "\n",
    "\n",
    "# Creating the 'Target_NPS' column\n",
    "## NPS Scale - https://en.wikipedia.org/wiki/Net_Promoter\n",
    "## 9-10 = positive\n",
    "## 7-8 = neutral\n",
    "## 0-6 = negative\n",
    "df['Target_NPS'] = np.where((df['Userscore'] <= 6), 'Negative', 'Positive')\n",
    "df['Target_NPS'] = np.where(((df['Userscore'] >= 7) & (df['Userscore'] <= 8)), 'Neutral', df['Target_NPS'])\n",
    "\n",
    "\n",
    "# Checking the different proportion of values\n",
    "print(df['Target'].value_counts())\n",
    "df['Target_NPS'].value_counts()"
   ]
  },
  {
   "cell_type": "code",
   "execution_count": null,
   "metadata": {},
   "outputs": [],
   "source": []
  },
  {
   "cell_type": "code",
   "execution_count": null,
   "metadata": {},
   "outputs": [],
   "source": []
  },
  {
   "cell_type": "code",
   "execution_count": null,
   "metadata": {},
   "outputs": [],
   "source": []
  },
  {
   "cell_type": "code",
   "execution_count": null,
   "metadata": {},
   "outputs": [],
   "source": []
  },
  {
   "cell_type": "code",
   "execution_count": null,
   "metadata": {},
   "outputs": [],
   "source": []
  },
  {
   "cell_type": "code",
   "execution_count": null,
   "metadata": {},
   "outputs": [],
   "source": []
  },
  {
   "cell_type": "code",
   "execution_count": null,
   "metadata": {},
   "outputs": [],
   "source": []
  },
  {
   "cell_type": "code",
   "execution_count": null,
   "metadata": {},
   "outputs": [],
   "source": []
  },
  {
   "cell_type": "code",
   "execution_count": null,
   "metadata": {},
   "outputs": [],
   "source": []
  },
  {
   "cell_type": "code",
   "execution_count": null,
   "metadata": {},
   "outputs": [],
   "source": []
  },
  {
   "cell_type": "code",
   "execution_count": null,
   "metadata": {},
   "outputs": [],
   "source": []
  }
 ],
 "metadata": {
  "kernelspec": {
   "display_name": "Python 3",
   "language": "python",
   "name": "python3"
  },
  "language_info": {
   "codemirror_mode": {
    "name": "ipython",
    "version": 3
   },
   "file_extension": ".py",
   "mimetype": "text/x-python",
   "name": "python",
   "nbconvert_exporter": "python",
   "pygments_lexer": "ipython3",
   "version": "3.7.5"
  }
 },
 "nbformat": 4,
 "nbformat_minor": 4
}

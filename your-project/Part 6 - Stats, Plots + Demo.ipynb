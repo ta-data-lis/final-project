{
 "cells": [
  {
   "cell_type": "markdown",
   "metadata": {},
   "source": [
    "# Stats, Plots + Prediction Demo"
   ]
  },
  {
   "cell_type": "markdown",
   "metadata": {},
   "source": [
    "## Imports and setup"
   ]
  },
  {
   "cell_type": "code",
   "execution_count": 26,
   "metadata": {},
   "outputs": [],
   "source": [
    "# Imports\n",
    "import pandas as pd\n",
    "import numpy as np\n",
    "import matplotlib.pyplot as plt\n",
    "import seaborn\n",
    "import pickle\n",
    "from nltk.sentiment.vader import SentimentIntensityAnalyzer\n",
    "\n",
    "from NLP_Functions import *"
   ]
  },
  {
   "cell_type": "code",
   "execution_count": 1,
   "metadata": {},
   "outputs": [
    {
     "data": {
      "text/html": [
       "<div>\n",
       "<style scoped>\n",
       "    .dataframe tbody tr th:only-of-type {\n",
       "        vertical-align: middle;\n",
       "    }\n",
       "\n",
       "    .dataframe tbody tr th {\n",
       "        vertical-align: top;\n",
       "    }\n",
       "\n",
       "    .dataframe thead th {\n",
       "        text-align: right;\n",
       "    }\n",
       "</style>\n",
       "<table border=\"1\" class=\"dataframe\">\n",
       "  <thead>\n",
       "    <tr style=\"text-align: right;\">\n",
       "      <th></th>\n",
       "      <th>Title</th>\n",
       "      <th>Platform</th>\n",
       "      <th>Userscore</th>\n",
       "      <th>Comment</th>\n",
       "      <th>Username</th>\n",
       "    </tr>\n",
       "  </thead>\n",
       "  <tbody>\n",
       "    <tr>\n",
       "      <th>0</th>\n",
       "      <td>Super Smash Bros. for Wii U</td>\n",
       "      <td>WiiU</td>\n",
       "      <td>9</td>\n",
       "      <td>This game is amazing, improves in every aspect...</td>\n",
       "      <td>Zin_49</td>\n",
       "    </tr>\n",
       "    <tr>\n",
       "      <th>1</th>\n",
       "      <td>Zero Escape: Zero Time Dilemma</td>\n",
       "      <td>3DS</td>\n",
       "      <td>8</td>\n",
       "      <td>A bunch of bootleg robotic versions of the mai...</td>\n",
       "      <td>Techbane</td>\n",
       "    </tr>\n",
       "    <tr>\n",
       "      <th>2</th>\n",
       "      <td>Metro: Last Light</td>\n",
       "      <td>PC</td>\n",
       "      <td>6</td>\n",
       "      <td>I liked the original this is some innovation b...</td>\n",
       "      <td>gstiker5</td>\n",
       "    </tr>\n",
       "    <tr>\n",
       "      <th>3</th>\n",
       "      <td>PlanetSide 2</td>\n",
       "      <td>PC</td>\n",
       "      <td>5</td>\n",
       "      <td>Planetside 2  has battles of epic scale and de...</td>\n",
       "      <td>NasseSeta</td>\n",
       "    </tr>\n",
       "    <tr>\n",
       "      <th>4</th>\n",
       "      <td>Diablo III</td>\n",
       "      <td>PC</td>\n",
       "      <td>1</td>\n",
       "      <td>Game looks good and overall i like the graphic...</td>\n",
       "      <td>JamesLFranco</td>\n",
       "    </tr>\n",
       "    <tr>\n",
       "      <th>...</th>\n",
       "      <td>...</td>\n",
       "      <td>...</td>\n",
       "      <td>...</td>\n",
       "      <td>...</td>\n",
       "      <td>...</td>\n",
       "    </tr>\n",
       "    <tr>\n",
       "      <th>14995</th>\n",
       "      <td>Halo: Reach</td>\n",
       "      <td>Xbox360</td>\n",
       "      <td>9</td>\n",
       "      <td>Halo is far superior to it's competition, alwa...</td>\n",
       "      <td>IcyGames</td>\n",
       "    </tr>\n",
       "    <tr>\n",
       "      <th>14996</th>\n",
       "      <td>Uncharted 4: A Thief's End</td>\n",
       "      <td>PlayStation4</td>\n",
       "      <td>10</td>\n",
       "      <td>A Great Game even includes a Crash Bandicoot M...</td>\n",
       "      <td>Daxterman20</td>\n",
       "    </tr>\n",
       "    <tr>\n",
       "      <th>14997</th>\n",
       "      <td>Cuphead</td>\n",
       "      <td>XboxOne</td>\n",
       "      <td>10</td>\n",
       "      <td>Easily one of the best games of the year with ...</td>\n",
       "      <td>simsy</td>\n",
       "    </tr>\n",
       "    <tr>\n",
       "      <th>14998</th>\n",
       "      <td>The Elder Scrolls III: Morrowind</td>\n",
       "      <td>PC</td>\n",
       "      <td>8</td>\n",
       "      <td>This game would easily be 10 out of 10. I've p...</td>\n",
       "      <td>cimerians</td>\n",
       "    </tr>\n",
       "    <tr>\n",
       "      <th>14999</th>\n",
       "      <td>Thief: Deadly Shadows</td>\n",
       "      <td>PC</td>\n",
       "      <td>0</td>\n",
       "      <td>Crashes, crashes, and more crashes. I finishe...</td>\n",
       "      <td>Demo</td>\n",
       "    </tr>\n",
       "  </tbody>\n",
       "</table>\n",
       "<p>15000 rows × 5 columns</p>\n",
       "</div>"
      ],
      "text/plain": [
       "                                  Title      Platform  Userscore  \\\n",
       "0           Super Smash Bros. for Wii U          WiiU          9   \n",
       "1        Zero Escape: Zero Time Dilemma           3DS          8   \n",
       "2                     Metro: Last Light            PC          6   \n",
       "3                          PlanetSide 2            PC          5   \n",
       "4                            Diablo III            PC          1   \n",
       "...                                 ...           ...        ...   \n",
       "14995                       Halo: Reach       Xbox360          9   \n",
       "14996        Uncharted 4: A Thief's End  PlayStation4         10   \n",
       "14997                           Cuphead       XboxOne         10   \n",
       "14998  The Elder Scrolls III: Morrowind            PC          8   \n",
       "14999             Thief: Deadly Shadows            PC          0   \n",
       "\n",
       "                                                 Comment      Username  \n",
       "0      This game is amazing, improves in every aspect...        Zin_49  \n",
       "1      A bunch of bootleg robotic versions of the mai...      Techbane  \n",
       "2      I liked the original this is some innovation b...      gstiker5  \n",
       "3      Planetside 2  has battles of epic scale and de...     NasseSeta  \n",
       "4      Game looks good and overall i like the graphic...  JamesLFranco  \n",
       "...                                                  ...           ...  \n",
       "14995  Halo is far superior to it's competition, alwa...      IcyGames  \n",
       "14996  A Great Game even includes a Crash Bandicoot M...   Daxterman20  \n",
       "14997  Easily one of the best games of the year with ...         simsy  \n",
       "14998  This game would easily be 10 out of 10. I've p...     cimerians  \n",
       "14999   Crashes, crashes, and more crashes. I finishe...          Demo  \n",
       "\n",
       "[15000 rows x 5 columns]"
      ]
     },
     "execution_count": 1,
     "metadata": {},
     "output_type": "execute_result"
    }
   ],
   "source": [
    "# Importing the dataset (15k sample)\n",
    "df = pd.read_csv('Datasets/comments_15ksample.csv', index_col = 0)\n",
    "df"
   ]
  },
  {
   "cell_type": "markdown",
   "metadata": {},
   "source": [
    "## Loading the saved model and most_common words"
   ]
  },
  {
   "cell_type": "code",
   "execution_count": 3,
   "metadata": {},
   "outputs": [],
   "source": [
    "# Loading the trained model on these 15k samples\n",
    "classifier_f = open('Logistic_Regression_15k.pickle', 'rb')\n",
    "classifier = pickle.load(classifier_f)\n",
    "classifier_f.close()\n",
    "\n",
    "# Loading the most_common\n",
    "most_common_f = open('most_common_15k.pickle', 'rb')\n",
    "most_common = pickle.load(most_common_f)\n",
    "most_common_f.close()"
   ]
  },
  {
   "cell_type": "markdown",
   "metadata": {},
   "source": [
    "## Plots"
   ]
  },
  {
   "cell_type": "code",
   "execution_count": 12,
   "metadata": {},
   "outputs": [
    {
     "data": {
      "image/png": "[encoded data removed]",
      "text/plain": [
       "<Figure size 576x504 with 1 Axes>"
      ]
     },
     "metadata": {
      "image/png": {
       "height": 436,
       "width": 494
      }
     },
     "output_type": "display_data"
    }
   ],
   "source": [
    "# Getting the avg_scores\n",
    "avg_scores = df.groupby('Title', as_index = False).mean()\n",
    "avg_scores['Userscore'] = avg_scores['Userscore'].apply(lambda x: round(x, 2))\n",
    "\n",
    "avg_scores.hist(color = 'lightblue', grid = False)\n",
    "plt.title('Userscore Distribution');"
   ]
  },
  {
   "cell_type": "code",
   "execution_count": null,
   "metadata": {},
   "outputs": [],
   "source": []
  },
  {
   "cell_type": "code",
   "execution_count": null,
   "metadata": {},
   "outputs": [],
   "source": []
  },
  {
   "cell_type": "code",
   "execution_count": null,
   "metadata": {},
   "outputs": [],
   "source": []
  },
  {
   "cell_type": "code",
   "execution_count": null,
   "metadata": {},
   "outputs": [],
   "source": []
  },
  {
   "cell_type": "code",
   "execution_count": null,
   "metadata": {},
   "outputs": [],
   "source": []
  },
  {
   "cell_type": "code",
   "execution_count": null,
   "metadata": {},
   "outputs": [],
   "source": []
  },
  {
   "cell_type": "markdown",
   "metadata": {},
   "source": [
    "## Predictions Function Demo"
   ]
  },
  {
   "cell_type": "code",
   "execution_count": 94,
   "metadata": {},
   "outputs": [
    {
     "name": "stdout",
     "output_type": "stream",
     "text": [
      "Sentence/Review: I think Ironhack is a good company. They have taught us many things in such a small amount of time. However, I think they should increase the time spent teaching ML/Deep Learning. \n",
      "\n",
      "Based on the input you gave me, I classify the sentiment scores as: \n",
      " - Negative: 0.0 \n",
      " - Neutral: 0.833 \n",
      " - Positive: 0.167\n",
      "\n",
      "After all my intensive training, I evaluate this input as:\n"
     ]
    },
    {
     "data": {
      "text/plain": [
       "'Positive'"
      ]
     },
     "execution_count": 94,
     "metadata": {},
     "output_type": "execute_result"
    }
   ],
   "source": [
    "# Function to make the prediction look fancier :D\n",
    "def predictor(text):\n",
    "    analyzer = SentimentIntensityAnalyzer()\n",
    "    scores = analyzer.polarity_scores(text)\n",
    "    \n",
    "    prediction = find_features(text, most_common)\n",
    "    \n",
    "    print('Sentence/Review:', text, '\\n')\n",
    "    \n",
    "    print('Based on the input you gave me, I classify the sentiment scores as:', \n",
    "          '\\n - Negative:', scores['neg'], '\\n - Neutral:', scores['neu'], '\\n - Positive:', scores['pos'])\n",
    "    \n",
    "    print('\\nAfter all my intensive training, I evaluate this input as:')#, classifier.classify(prediction))\n",
    "    \n",
    "    if (scores['neg'] > scores['pos']) and (classifier.classify(prediction) == 'Positive'):\n",
    "        return 'Negative'\n",
    "    else:\n",
    "        return classifier.classify(prediction)\n",
    "        \n",
    "    \n",
    "    #return classifier.classify(prediction)\n",
    "\n",
    "predictor('I think Ironhack is a good company. They have taught us many things in such a small amount of time.\\\n",
    " However, I think they should increase the time spent teaching ML/Deep Learning.')"
   ]
  },
  {
   "cell_type": "code",
   "execution_count": null,
   "metadata": {},
   "outputs": [],
   "source": []
  },
  {
   "cell_type": "code",
   "execution_count": null,
   "metadata": {},
   "outputs": [],
   "source": []
  }
 ],
 "metadata": {
  "kernelspec": {
   "display_name": "Python 3",
   "language": "python",
   "name": "python3"
  },
  "language_info": {
   "codemirror_mode": {
    "name": "ipython",
    "version": 3
   },
   "file_extension": ".py",
   "mimetype": "text/x-python",
   "name": "python",
   "nbconvert_exporter": "python",
   "pygments_lexer": "ipython3",
   "version": "3.7.5"
  }
 },
 "nbformat": 4,
 "nbformat_minor": 4
}

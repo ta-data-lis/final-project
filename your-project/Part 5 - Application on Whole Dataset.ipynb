{
 "cells": [
  {
   "cell_type": "markdown",
   "metadata": {},
   "source": [
    "# Application of chosen model on whole dataset"
   ]
  },
  {
   "cell_type": "markdown",
   "metadata": {},
   "source": [
    "## Imports and setup"
   ]
  },
  {
   "cell_type": "code",
   "execution_count": 6,
   "metadata": {},
   "outputs": [],
   "source": [
    "# Importing libraries\n",
    "import pandas as pd\n",
    "import numpy as np\n",
    "from collections import Counter\n",
    "import pickle\n",
    "\n",
    "import nltk\n",
    "from nltk.probability import FreqDist\n",
    "from nltk.classify.scikitlearn import SklearnClassifier\n",
    "from nltk.metrics import ConfusionMatrix\n",
    "\n",
    "from sklearn.linear_model import LogisticRegression\n",
    "\n",
    "# My own functions\n",
    "from NLP_Functions import find_features, make_matrix, clean_up, tokenize, stem_and_lemmatize, remove_stopwords"
   ]
  },
  {
   "cell_type": "code",
   "execution_count": 7,
   "metadata": {},
   "outputs": [],
   "source": [
    "# Importing the dataset\n",
    "df = pd.read_csv('Datasets/games_comments_cleaned.csv', index_col = 0)"
   ]
  },
  {
   "cell_type": "markdown",
   "metadata": {},
   "source": [
    "# Preparing the dataset"
   ]
  },
  {
   "cell_type": "markdown",
   "metadata": {},
   "source": [
    "## Creating 'Target' column"
   ]
  },
  {
   "cell_type": "markdown",
   "metadata": {},
   "source": [
    "I will be using the 'Target' column, but I decided to create the Target_NPS one as well just to see how different they would be in the total dataset."
   ]
  },
  {
   "cell_type": "code",
   "execution_count": 8,
   "metadata": {},
   "outputs": [
    {
     "name": "stdout",
     "output_type": "stream",
     "text": [
      "Positive    164629\n",
      "Negative    117572\n",
      "Name: Target, dtype: int64\n"
     ]
    },
    {
     "data": {
      "text/plain": [
       "Positive    164629\n",
       "Negative     70385\n",
       "Neutral      47187\n",
       "Name: Target_NPS, dtype: int64"
      ]
     },
     "execution_count": 8,
     "metadata": {},
     "output_type": "execute_result"
    }
   ],
   "source": [
    "# Creating the 'Target' column\n",
    "## 9-10 positive\n",
    "## 8 and below negative\n",
    "df['Target'] = np.where((df['Userscore'] <= 8), 'Negative', 'Positive')\n",
    "\n",
    "# Creating the 'Target_NPS' column\n",
    "## NPS Scale - https://en.wikipedia.org/wiki/Net_Promoter\n",
    "## 9-10 = positive\n",
    "## 7-8 = neutral\n",
    "## 0-6 = negative\n",
    "df['Target_NPS'] = np.where((df['Userscore'] <= 6), 'Negative', 'Positive')\n",
    "df['Target_NPS'] = np.where(((df['Userscore'] >= 7) & (df['Userscore'] <= 8)), 'Neutral', df['Target_NPS'])\n",
    "\n",
    "# Checking the different proportion of values\n",
    "## unsure if I should balance these or not\n",
    "print(df['Target'].value_counts())\n",
    "df['Target_NPS'].value_counts()"
   ]
  },
  {
   "cell_type": "markdown",
   "metadata": {},
   "source": [
    "## Processing the comments"
   ]
  },
  {
   "cell_type": "code",
   "execution_count": 9,
   "metadata": {},
   "outputs": [],
   "source": [
    "# Creating the 'Comments_Processed' column\n",
    "df['Comments_Processed'] = df['Comment'].apply(lambda x: remove_stopwords(stem_and_lemmatize(tokenize(clean_up(x)))))\n",
    "## this took 25 mins to run..."
   ]
  },
  {
   "cell_type": "code",
   "execution_count": 10,
   "metadata": {},
   "outputs": [
    {
     "data": {
      "text/html": [
       "<div>\n",
       "<style scoped>\n",
       "    .dataframe tbody tr th:only-of-type {\n",
       "        vertical-align: middle;\n",
       "    }\n",
       "\n",
       "    .dataframe tbody tr th {\n",
       "        vertical-align: top;\n",
       "    }\n",
       "\n",
       "    .dataframe thead th {\n",
       "        text-align: right;\n",
       "    }\n",
       "</style>\n",
       "<table border=\"1\" class=\"dataframe\">\n",
       "  <thead>\n",
       "    <tr style=\"text-align: right;\">\n",
       "      <th></th>\n",
       "      <th>Title</th>\n",
       "      <th>Platform</th>\n",
       "      <th>Userscore</th>\n",
       "      <th>Comment</th>\n",
       "      <th>Username</th>\n",
       "      <th>Target</th>\n",
       "      <th>Target_NPS</th>\n",
       "      <th>Comments_Processed</th>\n",
       "    </tr>\n",
       "  </thead>\n",
       "  <tbody>\n",
       "    <tr>\n",
       "      <th>0</th>\n",
       "      <td>The Legend of Zelda: Ocarina of Time</td>\n",
       "      <td>Nintendo64</td>\n",
       "      <td>10</td>\n",
       "      <td>Everything in OoT is so near at perfection, it...</td>\n",
       "      <td>SirCaestus</td>\n",
       "      <td>Positive</td>\n",
       "      <td>Positive</td>\n",
       "      <td>[everyth, oot, near, perfect, realli, wonder, ...</td>\n",
       "    </tr>\n",
       "    <tr>\n",
       "      <th>1</th>\n",
       "      <td>The Legend of Zelda: Ocarina of Time</td>\n",
       "      <td>Nintendo64</td>\n",
       "      <td>10</td>\n",
       "      <td>I won't bore you with what everyone is already...</td>\n",
       "      <td>Kaistlin</td>\n",
       "      <td>Positive</td>\n",
       "      <td>Positive</td>\n",
       "      <td>[bore, everyon, alreadi, say, amaz, thi, game,...</td>\n",
       "    </tr>\n",
       "    <tr>\n",
       "      <th>2</th>\n",
       "      <td>The Legend of Zelda: Ocarina of Time</td>\n",
       "      <td>Nintendo64</td>\n",
       "      <td>10</td>\n",
       "      <td>Anyone who gives the masterpiece below a 7 or ...</td>\n",
       "      <td>Jacody</td>\n",
       "      <td>Positive</td>\n",
       "      <td>Positive</td>\n",
       "      <td>[anyon, give, masterpiec, either, hate, astoun...</td>\n",
       "    </tr>\n",
       "    <tr>\n",
       "      <th>3</th>\n",
       "      <td>The Legend of Zelda: Ocarina of Time</td>\n",
       "      <td>Nintendo64</td>\n",
       "      <td>10</td>\n",
       "      <td>I'm one of those people who think that this is...</td>\n",
       "      <td>doodlerman</td>\n",
       "      <td>Positive</td>\n",
       "      <td>Positive</td>\n",
       "      <td>[one, peopl, think, thi, greatest, game, time,...</td>\n",
       "    </tr>\n",
       "    <tr>\n",
       "      <th>4</th>\n",
       "      <td>The Legend of Zelda: Ocarina of Time</td>\n",
       "      <td>Nintendo64</td>\n",
       "      <td>10</td>\n",
       "      <td>This game is the highest rated game on Metacr...</td>\n",
       "      <td>StevenA</td>\n",
       "      <td>Positive</td>\n",
       "      <td>Positive</td>\n",
       "      <td>[thi, game, highest, rate, game, metacrit, goo...</td>\n",
       "    </tr>\n",
       "  </tbody>\n",
       "</table>\n",
       "</div>"
      ],
      "text/plain": [
       "                                  Title    Platform  Userscore  \\\n",
       "0  The Legend of Zelda: Ocarina of Time  Nintendo64         10   \n",
       "1  The Legend of Zelda: Ocarina of Time  Nintendo64         10   \n",
       "2  The Legend of Zelda: Ocarina of Time  Nintendo64         10   \n",
       "3  The Legend of Zelda: Ocarina of Time  Nintendo64         10   \n",
       "4  The Legend of Zelda: Ocarina of Time  Nintendo64         10   \n",
       "\n",
       "                                             Comment    Username    Target  \\\n",
       "0  Everything in OoT is so near at perfection, it...  SirCaestus  Positive   \n",
       "1  I won't bore you with what everyone is already...    Kaistlin  Positive   \n",
       "2  Anyone who gives the masterpiece below a 7 or ...      Jacody  Positive   \n",
       "3  I'm one of those people who think that this is...  doodlerman  Positive   \n",
       "4   This game is the highest rated game on Metacr...     StevenA  Positive   \n",
       "\n",
       "  Target_NPS                                 Comments_Processed  \n",
       "0   Positive  [everyth, oot, near, perfect, realli, wonder, ...  \n",
       "1   Positive  [bore, everyon, alreadi, say, amaz, thi, game,...  \n",
       "2   Positive  [anyon, give, masterpiec, either, hate, astoun...  \n",
       "3   Positive  [one, peopl, think, thi, greatest, game, time,...  \n",
       "4   Positive  [thi, game, highest, rate, game, metacrit, goo...  "
      ]
     },
     "execution_count": 10,
     "metadata": {},
     "output_type": "execute_result"
    }
   ],
   "source": [
    "df.head()"
   ]
  },
  {
   "cell_type": "code",
   "execution_count": 11,
   "metadata": {},
   "outputs": [
    {
     "data": {
      "text/html": [
       "<div>\n",
       "<style scoped>\n",
       "    .dataframe tbody tr th:only-of-type {\n",
       "        vertical-align: middle;\n",
       "    }\n",
       "\n",
       "    .dataframe tbody tr th {\n",
       "        vertical-align: top;\n",
       "    }\n",
       "\n",
       "    .dataframe thead th {\n",
       "        text-align: right;\n",
       "    }\n",
       "</style>\n",
       "<table border=\"1\" class=\"dataframe\">\n",
       "  <thead>\n",
       "    <tr style=\"text-align: right;\">\n",
       "      <th></th>\n",
       "      <th>Title</th>\n",
       "      <th>Platform</th>\n",
       "      <th>Userscore</th>\n",
       "      <th>Comment</th>\n",
       "      <th>Comments_Processed</th>\n",
       "      <th>Username</th>\n",
       "      <th>Target</th>\n",
       "      <th>Target_NPS</th>\n",
       "    </tr>\n",
       "  </thead>\n",
       "  <tbody>\n",
       "    <tr>\n",
       "      <th>0</th>\n",
       "      <td>The Legend of Zelda: Ocarina of Time</td>\n",
       "      <td>Nintendo64</td>\n",
       "      <td>10</td>\n",
       "      <td>Everything in OoT is so near at perfection, it...</td>\n",
       "      <td>[everyth, oot, near, perfect, realli, wonder, ...</td>\n",
       "      <td>SirCaestus</td>\n",
       "      <td>Positive</td>\n",
       "      <td>Positive</td>\n",
       "    </tr>\n",
       "    <tr>\n",
       "      <th>1</th>\n",
       "      <td>The Legend of Zelda: Ocarina of Time</td>\n",
       "      <td>Nintendo64</td>\n",
       "      <td>10</td>\n",
       "      <td>I won't bore you with what everyone is already...</td>\n",
       "      <td>[bore, everyon, alreadi, say, amaz, thi, game,...</td>\n",
       "      <td>Kaistlin</td>\n",
       "      <td>Positive</td>\n",
       "      <td>Positive</td>\n",
       "    </tr>\n",
       "    <tr>\n",
       "      <th>2</th>\n",
       "      <td>The Legend of Zelda: Ocarina of Time</td>\n",
       "      <td>Nintendo64</td>\n",
       "      <td>10</td>\n",
       "      <td>Anyone who gives the masterpiece below a 7 or ...</td>\n",
       "      <td>[anyon, give, masterpiec, either, hate, astoun...</td>\n",
       "      <td>Jacody</td>\n",
       "      <td>Positive</td>\n",
       "      <td>Positive</td>\n",
       "    </tr>\n",
       "    <tr>\n",
       "      <th>3</th>\n",
       "      <td>The Legend of Zelda: Ocarina of Time</td>\n",
       "      <td>Nintendo64</td>\n",
       "      <td>10</td>\n",
       "      <td>I'm one of those people who think that this is...</td>\n",
       "      <td>[one, peopl, think, thi, greatest, game, time,...</td>\n",
       "      <td>doodlerman</td>\n",
       "      <td>Positive</td>\n",
       "      <td>Positive</td>\n",
       "    </tr>\n",
       "    <tr>\n",
       "      <th>4</th>\n",
       "      <td>The Legend of Zelda: Ocarina of Time</td>\n",
       "      <td>Nintendo64</td>\n",
       "      <td>10</td>\n",
       "      <td>This game is the highest rated game on Metacr...</td>\n",
       "      <td>[thi, game, highest, rate, game, metacrit, goo...</td>\n",
       "      <td>StevenA</td>\n",
       "      <td>Positive</td>\n",
       "      <td>Positive</td>\n",
       "    </tr>\n",
       "  </tbody>\n",
       "</table>\n",
       "</div>"
      ],
      "text/plain": [
       "                                  Title    Platform  Userscore  \\\n",
       "0  The Legend of Zelda: Ocarina of Time  Nintendo64         10   \n",
       "1  The Legend of Zelda: Ocarina of Time  Nintendo64         10   \n",
       "2  The Legend of Zelda: Ocarina of Time  Nintendo64         10   \n",
       "3  The Legend of Zelda: Ocarina of Time  Nintendo64         10   \n",
       "4  The Legend of Zelda: Ocarina of Time  Nintendo64         10   \n",
       "\n",
       "                                             Comment  \\\n",
       "0  Everything in OoT is so near at perfection, it...   \n",
       "1  I won't bore you with what everyone is already...   \n",
       "2  Anyone who gives the masterpiece below a 7 or ...   \n",
       "3  I'm one of those people who think that this is...   \n",
       "4   This game is the highest rated game on Metacr...   \n",
       "\n",
       "                                  Comments_Processed    Username    Target  \\\n",
       "0  [everyth, oot, near, perfect, realli, wonder, ...  SirCaestus  Positive   \n",
       "1  [bore, everyon, alreadi, say, amaz, thi, game,...    Kaistlin  Positive   \n",
       "2  [anyon, give, masterpiec, either, hate, astoun...      Jacody  Positive   \n",
       "3  [one, peopl, think, thi, greatest, game, time,...  doodlerman  Positive   \n",
       "4  [thi, game, highest, rate, game, metacrit, goo...     StevenA  Positive   \n",
       "\n",
       "  Target_NPS  \n",
       "0   Positive  \n",
       "1   Positive  \n",
       "2   Positive  \n",
       "3   Positive  \n",
       "4   Positive  "
      ]
     },
     "execution_count": 11,
     "metadata": {},
     "output_type": "execute_result"
    }
   ],
   "source": [
    "# Rearring the columns order to be prettier\n",
    "cols = df.columns.tolist()\n",
    "df = df[['Title', 'Platform', 'Userscore', 'Comment', 'Comments_Processed', 'Username', 'Target', 'Target_NPS']]\n",
    "df.head()"
   ]
  },
  {
   "cell_type": "code",
   "execution_count": 12,
   "metadata": {},
   "outputs": [],
   "source": [
    "# Exporting the DF now just to be safe!\n",
    "df.to_json('Datasets/comments_processed.json')"
   ]
  },
  {
   "cell_type": "markdown",
   "metadata": {},
   "source": [
    "## Initializing the basic variables for the model"
   ]
  },
  {
   "cell_type": "code",
   "execution_count": null,
   "metadata": {},
   "outputs": [],
   "source": [
    "# Creating the bag of words\n",
    "bow = [word for lst in df['Comments_Processed'] for word in lst]\n",
    "fdist = FreqDist(bow)\n",
    "\n",
    "# Getting just the 10k most common words\n",
    "most_common = fdist.most_common(10000)  # wonder if I should change this value around or not (trying w/ 10k this time)\n",
    "\n",
    "'''FOR THE TARGET COLUMN'''\n",
    "# Building the features and making the matrix\n",
    "matrix = make_matrix(df['Comment'], df['Target'], most_common)\n",
    "\n",
    "# Defining the size to use for the training and testing\n",
    "size = int(len(matrix) * 0.20)\n",
    "\n",
    "# Training with 80% of the data and testing against the remaining 20%\n",
    "training_set = matrix[size:]\n",
    "testing_set = matrix[:size]"
   ]
  },
  {
   "cell_type": "markdown",
   "metadata": {},
   "source": [
    "## Logistic Regression Model Application"
   ]
  },
  {
   "cell_type": "code",
   "execution_count": null,
   "metadata": {},
   "outputs": [],
   "source": [
    "# TESTING WITH TARGET\n",
    "LogisticRegression_classifier = SklearnClassifier(LogisticRegression(solver = 'saga', n_jobs = -1))\n",
    "LogisticRegression_classifier.train(training_set)\n",
    "# saga solver = 78.7%\n",
    "\n",
    "print('Logistic Regression accuracy (Target):', \n",
    "      str(round(nltk.classify.accuracy(LogisticRegression_classifier, testing_set) * 100, 2)) + '%')"
   ]
  },
  {
   "cell_type": "markdown",
   "metadata": {},
   "source": [
    "## Confusion Matrix"
   ]
  },
  {
   "cell_type": "code",
   "execution_count": null,
   "metadata": {},
   "outputs": [],
   "source": [
    "# Predictions of the testing_set with the Target column\n",
    "pred_list_LR = [LogisticRegression_classifier.classify(testing_set[i][0]) for i in range(len(testing_set))]\n",
    "print(pred_list_LR.count('Positive'))  # 1809\n",
    "print(pred_list_LR.count('Negative'))  # 1191"
   ]
  },
  {
   "cell_type": "code",
   "execution_count": null,
   "metadata": {},
   "outputs": [],
   "source": [
    "# Unpacking the references (Positive or Negative) of the testing set to use for the confusion matrix\n",
    "ref = [testing_set[i][1] for i in range(len(testing_set))]  # pos: 1748 | neg: 1258\n",
    "\n",
    "# List of predictions ran above\n",
    "tagged = pred_list_LR\n",
    "\n",
    "# The actual confusion matrix\n",
    "cm = ConfusionMatrix(ref, tagged)\n",
    "\n",
    "print(cm)\n",
    "cm\n",
    "\n",
    "labels = set('Positive Negative'.split())\n",
    "\n",
    "true_positives = Counter()\n",
    "false_negatives = Counter()\n",
    "false_positives = Counter()\n",
    "\n",
    "for i in labels:\n",
    "    for j in labels:\n",
    "        if i == j:\n",
    "            true_positives[i] += cm[i, j]\n",
    "        else:\n",
    "            false_negatives[i] += cm[i, j]\n",
    "            false_positives[j] += cm[i, j]\n",
    "\n",
    "# This seems to be the best model as the accuracy already predicted\n",
    "print('TP + TN:', sum(true_positives.values()), true_positives)\n",
    "print('FP + FN:', sum(false_positives.values()), false_positives)"
   ]
  },
  {
   "cell_type": "markdown",
   "metadata": {},
   "source": [
    "## Function to Predict a Review's Label"
   ]
  },
  {
   "cell_type": "code",
   "execution_count": null,
   "metadata": {},
   "outputs": [],
   "source": [
    "def predictor(text):\n",
    "    prediction = find_features(text, most_common)\n",
    "    return print('Prediction:', LogisticRegression_classifier.classify(prediction))\n",
    "\n",
    "predictor('This game is amazing!')\n",
    "predictor('This game is terrible.')"
   ]
  },
  {
   "cell_type": "markdown",
   "metadata": {},
   "source": [
    "## Exporting Files for Future Use"
   ]
  },
  {
   "cell_type": "code",
   "execution_count": null,
   "metadata": {},
   "outputs": [],
   "source": [
    "# Saving the 5k most_common words of this whole DF\n",
    "save_most_common = open('5k_most_common_final.pickle', 'wb')\n",
    "pickle.dump(most_common, save_most_common)\n",
    "save_most_common.close()"
   ]
  },
  {
   "cell_type": "code",
   "execution_count": null,
   "metadata": {},
   "outputs": [],
   "source": [
    "# Saving the trained LR algorithm\n",
    "save_classifier = open('Logistic_Regression_final.pickle', 'wb')\n",
    "pickle.dump(LogisticRegression_classifier, save_classifier)\n",
    "save_classifier.close()"
   ]
  }
 ],
 "metadata": {
  "kernelspec": {
   "display_name": "Python 3",
   "language": "python",
   "name": "python3"
  },
  "language_info": {
   "codemirror_mode": {
    "name": "ipython",
    "version": 3
   },
   "file_extension": ".py",
   "mimetype": "text/x-python",
   "name": "python",
   "nbconvert_exporter": "python",
   "pygments_lexer": "ipython3",
   "version": "3.7.5"
  }
 },
 "nbformat": 4,
 "nbformat_minor": 4
}

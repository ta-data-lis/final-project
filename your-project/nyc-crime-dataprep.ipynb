{
 "cells": [
  {
   "cell_type": "markdown",
   "metadata": {},
   "source": [
    "# NYC Crime Data Cleaning"
   ]
  },
  {
   "cell_type": "code",
   "execution_count": 42,
   "metadata": {},
   "outputs": [],
   "source": [
    "import pandas as pd\n",
    "import datetime as dt\n",
    "import matplotlib.pyplot as plt"
   ]
  },
  {
   "cell_type": "code",
   "execution_count": 43,
   "metadata": {},
   "outputs": [],
   "source": [
    "path = 'C:/Users/Zaca/Documents/Datasets/nyc/'"
   ]
  },
  {
   "cell_type": "code",
   "execution_count": 44,
   "metadata": {},
   "outputs": [
    {
     "data": {
      "text/html": [
       "<div>\n",
       "<style scoped>\n",
       "    .dataframe tbody tr th:only-of-type {\n",
       "        vertical-align: middle;\n",
       "    }\n",
       "\n",
       "    .dataframe tbody tr th {\n",
       "        vertical-align: top;\n",
       "    }\n",
       "\n",
       "    .dataframe thead th {\n",
       "        text-align: right;\n",
       "    }\n",
       "</style>\n",
       "<table border=\"1\" class=\"dataframe\">\n",
       "  <thead>\n",
       "    <tr style=\"text-align: right;\">\n",
       "      <th></th>\n",
       "      <th>name</th>\n",
       "      <th>description</th>\n",
       "      <th>rename</th>\n",
       "    </tr>\n",
       "  </thead>\n",
       "  <tbody>\n",
       "    <tr>\n",
       "      <td>0</td>\n",
       "      <td>CMPLNT_FR_DT</td>\n",
       "      <td>Exact date of occurrence for the reported event</td>\n",
       "      <td>date</td>\n",
       "    </tr>\n",
       "    <tr>\n",
       "      <td>1</td>\n",
       "      <td>CMPLNT_FR_TM</td>\n",
       "      <td>Exact time of occurrence for the reported event</td>\n",
       "      <td>time</td>\n",
       "    </tr>\n",
       "    <tr>\n",
       "      <td>2</td>\n",
       "      <td>ADDR_PCT_CD</td>\n",
       "      <td>The precinct in which the incident occurred</td>\n",
       "      <td>precinct</td>\n",
       "    </tr>\n",
       "    <tr>\n",
       "      <td>3</td>\n",
       "      <td>KY_CD</td>\n",
       "      <td>Three digit offense classification code</td>\n",
       "      <td>class_code</td>\n",
       "    </tr>\n",
       "    <tr>\n",
       "      <td>4</td>\n",
       "      <td>OFNS_DESC</td>\n",
       "      <td>Description of offense corresponding with key ...</td>\n",
       "      <td>description</td>\n",
       "    </tr>\n",
       "    <tr>\n",
       "      <td>5</td>\n",
       "      <td>LAW_CAT_CD</td>\n",
       "      <td>Level of offense: felony misdemeanor violation</td>\n",
       "      <td>level</td>\n",
       "    </tr>\n",
       "    <tr>\n",
       "      <td>6</td>\n",
       "      <td>BORO_NM</td>\n",
       "      <td>The name of the borough in which the incident ...</td>\n",
       "      <td>borough</td>\n",
       "    </tr>\n",
       "    <tr>\n",
       "      <td>7</td>\n",
       "      <td>PREM_TYP_DESC</td>\n",
       "      <td>Specific description of premises (grocery stor...</td>\n",
       "      <td>premises</td>\n",
       "    </tr>\n",
       "    <tr>\n",
       "      <td>8</td>\n",
       "      <td>Lat_Lon</td>\n",
       "      <td>Geospatial Location Point (latitude and Longit...</td>\n",
       "      <td>geo</td>\n",
       "    </tr>\n",
       "  </tbody>\n",
       "</table>\n",
       "</div>"
      ],
      "text/plain": [
       "            name                                        description  \\\n",
       "0   CMPLNT_FR_DT    Exact date of occurrence for the reported event   \n",
       "1   CMPLNT_FR_TM    Exact time of occurrence for the reported event   \n",
       "2    ADDR_PCT_CD        The precinct in which the incident occurred   \n",
       "3          KY_CD            Three digit offense classification code   \n",
       "4      OFNS_DESC  Description of offense corresponding with key ...   \n",
       "5     LAW_CAT_CD     Level of offense: felony misdemeanor violation   \n",
       "6        BORO_NM  The name of the borough in which the incident ...   \n",
       "7  PREM_TYP_DESC  Specific description of premises (grocery stor...   \n",
       "8        Lat_Lon  Geospatial Location Point (latitude and Longit...   \n",
       "\n",
       "        rename  \n",
       "0         date  \n",
       "1         time  \n",
       "2     precinct  \n",
       "3   class_code  \n",
       "4  description  \n",
       "5        level  \n",
       "6      borough  \n",
       "7     premises  \n",
       "8          geo  "
      ]
     },
     "execution_count": 44,
     "metadata": {},
     "output_type": "execute_result"
    }
   ],
   "source": [
    "# To save memory:\n",
    "# I have already pre-preared a text file containing the columns I think are most relevant.\n",
    "selected_cols = pd.read_csv(path + 'crime_selected_cols.txt')\n",
    "selected_cols"
   ]
  },
  {
   "cell_type": "code",
   "execution_count": 45,
   "metadata": {
    "scrolled": true
   },
   "outputs": [],
   "source": [
    "crime = pd.read_csv(path + 'nypd_historic.csv', usecols=selected_cols['name'])"
   ]
  },
  {
   "cell_type": "code",
   "execution_count": 46,
   "metadata": {},
   "outputs": [],
   "source": [
    "# change column names\n",
    "crime.columns = selected_cols['rename']"
   ]
  },
  {
   "cell_type": "code",
   "execution_count": 47,
   "metadata": {},
   "outputs": [
    {
     "data": {
      "text/plain": [
       "(6847944, 9)"
      ]
     },
     "execution_count": 47,
     "metadata": {},
     "output_type": "execute_result"
    }
   ],
   "source": [
    "# re-checking the size of our dataset\n",
    "crime.shape"
   ]
  },
  {
   "cell_type": "code",
   "execution_count": 48,
   "metadata": {},
   "outputs": [
    {
     "data": {
      "text/plain": [
       "rename\n",
       "date            object\n",
       "time            object\n",
       "precinct       float64\n",
       "class_code       int64\n",
       "description     object\n",
       "level           object\n",
       "borough         object\n",
       "premises        object\n",
       "geo             object\n",
       "dtype: object"
      ]
     },
     "execution_count": 48,
     "metadata": {},
     "output_type": "execute_result"
    }
   ],
   "source": [
    "# look at dtypes\n",
    "crime.dtypes"
   ]
  },
  {
   "cell_type": "code",
   "execution_count": 49,
   "metadata": {},
   "outputs": [],
   "source": [
    "# change to appropriate dtypes\n",
    "crime.date = pd.to_datetime(crime.date, errors='coerce')"
   ]
  },
  {
   "cell_type": "code",
   "execution_count": 50,
   "metadata": {},
   "outputs": [],
   "source": [
    "crime.time = pd.to_datetime(crime.time, errors='coerce').dt.hour"
   ]
  },
  {
   "cell_type": "code",
   "execution_count": 51,
   "metadata": {},
   "outputs": [],
   "source": [
    "# I have tons of data, might as well just drop nas.\n",
    "crime.isna().sum()\n",
    "crime.dropna(inplace=True)"
   ]
  },
  {
   "cell_type": "code",
   "execution_count": 52,
   "metadata": {},
   "outputs": [],
   "source": [
    "crime.time = crime.time.astype('int64')"
   ]
  },
  {
   "cell_type": "code",
   "execution_count": 53,
   "metadata": {},
   "outputs": [],
   "source": [
    "# clean / filter data by complete years\n",
    "crime = crime[(crime.date > '01-01-2007') & (crime.date < '01-01-2019')]"
   ]
  },
  {
   "cell_type": "code",
   "execution_count": 54,
   "metadata": {},
   "outputs": [],
   "source": [
    "# transform precinct column to int\n",
    "crime['precinct'] = crime.precinct.astype('int64')"
   ]
  },
  {
   "cell_type": "code",
   "execution_count": 55,
   "metadata": {},
   "outputs": [
    {
     "data": {
      "text/plain": [
       "0.9845345980221958"
      ]
     },
     "execution_count": 55,
     "metadata": {},
     "output_type": "execute_result"
    }
   ],
   "source": [
    "# lets clean up the categorical data\n",
    "# get top crimes\n",
    "crime['description'].value_counts()[:25].sum()/crime.shape[0]"
   ]
  },
  {
   "cell_type": "code",
   "execution_count": 56,
   "metadata": {},
   "outputs": [],
   "source": [
    "# decrease the number of crime categories by only taking the top 25 crimes\n",
    "# taking the top 25 already includes 98% of data.\n",
    "top_crimes = list(crime['description'].value_counts()[:25].index)\n",
    "crime = crime.loc[crime['description'].isin(top_crimes)]"
   ]
  },
  {
   "cell_type": "code",
   "execution_count": 57,
   "metadata": {},
   "outputs": [
    {
     "data": {
      "text/plain": [
       "0.9751700758695472"
      ]
     },
     "execution_count": 57,
     "metadata": {},
     "output_type": "execute_result"
    }
   ],
   "source": [
    "crime.premises.value_counts()[:35].sum()/crime.shape[0]"
   ]
  },
  {
   "cell_type": "code",
   "execution_count": 58,
   "metadata": {},
   "outputs": [],
   "source": [
    "# get top premises\n",
    "top_premises = crime.premises.value_counts()[:35].index\n",
    "crime = crime.loc[crime['premises'].isin(top_premises)]"
   ]
  },
  {
   "cell_type": "code",
   "execution_count": 59,
   "metadata": {
    "scrolled": true
   },
   "outputs": [
    {
     "data": {
      "text/html": [
       "<div>\n",
       "<style scoped>\n",
       "    .dataframe tbody tr th:only-of-type {\n",
       "        vertical-align: middle;\n",
       "    }\n",
       "\n",
       "    .dataframe tbody tr th {\n",
       "        vertical-align: top;\n",
       "    }\n",
       "\n",
       "    .dataframe thead th {\n",
       "        text-align: right;\n",
       "    }\n",
       "</style>\n",
       "<table border=\"1\" class=\"dataframe\">\n",
       "  <thead>\n",
       "    <tr style=\"text-align: right;\">\n",
       "      <th>rename</th>\n",
       "      <th>date</th>\n",
       "      <th>time</th>\n",
       "      <th>precinct</th>\n",
       "      <th>class_code</th>\n",
       "      <th>description</th>\n",
       "      <th>level</th>\n",
       "      <th>borough</th>\n",
       "      <th>premises</th>\n",
       "      <th>geo</th>\n",
       "    </tr>\n",
       "  </thead>\n",
       "  <tbody>\n",
       "    <tr>\n",
       "      <td>2852631</td>\n",
       "      <td>2007-01-02</td>\n",
       "      <td>19</td>\n",
       "      <td>60</td>\n",
       "      <td>107</td>\n",
       "      <td>BURGLARY</td>\n",
       "      <td>FELONY</td>\n",
       "      <td>BROOKLYN</td>\n",
       "      <td>RESIDENCE-HOUSE</td>\n",
       "      <td>(40.580328925, -74.00746422)</td>\n",
       "    </tr>\n",
       "    <tr>\n",
       "      <td>2228914</td>\n",
       "      <td>2007-01-02</td>\n",
       "      <td>15</td>\n",
       "      <td>40</td>\n",
       "      <td>352</td>\n",
       "      <td>CRIMINAL TRESPASS</td>\n",
       "      <td>MISDEMEANOR</td>\n",
       "      <td>BRONX</td>\n",
       "      <td>RESIDENCE - APT. HOUSE</td>\n",
       "      <td>(40.807513876, -73.917016572)</td>\n",
       "    </tr>\n",
       "    <tr>\n",
       "      <td>518119</td>\n",
       "      <td>2007-01-02</td>\n",
       "      <td>12</td>\n",
       "      <td>1</td>\n",
       "      <td>109</td>\n",
       "      <td>GRAND LARCENY</td>\n",
       "      <td>FELONY</td>\n",
       "      <td>MANHATTAN</td>\n",
       "      <td>GYM/FITNESS FACILITY</td>\n",
       "      <td>(40.707321602, -74.010966266)</td>\n",
       "    </tr>\n",
       "    <tr>\n",
       "      <td>1937010</td>\n",
       "      <td>2007-01-02</td>\n",
       "      <td>18</td>\n",
       "      <td>112</td>\n",
       "      <td>109</td>\n",
       "      <td>GRAND LARCENY</td>\n",
       "      <td>FELONY</td>\n",
       "      <td>QUEENS</td>\n",
       "      <td>STREET</td>\n",
       "      <td>(40.725310425, -73.844377945)</td>\n",
       "    </tr>\n",
       "    <tr>\n",
       "      <td>2334034</td>\n",
       "      <td>2007-01-02</td>\n",
       "      <td>17</td>\n",
       "      <td>14</td>\n",
       "      <td>107</td>\n",
       "      <td>BURGLARY</td>\n",
       "      <td>FELONY</td>\n",
       "      <td>MANHATTAN</td>\n",
       "      <td>DEPARTMENT STORE</td>\n",
       "      <td>(40.750430768, -73.989282176)</td>\n",
       "    </tr>\n",
       "    <tr>\n",
       "      <td>...</td>\n",
       "      <td>...</td>\n",
       "      <td>...</td>\n",
       "      <td>...</td>\n",
       "      <td>...</td>\n",
       "      <td>...</td>\n",
       "      <td>...</td>\n",
       "      <td>...</td>\n",
       "      <td>...</td>\n",
       "      <td>...</td>\n",
       "    </tr>\n",
       "    <tr>\n",
       "      <td>3831873</td>\n",
       "      <td>2018-12-31</td>\n",
       "      <td>13</td>\n",
       "      <td>110</td>\n",
       "      <td>341</td>\n",
       "      <td>PETIT LARCENY</td>\n",
       "      <td>MISDEMEANOR</td>\n",
       "      <td>QUEENS</td>\n",
       "      <td>FAST FOOD</td>\n",
       "      <td>(40.74710919000006, -73.88384204599998)</td>\n",
       "    </tr>\n",
       "    <tr>\n",
       "      <td>3831878</td>\n",
       "      <td>2018-12-31</td>\n",
       "      <td>18</td>\n",
       "      <td>88</td>\n",
       "      <td>110</td>\n",
       "      <td>GRAND LARCENY OF MOTOR VEHICLE</td>\n",
       "      <td>FELONY</td>\n",
       "      <td>BROOKLYN</td>\n",
       "      <td>PARKING LOT/GARAGE (PUBLIC)</td>\n",
       "      <td>(40.69022360400004, -73.96027858599997)</td>\n",
       "    </tr>\n",
       "    <tr>\n",
       "      <td>3831882</td>\n",
       "      <td>2018-12-31</td>\n",
       "      <td>15</td>\n",
       "      <td>60</td>\n",
       "      <td>351</td>\n",
       "      <td>CRIMINAL MISCHIEF &amp; RELATED OF</td>\n",
       "      <td>MISDEMEANOR</td>\n",
       "      <td>BROOKLYN</td>\n",
       "      <td>STREET</td>\n",
       "      <td>(40.57238821200008, -73.992625934)</td>\n",
       "    </tr>\n",
       "    <tr>\n",
       "      <td>3346201</td>\n",
       "      <td>2018-12-31</td>\n",
       "      <td>3</td>\n",
       "      <td>84</td>\n",
       "      <td>113</td>\n",
       "      <td>FORGERY</td>\n",
       "      <td>FELONY</td>\n",
       "      <td>BROOKLYN</td>\n",
       "      <td>STREET</td>\n",
       "      <td>(40.694821241, -73.983265199)</td>\n",
       "    </tr>\n",
       "    <tr>\n",
       "      <td>3828985</td>\n",
       "      <td>2018-12-31</td>\n",
       "      <td>16</td>\n",
       "      <td>115</td>\n",
       "      <td>236</td>\n",
       "      <td>DANGEROUS WEAPONS</td>\n",
       "      <td>MISDEMEANOR</td>\n",
       "      <td>QUEENS</td>\n",
       "      <td>OTHER</td>\n",
       "      <td>(40.756594678000056, -73.87560301799994)</td>\n",
       "    </tr>\n",
       "  </tbody>\n",
       "</table>\n",
       "<p>5667511 rows × 9 columns</p>\n",
       "</div>"
      ],
      "text/plain": [
       "rename        date  time  precinct  class_code  \\\n",
       "2852631 2007-01-02    19        60         107   \n",
       "2228914 2007-01-02    15        40         352   \n",
       "518119  2007-01-02    12         1         109   \n",
       "1937010 2007-01-02    18       112         109   \n",
       "2334034 2007-01-02    17        14         107   \n",
       "...            ...   ...       ...         ...   \n",
       "3831873 2018-12-31    13       110         341   \n",
       "3831878 2018-12-31    18        88         110   \n",
       "3831882 2018-12-31    15        60         351   \n",
       "3346201 2018-12-31     3        84         113   \n",
       "3828985 2018-12-31    16       115         236   \n",
       "\n",
       "rename                      description        level    borough  \\\n",
       "2852631                        BURGLARY       FELONY   BROOKLYN   \n",
       "2228914               CRIMINAL TRESPASS  MISDEMEANOR      BRONX   \n",
       "518119                    GRAND LARCENY       FELONY  MANHATTAN   \n",
       "1937010                   GRAND LARCENY       FELONY     QUEENS   \n",
       "2334034                        BURGLARY       FELONY  MANHATTAN   \n",
       "...                                 ...          ...        ...   \n",
       "3831873                   PETIT LARCENY  MISDEMEANOR     QUEENS   \n",
       "3831878  GRAND LARCENY OF MOTOR VEHICLE       FELONY   BROOKLYN   \n",
       "3831882  CRIMINAL MISCHIEF & RELATED OF  MISDEMEANOR   BROOKLYN   \n",
       "3346201                         FORGERY       FELONY   BROOKLYN   \n",
       "3828985               DANGEROUS WEAPONS  MISDEMEANOR     QUEENS   \n",
       "\n",
       "rename                      premises                                       geo  \n",
       "2852631              RESIDENCE-HOUSE              (40.580328925, -74.00746422)  \n",
       "2228914       RESIDENCE - APT. HOUSE             (40.807513876, -73.917016572)  \n",
       "518119          GYM/FITNESS FACILITY             (40.707321602, -74.010966266)  \n",
       "1937010                       STREET             (40.725310425, -73.844377945)  \n",
       "2334034             DEPARTMENT STORE             (40.750430768, -73.989282176)  \n",
       "...                              ...                                       ...  \n",
       "3831873                    FAST FOOD   (40.74710919000006, -73.88384204599998)  \n",
       "3831878  PARKING LOT/GARAGE (PUBLIC)   (40.69022360400004, -73.96027858599997)  \n",
       "3831882                       STREET        (40.57238821200008, -73.992625934)  \n",
       "3346201                       STREET             (40.694821241, -73.983265199)  \n",
       "3828985                        OTHER  (40.756594678000056, -73.87560301799994)  \n",
       "\n",
       "[5667511 rows x 9 columns]"
      ]
     },
     "execution_count": 59,
     "metadata": {},
     "output_type": "execute_result"
    }
   ],
   "source": [
    "crime.sort_values('date')"
   ]
  },
  {
   "cell_type": "code",
   "execution_count": 60,
   "metadata": {},
   "outputs": [],
   "source": [
    "crime.to_csv(path + 'nypd_historic_07-18.csv')"
   ]
  }
 ],
 "metadata": {
  "kernelspec": {
   "display_name": "Python 3",
   "language": "python",
   "name": "python3"
  },
  "language_info": {
   "codemirror_mode": {
    "name": "ipython",
    "version": 3
   },
   "file_extension": ".py",
   "mimetype": "text/x-python",
   "name": "python",
   "nbconvert_exporter": "python",
   "pygments_lexer": "ipython3",
   "version": "3.7.4"
  }
 },
 "nbformat": 4,
 "nbformat_minor": 2
}

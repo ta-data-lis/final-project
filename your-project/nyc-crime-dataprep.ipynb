{
 "cells": [
  {
   "cell_type": "markdown",
   "metadata": {},
   "source": [
    "# NYC Crime Data Cleaning"
   ]
  },
  {
   "cell_type": "code",
   "execution_count": 1,
   "metadata": {},
   "outputs": [],
   "source": [
    "import pandas as pd\n",
    "import datetime as dt\n",
    "import matplotlib.pyplot as plt"
   ]
  },
  {
   "cell_type": "code",
   "execution_count": 2,
   "metadata": {},
   "outputs": [],
   "source": [
    "path = 'C:/Users/Zaca/Documents/Datasets/nyc/'"
   ]
  },
  {
   "cell_type": "code",
   "execution_count": 3,
   "metadata": {},
   "outputs": [
    {
     "data": {
      "text/html": [
       "<div>\n",
       "<style scoped>\n",
       "    .dataframe tbody tr th:only-of-type {\n",
       "        vertical-align: middle;\n",
       "    }\n",
       "\n",
       "    .dataframe tbody tr th {\n",
       "        vertical-align: top;\n",
       "    }\n",
       "\n",
       "    .dataframe thead th {\n",
       "        text-align: right;\n",
       "    }\n",
       "</style>\n",
       "<table border=\"1\" class=\"dataframe\">\n",
       "  <thead>\n",
       "    <tr style=\"text-align: right;\">\n",
       "      <th></th>\n",
       "      <th>name</th>\n",
       "      <th>description</th>\n",
       "      <th>rename</th>\n",
       "    </tr>\n",
       "  </thead>\n",
       "  <tbody>\n",
       "    <tr>\n",
       "      <td>0</td>\n",
       "      <td>CMPLNT_FR_DT</td>\n",
       "      <td>Exact date of occurrence for the reported event</td>\n",
       "      <td>date</td>\n",
       "    </tr>\n",
       "    <tr>\n",
       "      <td>1</td>\n",
       "      <td>CMPLNT_FR_TM</td>\n",
       "      <td>Exact time of occurrence for the reported event</td>\n",
       "      <td>time</td>\n",
       "    </tr>\n",
       "    <tr>\n",
       "      <td>2</td>\n",
       "      <td>ADDR_PCT_CD</td>\n",
       "      <td>The precinct in which the incident occurred</td>\n",
       "      <td>precinct</td>\n",
       "    </tr>\n",
       "    <tr>\n",
       "      <td>3</td>\n",
       "      <td>KY_CD</td>\n",
       "      <td>Three digit offense classification code</td>\n",
       "      <td>class_code</td>\n",
       "    </tr>\n",
       "    <tr>\n",
       "      <td>4</td>\n",
       "      <td>OFNS_DESC</td>\n",
       "      <td>Description of offense corresponding with key ...</td>\n",
       "      <td>description</td>\n",
       "    </tr>\n",
       "    <tr>\n",
       "      <td>5</td>\n",
       "      <td>LAW_CAT_CD</td>\n",
       "      <td>Level of offense: felony misdemeanor violation</td>\n",
       "      <td>level</td>\n",
       "    </tr>\n",
       "    <tr>\n",
       "      <td>6</td>\n",
       "      <td>BORO_NM</td>\n",
       "      <td>The name of the borough in which the incident ...</td>\n",
       "      <td>borough</td>\n",
       "    </tr>\n",
       "    <tr>\n",
       "      <td>7</td>\n",
       "      <td>PREM_TYP_DESC</td>\n",
       "      <td>Specific description of premises (grocery stor...</td>\n",
       "      <td>premises</td>\n",
       "    </tr>\n",
       "    <tr>\n",
       "      <td>8</td>\n",
       "      <td>Lat_Lon</td>\n",
       "      <td>Geospatial Location Point (latitude and Longit...</td>\n",
       "      <td>geo</td>\n",
       "    </tr>\n",
       "  </tbody>\n",
       "</table>\n",
       "</div>"
      ],
      "text/plain": [
       "            name                                        description  \\\n",
       "0   CMPLNT_FR_DT    Exact date of occurrence for the reported event   \n",
       "1   CMPLNT_FR_TM    Exact time of occurrence for the reported event   \n",
       "2    ADDR_PCT_CD        The precinct in which the incident occurred   \n",
       "3          KY_CD            Three digit offense classification code   \n",
       "4      OFNS_DESC  Description of offense corresponding with key ...   \n",
       "5     LAW_CAT_CD     Level of offense: felony misdemeanor violation   \n",
       "6        BORO_NM  The name of the borough in which the incident ...   \n",
       "7  PREM_TYP_DESC  Specific description of premises (grocery stor...   \n",
       "8        Lat_Lon  Geospatial Location Point (latitude and Longit...   \n",
       "\n",
       "        rename  \n",
       "0         date  \n",
       "1         time  \n",
       "2     precinct  \n",
       "3   class_code  \n",
       "4  description  \n",
       "5        level  \n",
       "6      borough  \n",
       "7     premises  \n",
       "8          geo  "
      ]
     },
     "execution_count": 3,
     "metadata": {},
     "output_type": "execute_result"
    }
   ],
   "source": [
    "# To save memory:\n",
    "# I have already pre-preared a text file containing the columns I think are most relevant.\n",
    "selected_cols = pd.read_csv(path + 'crime_selected_cols.txt')\n",
    "selected_cols"
   ]
  },
  {
   "cell_type": "code",
   "execution_count": 4,
   "metadata": {
    "scrolled": true
   },
   "outputs": [],
   "source": [
    "crime = pd.read_csv(path + 'nypd_historic.csv', usecols=selected_cols['name'])"
   ]
  },
  {
   "cell_type": "code",
   "execution_count": 5,
   "metadata": {},
   "outputs": [],
   "source": [
    "# change column names\n",
    "crime.columns = selected_cols['rename']"
   ]
  },
  {
   "cell_type": "code",
   "execution_count": 6,
   "metadata": {},
   "outputs": [
    {
     "data": {
      "text/plain": [
       "(6847944, 9)"
      ]
     },
     "execution_count": 6,
     "metadata": {},
     "output_type": "execute_result"
    }
   ],
   "source": [
    "# re-checking the size of our dataset\n",
    "crime.shape"
   ]
  },
  {
   "cell_type": "code",
   "execution_count": 7,
   "metadata": {},
   "outputs": [
    {
     "data": {
      "text/plain": [
       "rename\n",
       "date            object\n",
       "time            object\n",
       "precinct       float64\n",
       "class_code       int64\n",
       "description     object\n",
       "level           object\n",
       "borough         object\n",
       "premises        object\n",
       "geo             object\n",
       "dtype: object"
      ]
     },
     "execution_count": 7,
     "metadata": {},
     "output_type": "execute_result"
    }
   ],
   "source": [
    "# look at dtypes\n",
    "crime.dtypes"
   ]
  },
  {
   "cell_type": "code",
   "execution_count": 8,
   "metadata": {},
   "outputs": [],
   "source": [
    "# change to appropriate dtypes\n",
    "crime.date = pd.to_datetime(crime.date, errors='coerce')"
   ]
  },
  {
   "cell_type": "code",
   "execution_count": 9,
   "metadata": {},
   "outputs": [],
   "source": [
    "crime.time = pd.to_datetime(crime.time, errors='coerce').dt.hour"
   ]
  },
  {
   "cell_type": "code",
   "execution_count": 10,
   "metadata": {},
   "outputs": [],
   "source": [
    "# I have tons of data, might as well just drop nas.\n",
    "crime.isna().sum()\n",
    "crime.dropna(inplace=True)"
   ]
  },
  {
   "cell_type": "code",
   "execution_count": 11,
   "metadata": {},
   "outputs": [],
   "source": [
    "crime.time = crime.time.astype('int64')"
   ]
  },
  {
   "cell_type": "code",
   "execution_count": 12,
   "metadata": {},
   "outputs": [],
   "source": [
    "# clean / filter data by complete years\n",
    "crime = crime[(crime.date > '01-01-2007') & (crime.date < '01-01-2019')]"
   ]
  },
  {
   "cell_type": "code",
   "execution_count": 13,
   "metadata": {},
   "outputs": [],
   "source": [
    "# transform precinct column to int\n",
    "crime['precinct'] = crime.precinct.astype('int64')"
   ]
  },
  {
   "cell_type": "code",
   "execution_count": 14,
   "metadata": {},
   "outputs": [
    {
     "data": {
      "text/plain": [
       "0.9845345980221958"
      ]
     },
     "execution_count": 14,
     "metadata": {},
     "output_type": "execute_result"
    }
   ],
   "source": [
    "# lets clean up the categorical data\n",
    "# get top crimes\n",
    "crime['description'].value_counts()[:25].sum()/crime.shape[0]"
   ]
  },
  {
   "cell_type": "code",
   "execution_count": 15,
   "metadata": {},
   "outputs": [
    {
     "data": {
      "text/plain": [
       "PETIT LARCENY                           984505\n",
       "HARRASSMENT 2                           733522\n",
       "ASSAULT 3 & RELATED OFFENSES            623550\n",
       "CRIMINAL MISCHIEF & RELATED OF          594719\n",
       "GRAND LARCENY                           505759\n",
       "DANGEROUS DRUGS                         369783\n",
       "OFF. AGNST PUB ORD SENSBLTY &           310818\n",
       "FELONY ASSAULT                          227046\n",
       "ROBBERY                                 216401\n",
       "BURGLARY                                203927\n",
       "MISCELLANEOUS PENAL LAW                 148146\n",
       "DANGEROUS WEAPONS                       138989\n",
       "OFFENSES AGAINST PUBLIC ADMINI          118389\n",
       "GRAND LARCENY OF MOTOR VEHICLE          103253\n",
       "INTOXICATED & IMPAIRED DRIVING           82341\n",
       "VEHICLE AND TRAFFIC LAWS                 72680\n",
       "CRIMINAL TRESPASS                        69732\n",
       "SEX CRIMES                               66807\n",
       "THEFT-FRAUD                              61160\n",
       "FORGERY                                  58875\n",
       "FRAUDS                                   37152\n",
       "POSSESSION OF STOLEN PROPERTY            31525\n",
       "OFFENSES INVOLVING FRAUD                 19199\n",
       "UNAUTHORIZED USE OF A VEHICLE            17582\n",
       "RAPE                                     15958\n",
       "OFFENSES AGAINST THE PERSON              14841\n",
       "ARSON                                    14323\n",
       "OTHER OFFENSES RELATED TO THEF           13750\n",
       "ADMINISTRATIVE CODE                      13085\n",
       "OTHER STATE LAWS (NON PENAL LA            5661\n",
       "NYS LAWS-UNCLASSIFIED FELONY              5452\n",
       "THEFT OF SERVICES                         3993\n",
       "BURGLAR'S TOOLS                           3142\n",
       "FRAUDULENT ACCOSTING                      2941\n",
       "GAMBLING                                  2490\n",
       "KIDNAPPING & RELATED OFFENSES             2351\n",
       "OFFENSES RELATED TO CHILDREN              1574\n",
       "PROSTITUTION & RELATED OFFENSES           1063\n",
       "ALCOHOLIC BEVERAGE CONTROL LAW            1018\n",
       "DISORDERLY CONDUCT                         974\n",
       "PETIT LARCENY OF MOTOR VEHICLE             905\n",
       "OFFENSES AGAINST PUBLIC SAFETY             899\n",
       "AGRICULTURE & MRKTS LAW-UNCLASSIFIED       487\n",
       "JOSTLING                                   387\n",
       "CHILD ABANDONMENT/NON SUPPORT              377\n",
       "OTHER STATE LAWS                           249\n",
       "ENDAN WELFARE INCOMP                       214\n",
       "LOITERING/GAMBLING (CARDS, DIC             204\n",
       "ESCAPE 3                                   173\n",
       "HOMICIDE-NEGLIGENT,UNCLASSIFIE             125\n",
       "HOMICIDE-NEGLIGENT-VEHICLE                  95\n",
       "ANTICIPATORY OFFENSES                       90\n",
       "NEW YORK CITY HEALTH CODE                   79\n",
       "UNLAWFUL POSS. WEAP. ON SCHOOL              57\n",
       "INTOXICATED/IMPAIRED DRIVING                56\n",
       "DISRUPTION OF A RELIGIOUS SERV              46\n",
       "NYS LAWS-UNCLASSIFIED VIOLATION             44\n",
       "KIDNAPPING                                  29\n",
       "LOITERING                                   22\n",
       "LOITERING FOR DRUG PURPOSES                 19\n",
       "Name: description, dtype: int64"
      ]
     },
     "execution_count": 15,
     "metadata": {},
     "output_type": "execute_result"
    }
   ],
   "source": [
    "crime.description.value_counts()[:60]"
   ]
  },
  {
   "cell_type": "code",
   "execution_count": 16,
   "metadata": {},
   "outputs": [],
   "source": [
    "crime.to_csv(path + 'nypd_historic_07-18.csv')"
   ]
  },
  {
   "cell_type": "code",
   "execution_count": null,
   "metadata": {},
   "outputs": [],
   "source": []
  }
 ],
 "metadata": {
  "kernelspec": {
   "display_name": "Python 3",
   "language": "python",
   "name": "python3"
  },
  "language_info": {
   "codemirror_mode": {
    "name": "ipython",
    "version": 3
   },
   "file_extension": ".py",
   "mimetype": "text/x-python",
   "name": "python",
   "nbconvert_exporter": "python",
   "pygments_lexer": "ipython3",
   "version": "3.7.4"
  }
 },
 "nbformat": 4,
 "nbformat_minor": 2
}

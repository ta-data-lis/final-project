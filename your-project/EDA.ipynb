{
 "cells": [
  {
   "cell_type": "markdown",
   "metadata": {},
   "source": [
    "# Data Cleaning"
   ]
  },
  {
   "cell_type": "code",
   "execution_count": 109,
   "metadata": {},
   "outputs": [],
   "source": [
    "import re\n",
    "import pandas as pd\n",
    "import matplotlib\n",
    "import matplotlib.pyplot as plt\n",
    "import numpy as np"
   ]
  },
  {
   "cell_type": "markdown",
   "metadata": {},
   "source": [
    "# # Functions\n"
   ]
  },
  {
   "cell_type": "code",
   "execution_count": 110,
   "metadata": {},
   "outputs": [],
   "source": [
    "#Import data \n",
    "\n",
    "dt = pd.read_csv('shelter-animal-outcomes/train.csv')"
   ]
  },
  {
   "cell_type": "code",
   "execution_count": 111,
   "metadata": {},
   "outputs": [
    {
     "data": {
      "text/html": [
       "<div>\n",
       "<style scoped>\n",
       "    .dataframe tbody tr th:only-of-type {\n",
       "        vertical-align: middle;\n",
       "    }\n",
       "\n",
       "    .dataframe tbody tr th {\n",
       "        vertical-align: top;\n",
       "    }\n",
       "\n",
       "    .dataframe thead th {\n",
       "        text-align: right;\n",
       "    }\n",
       "</style>\n",
       "<table border=\"1\" class=\"dataframe\">\n",
       "  <thead>\n",
       "    <tr style=\"text-align: right;\">\n",
       "      <th></th>\n",
       "      <th>AnimalID</th>\n",
       "      <th>Name</th>\n",
       "      <th>DateTime</th>\n",
       "      <th>OutcomeType</th>\n",
       "      <th>OutcomeSubtype</th>\n",
       "      <th>AnimalType</th>\n",
       "      <th>SexuponOutcome</th>\n",
       "      <th>AgeuponOutcome</th>\n",
       "      <th>Breed</th>\n",
       "      <th>Color</th>\n",
       "    </tr>\n",
       "  </thead>\n",
       "  <tbody>\n",
       "    <tr>\n",
       "      <td>0</td>\n",
       "      <td>A671945</td>\n",
       "      <td>Hambone</td>\n",
       "      <td>2014-02-12 18:22:00</td>\n",
       "      <td>Return_to_owner</td>\n",
       "      <td>NaN</td>\n",
       "      <td>Dog</td>\n",
       "      <td>Neutered Male</td>\n",
       "      <td>1 year</td>\n",
       "      <td>Shetland Sheepdog Mix</td>\n",
       "      <td>Brown/White</td>\n",
       "    </tr>\n",
       "    <tr>\n",
       "      <td>1</td>\n",
       "      <td>A656520</td>\n",
       "      <td>Emily</td>\n",
       "      <td>2013-10-13 12:44:00</td>\n",
       "      <td>Euthanasia</td>\n",
       "      <td>Suffering</td>\n",
       "      <td>Cat</td>\n",
       "      <td>Spayed Female</td>\n",
       "      <td>1 year</td>\n",
       "      <td>Domestic Shorthair Mix</td>\n",
       "      <td>Cream Tabby</td>\n",
       "    </tr>\n",
       "    <tr>\n",
       "      <td>2</td>\n",
       "      <td>A686464</td>\n",
       "      <td>Pearce</td>\n",
       "      <td>2015-01-31 12:28:00</td>\n",
       "      <td>Adoption</td>\n",
       "      <td>Foster</td>\n",
       "      <td>Dog</td>\n",
       "      <td>Neutered Male</td>\n",
       "      <td>2 years</td>\n",
       "      <td>Pit Bull Mix</td>\n",
       "      <td>Blue/White</td>\n",
       "    </tr>\n",
       "    <tr>\n",
       "      <td>3</td>\n",
       "      <td>A683430</td>\n",
       "      <td>NaN</td>\n",
       "      <td>2014-07-11 19:09:00</td>\n",
       "      <td>Transfer</td>\n",
       "      <td>Partner</td>\n",
       "      <td>Cat</td>\n",
       "      <td>Intact Male</td>\n",
       "      <td>3 weeks</td>\n",
       "      <td>Domestic Shorthair Mix</td>\n",
       "      <td>Blue Cream</td>\n",
       "    </tr>\n",
       "    <tr>\n",
       "      <td>4</td>\n",
       "      <td>A667013</td>\n",
       "      <td>NaN</td>\n",
       "      <td>2013-11-15 12:52:00</td>\n",
       "      <td>Transfer</td>\n",
       "      <td>Partner</td>\n",
       "      <td>Dog</td>\n",
       "      <td>Neutered Male</td>\n",
       "      <td>2 years</td>\n",
       "      <td>Lhasa Apso/Miniature Poodle</td>\n",
       "      <td>Tan</td>\n",
       "    </tr>\n",
       "  </tbody>\n",
       "</table>\n",
       "</div>"
      ],
      "text/plain": [
       "  AnimalID     Name             DateTime      OutcomeType OutcomeSubtype  \\\n",
       "0  A671945  Hambone  2014-02-12 18:22:00  Return_to_owner            NaN   \n",
       "1  A656520    Emily  2013-10-13 12:44:00       Euthanasia      Suffering   \n",
       "2  A686464   Pearce  2015-01-31 12:28:00         Adoption         Foster   \n",
       "3  A683430      NaN  2014-07-11 19:09:00         Transfer        Partner   \n",
       "4  A667013      NaN  2013-11-15 12:52:00         Transfer        Partner   \n",
       "\n",
       "  AnimalType SexuponOutcome AgeuponOutcome                        Breed  \\\n",
       "0        Dog  Neutered Male         1 year        Shetland Sheepdog Mix   \n",
       "1        Cat  Spayed Female         1 year       Domestic Shorthair Mix   \n",
       "2        Dog  Neutered Male        2 years                 Pit Bull Mix   \n",
       "3        Cat    Intact Male        3 weeks       Domestic Shorthair Mix   \n",
       "4        Dog  Neutered Male        2 years  Lhasa Apso/Miniature Poodle   \n",
       "\n",
       "         Color  \n",
       "0  Brown/White  \n",
       "1  Cream Tabby  \n",
       "2   Blue/White  \n",
       "3   Blue Cream  \n",
       "4          Tan  "
      ]
     },
     "execution_count": 111,
     "metadata": {},
     "output_type": "execute_result"
    }
   ],
   "source": [
    "#inspect data \n",
    "\n",
    "dt.head()"
   ]
  },
  {
   "cell_type": "code",
   "execution_count": 112,
   "metadata": {},
   "outputs": [
    {
     "data": {
      "text/plain": [
       "(26729, 10)"
      ]
     },
     "execution_count": 112,
     "metadata": {},
     "output_type": "execute_result"
    }
   ],
   "source": [
    "dt.shape"
   ]
  },
  {
   "cell_type": "code",
   "execution_count": 113,
   "metadata": {},
   "outputs": [
    {
     "data": {
      "text/plain": [
       "Index(['AnimalID', 'Name', 'DateTime', 'OutcomeType', 'OutcomeSubtype',\n",
       "       'AnimalType', 'SexuponOutcome', 'AgeuponOutcome', 'Breed', 'Color'],\n",
       "      dtype='object')"
      ]
     },
     "execution_count": 113,
     "metadata": {},
     "output_type": "execute_result"
    }
   ],
   "source": [
    "dt.columns"
   ]
  },
  {
   "cell_type": "code",
   "execution_count": 114,
   "metadata": {},
   "outputs": [],
   "source": [
    "## General viwe over data"
   ]
  },
  {
   "cell_type": "code",
   "execution_count": 115,
   "metadata": {},
   "outputs": [
    {
     "data": {
      "text/plain": [
       "AnimalID              0\n",
       "Name               7691\n",
       "DateTime              0\n",
       "OutcomeType           0\n",
       "OutcomeSubtype    13612\n",
       "AnimalType            0\n",
       "SexuponOutcome        1\n",
       "AgeuponOutcome       18\n",
       "Breed                 0\n",
       "Color                 0\n",
       "dtype: int64"
      ]
     },
     "execution_count": 115,
     "metadata": {},
     "output_type": "execute_result"
    }
   ],
   "source": [
    "dt.isna().sum()"
   ]
  },
  {
   "cell_type": "markdown",
   "metadata": {},
   "source": [
    "Explore columns"
   ]
  },
  {
   "cell_type": "code",
   "execution_count": 116,
   "metadata": {},
   "outputs": [
    {
     "data": {
      "text/plain": [
       "'\\nOutcome Type is the column we want to predict based on the other features\\n'"
      ]
     },
     "execution_count": 116,
     "metadata": {},
     "output_type": "execute_result"
    }
   ],
   "source": [
    "\"\"\"\n",
    "Outcome Type is the column we want to predict based on the other features\n",
    "\"\"\""
   ]
  },
  {
   "cell_type": "code",
   "execution_count": 117,
   "metadata": {},
   "outputs": [
    {
     "data": {
      "text/plain": [
       "\"\\nAs an overview the columns/ features that might have impact on the outcome and the ones I'm going to focus are:\\nAnimal Type, Breed and Color, SexUponOutcome, AgeUponOutcome\\n\""
      ]
     },
     "execution_count": 117,
     "metadata": {},
     "output_type": "execute_result"
    }
   ],
   "source": [
    "\"\"\"\n",
    "As an overview the columns/ features that might have impact on the outcome and the ones I'm going to focus are:\n",
    "Animal Type, Breed and Color, SexUponOutcome, AgeUponOutcome\n",
    "\"\"\""
   ]
  },
  {
   "cell_type": "markdown",
   "metadata": {},
   "source": [
    "# OUTCOME -- what is going to be predicted -- Supervised Learning"
   ]
  },
  {
   "cell_type": "code",
   "execution_count": 118,
   "metadata": {
    "scrolled": true
   },
   "outputs": [
    {
     "data": {
      "text/plain": [
       "0"
      ]
     },
     "execution_count": 118,
     "metadata": {},
     "output_type": "execute_result"
    }
   ],
   "source": [
    "\n",
    "dt['OutcomeType'].isna().sum()"
   ]
  },
  {
   "cell_type": "code",
   "execution_count": 119,
   "metadata": {},
   "outputs": [
    {
     "data": {
      "text/plain": [
       "Adoption           10769\n",
       "Transfer            9422\n",
       "Return_to_owner     4786\n",
       "Euthanasia          1555\n",
       "Died                 197\n",
       "Name: OutcomeType, dtype: int64"
      ]
     },
     "execution_count": 119,
     "metadata": {},
     "output_type": "execute_result"
    }
   ],
   "source": [
    "dt['OutcomeType'].value_counts()"
   ]
  },
  {
   "cell_type": "code",
   "execution_count": 120,
   "metadata": {
    "scrolled": false
   },
   "outputs": [],
   "source": [
    "# Put together the animals who die with the ones were Euthanasia -- as DIED\n",
    "dt['OutcomeType'].replace('Euthanasia','Died', inplace = True)"
   ]
  },
  {
   "cell_type": "code",
   "execution_count": 121,
   "metadata": {},
   "outputs": [
    {
     "data": {
      "text/plain": [
       "(array([10769.,     0.,     0.,  1752.,     0.,     0.,  4786.,     0.,\n",
       "            0.,  9422.]),\n",
       " array([0. , 0.3, 0.6, 0.9, 1.2, 1.5, 1.8, 2.1, 2.4, 2.7, 3. ]),\n",
       " <a list of 10 Patch objects>)"
      ]
     },
     "execution_count": 121,
     "metadata": {},
     "output_type": "execute_result"
    },
    {
     "data": {
      "image/png": "[encoded data removed]",
      "text/plain": [
       "<Figure size 1440x720 with 2 Axes>"
      ]
     },
     "metadata": {
      "needs_background": "light"
     },
     "output_type": "display_data"
    }
   ],
   "source": [
    "## Ploting Outcome\n",
    "\n",
    "fig, axs = plt.subplots(1, 2, figsize=(20, 10))\n",
    "\n",
    "axs[0].bar(dt['OutcomeType'].value_counts().keys(), dt['OutcomeType'].value_counts() , color = 'pink')\n",
    "axs[0].set_xlabel('Outcome')\n",
    "axs[0].set_ylabel('Frequency')\n",
    "axs[1].hist(dt['OutcomeType'].sort_values())\n",
    "\n",
    "\n"
   ]
  },
  {
   "cell_type": "code",
   "execution_count": 122,
   "metadata": {},
   "outputs": [
    {
     "data": {
      "text/plain": [
       "'\\nProbably use this line bellow to change the categorical feature we want to predict into an numerical one.\\n'"
      ]
     },
     "execution_count": 122,
     "metadata": {},
     "output_type": "execute_result"
    }
   ],
   "source": [
    "\"\"\"\n",
    "Probably use this line bellow to change the categorical feature we want to predict into an numerical one.\n",
    "\"\"\"\n",
    "\n",
    "##diamonds.replace(['Adoption', 'Transfer', 'Return_to_owner', 'Euthanasia', 'Died'], [3,2,4,0,1], inplace=True)"
   ]
  },
  {
   "cell_type": "markdown",
   "metadata": {},
   "source": [
    "# Animal ID Will become the index"
   ]
  },
  {
   "cell_type": "code",
   "execution_count": 123,
   "metadata": {
    "scrolled": true
   },
   "outputs": [],
   "source": [
    "#Make animal id the index \n",
    "\n",
    "dt.set_index('AnimalID', inplace = True)"
   ]
  },
  {
   "cell_type": "code",
   "execution_count": 124,
   "metadata": {},
   "outputs": [
    {
     "data": {
      "text/html": [
       "<div>\n",
       "<style scoped>\n",
       "    .dataframe tbody tr th:only-of-type {\n",
       "        vertical-align: middle;\n",
       "    }\n",
       "\n",
       "    .dataframe tbody tr th {\n",
       "        vertical-align: top;\n",
       "    }\n",
       "\n",
       "    .dataframe thead th {\n",
       "        text-align: right;\n",
       "    }\n",
       "</style>\n",
       "<table border=\"1\" class=\"dataframe\">\n",
       "  <thead>\n",
       "    <tr style=\"text-align: right;\">\n",
       "      <th></th>\n",
       "      <th>Name</th>\n",
       "      <th>DateTime</th>\n",
       "      <th>OutcomeType</th>\n",
       "      <th>OutcomeSubtype</th>\n",
       "      <th>AnimalType</th>\n",
       "      <th>SexuponOutcome</th>\n",
       "      <th>AgeuponOutcome</th>\n",
       "      <th>Breed</th>\n",
       "      <th>Color</th>\n",
       "    </tr>\n",
       "    <tr>\n",
       "      <th>AnimalID</th>\n",
       "      <th></th>\n",
       "      <th></th>\n",
       "      <th></th>\n",
       "      <th></th>\n",
       "      <th></th>\n",
       "      <th></th>\n",
       "      <th></th>\n",
       "      <th></th>\n",
       "      <th></th>\n",
       "    </tr>\n",
       "  </thead>\n",
       "  <tbody>\n",
       "    <tr>\n",
       "      <td>A671945</td>\n",
       "      <td>Hambone</td>\n",
       "      <td>2014-02-12 18:22:00</td>\n",
       "      <td>Return_to_owner</td>\n",
       "      <td>NaN</td>\n",
       "      <td>Dog</td>\n",
       "      <td>Neutered Male</td>\n",
       "      <td>1 year</td>\n",
       "      <td>Shetland Sheepdog Mix</td>\n",
       "      <td>Brown/White</td>\n",
       "    </tr>\n",
       "    <tr>\n",
       "      <td>A656520</td>\n",
       "      <td>Emily</td>\n",
       "      <td>2013-10-13 12:44:00</td>\n",
       "      <td>Died</td>\n",
       "      <td>Suffering</td>\n",
       "      <td>Cat</td>\n",
       "      <td>Spayed Female</td>\n",
       "      <td>1 year</td>\n",
       "      <td>Domestic Shorthair Mix</td>\n",
       "      <td>Cream Tabby</td>\n",
       "    </tr>\n",
       "    <tr>\n",
       "      <td>A686464</td>\n",
       "      <td>Pearce</td>\n",
       "      <td>2015-01-31 12:28:00</td>\n",
       "      <td>Adoption</td>\n",
       "      <td>Foster</td>\n",
       "      <td>Dog</td>\n",
       "      <td>Neutered Male</td>\n",
       "      <td>2 years</td>\n",
       "      <td>Pit Bull Mix</td>\n",
       "      <td>Blue/White</td>\n",
       "    </tr>\n",
       "    <tr>\n",
       "      <td>A683430</td>\n",
       "      <td>NaN</td>\n",
       "      <td>2014-07-11 19:09:00</td>\n",
       "      <td>Transfer</td>\n",
       "      <td>Partner</td>\n",
       "      <td>Cat</td>\n",
       "      <td>Intact Male</td>\n",
       "      <td>3 weeks</td>\n",
       "      <td>Domestic Shorthair Mix</td>\n",
       "      <td>Blue Cream</td>\n",
       "    </tr>\n",
       "    <tr>\n",
       "      <td>A667013</td>\n",
       "      <td>NaN</td>\n",
       "      <td>2013-11-15 12:52:00</td>\n",
       "      <td>Transfer</td>\n",
       "      <td>Partner</td>\n",
       "      <td>Dog</td>\n",
       "      <td>Neutered Male</td>\n",
       "      <td>2 years</td>\n",
       "      <td>Lhasa Apso/Miniature Poodle</td>\n",
       "      <td>Tan</td>\n",
       "    </tr>\n",
       "    <tr>\n",
       "      <td>...</td>\n",
       "      <td>...</td>\n",
       "      <td>...</td>\n",
       "      <td>...</td>\n",
       "      <td>...</td>\n",
       "      <td>...</td>\n",
       "      <td>...</td>\n",
       "      <td>...</td>\n",
       "      <td>...</td>\n",
       "      <td>...</td>\n",
       "    </tr>\n",
       "    <tr>\n",
       "      <td>A702446</td>\n",
       "      <td>NaN</td>\n",
       "      <td>2015-05-14 11:56:00</td>\n",
       "      <td>Transfer</td>\n",
       "      <td>Partner</td>\n",
       "      <td>Cat</td>\n",
       "      <td>Intact Male</td>\n",
       "      <td>1 month</td>\n",
       "      <td>Domestic Shorthair Mix</td>\n",
       "      <td>Brown Tabby/White</td>\n",
       "    </tr>\n",
       "    <tr>\n",
       "      <td>A718934</td>\n",
       "      <td>NaN</td>\n",
       "      <td>2016-01-20 18:59:00</td>\n",
       "      <td>Transfer</td>\n",
       "      <td>SCRP</td>\n",
       "      <td>Cat</td>\n",
       "      <td>Spayed Female</td>\n",
       "      <td>3 months</td>\n",
       "      <td>Domestic Shorthair Mix</td>\n",
       "      <td>Brown Tabby</td>\n",
       "    </tr>\n",
       "    <tr>\n",
       "      <td>A698128</td>\n",
       "      <td>Zeus</td>\n",
       "      <td>2015-03-09 13:33:00</td>\n",
       "      <td>Adoption</td>\n",
       "      <td>NaN</td>\n",
       "      <td>Dog</td>\n",
       "      <td>Neutered Male</td>\n",
       "      <td>4 years</td>\n",
       "      <td>Old English Bulldog Mix</td>\n",
       "      <td>White/Tan</td>\n",
       "    </tr>\n",
       "    <tr>\n",
       "      <td>A677478</td>\n",
       "      <td>NaN</td>\n",
       "      <td>2014-04-27 12:22:00</td>\n",
       "      <td>Transfer</td>\n",
       "      <td>Partner</td>\n",
       "      <td>Cat</td>\n",
       "      <td>Intact Male</td>\n",
       "      <td>4 weeks</td>\n",
       "      <td>Domestic Shorthair Mix</td>\n",
       "      <td>Black</td>\n",
       "    </tr>\n",
       "    <tr>\n",
       "      <td>A706629</td>\n",
       "      <td>NaN</td>\n",
       "      <td>2015-07-02 09:00:00</td>\n",
       "      <td>Transfer</td>\n",
       "      <td>SCRP</td>\n",
       "      <td>Cat</td>\n",
       "      <td>Intact Male</td>\n",
       "      <td>1 year</td>\n",
       "      <td>Domestic Shorthair Mix</td>\n",
       "      <td>Brown Tabby/White</td>\n",
       "    </tr>\n",
       "  </tbody>\n",
       "</table>\n",
       "<p>26729 rows × 9 columns</p>\n",
       "</div>"
      ],
      "text/plain": [
       "             Name             DateTime      OutcomeType OutcomeSubtype  \\\n",
       "AnimalID                                                                 \n",
       "A671945   Hambone  2014-02-12 18:22:00  Return_to_owner            NaN   \n",
       "A656520     Emily  2013-10-13 12:44:00             Died      Suffering   \n",
       "A686464    Pearce  2015-01-31 12:28:00         Adoption         Foster   \n",
       "A683430       NaN  2014-07-11 19:09:00         Transfer        Partner   \n",
       "A667013       NaN  2013-11-15 12:52:00         Transfer        Partner   \n",
       "...           ...                  ...              ...            ...   \n",
       "A702446       NaN  2015-05-14 11:56:00         Transfer        Partner   \n",
       "A718934       NaN  2016-01-20 18:59:00         Transfer           SCRP   \n",
       "A698128      Zeus  2015-03-09 13:33:00         Adoption            NaN   \n",
       "A677478       NaN  2014-04-27 12:22:00         Transfer        Partner   \n",
       "A706629       NaN  2015-07-02 09:00:00         Transfer           SCRP   \n",
       "\n",
       "         AnimalType SexuponOutcome AgeuponOutcome  \\\n",
       "AnimalID                                            \n",
       "A671945         Dog  Neutered Male         1 year   \n",
       "A656520         Cat  Spayed Female         1 year   \n",
       "A686464         Dog  Neutered Male        2 years   \n",
       "A683430         Cat    Intact Male        3 weeks   \n",
       "A667013         Dog  Neutered Male        2 years   \n",
       "...             ...            ...            ...   \n",
       "A702446         Cat    Intact Male        1 month   \n",
       "A718934         Cat  Spayed Female       3 months   \n",
       "A698128         Dog  Neutered Male        4 years   \n",
       "A677478         Cat    Intact Male        4 weeks   \n",
       "A706629         Cat    Intact Male         1 year   \n",
       "\n",
       "                                Breed              Color  \n",
       "AnimalID                                                  \n",
       "A671945         Shetland Sheepdog Mix        Brown/White  \n",
       "A656520        Domestic Shorthair Mix        Cream Tabby  \n",
       "A686464                  Pit Bull Mix         Blue/White  \n",
       "A683430        Domestic Shorthair Mix         Blue Cream  \n",
       "A667013   Lhasa Apso/Miniature Poodle                Tan  \n",
       "...                               ...                ...  \n",
       "A702446        Domestic Shorthair Mix  Brown Tabby/White  \n",
       "A718934        Domestic Shorthair Mix        Brown Tabby  \n",
       "A698128       Old English Bulldog Mix          White/Tan  \n",
       "A677478        Domestic Shorthair Mix              Black  \n",
       "A706629        Domestic Shorthair Mix  Brown Tabby/White  \n",
       "\n",
       "[26729 rows x 9 columns]"
      ]
     },
     "execution_count": 124,
     "metadata": {},
     "output_type": "execute_result"
    }
   ],
   "source": [
    "dt"
   ]
  },
  {
   "cell_type": "markdown",
   "metadata": {},
   "source": [
    "# Inspect Feature OutcomeSubtype "
   ]
  },
  {
   "cell_type": "code",
   "execution_count": 125,
   "metadata": {
    "scrolled": false
   },
   "outputs": [
    {
     "data": {
      "text/plain": [
       "Partner                7816\n",
       "Foster                 1800\n",
       "SCRP                   1599\n",
       "Suffering              1002\n",
       "Aggressive              320\n",
       "Offsite                 165\n",
       "In Kennel               114\n",
       "Behavior                 86\n",
       "Rabies Risk              74\n",
       "Medical                  66\n",
       "In Foster                52\n",
       "Enroute                   8\n",
       "Court/Investigation       6\n",
       "At Vet                    4\n",
       "In Surgery                3\n",
       "Barn                      2\n",
       "Name: OutcomeSubtype, dtype: int64"
      ]
     },
     "execution_count": 125,
     "metadata": {},
     "output_type": "execute_result"
    }
   ],
   "source": [
    "dt.OutcomeSubtype.value_counts()"
   ]
  },
  {
   "cell_type": "code",
   "execution_count": 126,
   "metadata": {},
   "outputs": [],
   "source": [
    "out_sub = dt.OutcomeSubtype.isna().sum()"
   ]
  },
  {
   "cell_type": "code",
   "execution_count": 127,
   "metadata": {},
   "outputs": [
    {
     "data": {
      "text/plain": [
       "0.5092596056717423"
      ]
     },
     "execution_count": 127,
     "metadata": {},
     "output_type": "execute_result"
    }
   ],
   "source": [
    "out_sub/dt.shape[0]"
   ]
  },
  {
   "cell_type": "code",
   "execution_count": 128,
   "metadata": {},
   "outputs": [
    {
     "data": {
      "text/plain": [
       "'\\nMore that 50% of the data is missing regarding the subtype of the outcome.\\n\\nI will drop this column!!!!\\n\\n'"
      ]
     },
     "execution_count": 128,
     "metadata": {},
     "output_type": "execute_result"
    }
   ],
   "source": [
    "\"\"\"\n",
    "More that 50% of the data is missing regarding the subtype of the outcome.\n",
    "\n",
    "I will drop this column!!!!\n",
    "\n",
    "\"\"\""
   ]
  },
  {
   "cell_type": "code",
   "execution_count": 129,
   "metadata": {},
   "outputs": [],
   "source": [
    "## Drop outcomeSubtype\n",
    "dt.drop(columns = 'OutcomeSubtype', inplace = True)"
   ]
  },
  {
   "cell_type": "code",
   "execution_count": 130,
   "metadata": {},
   "outputs": [
    {
     "data": {
      "text/html": [
       "<div>\n",
       "<style scoped>\n",
       "    .dataframe tbody tr th:only-of-type {\n",
       "        vertical-align: middle;\n",
       "    }\n",
       "\n",
       "    .dataframe tbody tr th {\n",
       "        vertical-align: top;\n",
       "    }\n",
       "\n",
       "    .dataframe thead th {\n",
       "        text-align: right;\n",
       "    }\n",
       "</style>\n",
       "<table border=\"1\" class=\"dataframe\">\n",
       "  <thead>\n",
       "    <tr style=\"text-align: right;\">\n",
       "      <th></th>\n",
       "      <th>Name</th>\n",
       "      <th>DateTime</th>\n",
       "      <th>OutcomeType</th>\n",
       "      <th>AnimalType</th>\n",
       "      <th>SexuponOutcome</th>\n",
       "      <th>AgeuponOutcome</th>\n",
       "      <th>Breed</th>\n",
       "      <th>Color</th>\n",
       "    </tr>\n",
       "    <tr>\n",
       "      <th>AnimalID</th>\n",
       "      <th></th>\n",
       "      <th></th>\n",
       "      <th></th>\n",
       "      <th></th>\n",
       "      <th></th>\n",
       "      <th></th>\n",
       "      <th></th>\n",
       "      <th></th>\n",
       "    </tr>\n",
       "  </thead>\n",
       "  <tbody>\n",
       "    <tr>\n",
       "      <td>A671945</td>\n",
       "      <td>Hambone</td>\n",
       "      <td>2014-02-12 18:22:00</td>\n",
       "      <td>Return_to_owner</td>\n",
       "      <td>Dog</td>\n",
       "      <td>Neutered Male</td>\n",
       "      <td>1 year</td>\n",
       "      <td>Shetland Sheepdog Mix</td>\n",
       "      <td>Brown/White</td>\n",
       "    </tr>\n",
       "    <tr>\n",
       "      <td>A656520</td>\n",
       "      <td>Emily</td>\n",
       "      <td>2013-10-13 12:44:00</td>\n",
       "      <td>Died</td>\n",
       "      <td>Cat</td>\n",
       "      <td>Spayed Female</td>\n",
       "      <td>1 year</td>\n",
       "      <td>Domestic Shorthair Mix</td>\n",
       "      <td>Cream Tabby</td>\n",
       "    </tr>\n",
       "    <tr>\n",
       "      <td>A686464</td>\n",
       "      <td>Pearce</td>\n",
       "      <td>2015-01-31 12:28:00</td>\n",
       "      <td>Adoption</td>\n",
       "      <td>Dog</td>\n",
       "      <td>Neutered Male</td>\n",
       "      <td>2 years</td>\n",
       "      <td>Pit Bull Mix</td>\n",
       "      <td>Blue/White</td>\n",
       "    </tr>\n",
       "    <tr>\n",
       "      <td>A683430</td>\n",
       "      <td>NaN</td>\n",
       "      <td>2014-07-11 19:09:00</td>\n",
       "      <td>Transfer</td>\n",
       "      <td>Cat</td>\n",
       "      <td>Intact Male</td>\n",
       "      <td>3 weeks</td>\n",
       "      <td>Domestic Shorthair Mix</td>\n",
       "      <td>Blue Cream</td>\n",
       "    </tr>\n",
       "    <tr>\n",
       "      <td>A667013</td>\n",
       "      <td>NaN</td>\n",
       "      <td>2013-11-15 12:52:00</td>\n",
       "      <td>Transfer</td>\n",
       "      <td>Dog</td>\n",
       "      <td>Neutered Male</td>\n",
       "      <td>2 years</td>\n",
       "      <td>Lhasa Apso/Miniature Poodle</td>\n",
       "      <td>Tan</td>\n",
       "    </tr>\n",
       "    <tr>\n",
       "      <td>...</td>\n",
       "      <td>...</td>\n",
       "      <td>...</td>\n",
       "      <td>...</td>\n",
       "      <td>...</td>\n",
       "      <td>...</td>\n",
       "      <td>...</td>\n",
       "      <td>...</td>\n",
       "      <td>...</td>\n",
       "    </tr>\n",
       "    <tr>\n",
       "      <td>A702446</td>\n",
       "      <td>NaN</td>\n",
       "      <td>2015-05-14 11:56:00</td>\n",
       "      <td>Transfer</td>\n",
       "      <td>Cat</td>\n",
       "      <td>Intact Male</td>\n",
       "      <td>1 month</td>\n",
       "      <td>Domestic Shorthair Mix</td>\n",
       "      <td>Brown Tabby/White</td>\n",
       "    </tr>\n",
       "    <tr>\n",
       "      <td>A718934</td>\n",
       "      <td>NaN</td>\n",
       "      <td>2016-01-20 18:59:00</td>\n",
       "      <td>Transfer</td>\n",
       "      <td>Cat</td>\n",
       "      <td>Spayed Female</td>\n",
       "      <td>3 months</td>\n",
       "      <td>Domestic Shorthair Mix</td>\n",
       "      <td>Brown Tabby</td>\n",
       "    </tr>\n",
       "    <tr>\n",
       "      <td>A698128</td>\n",
       "      <td>Zeus</td>\n",
       "      <td>2015-03-09 13:33:00</td>\n",
       "      <td>Adoption</td>\n",
       "      <td>Dog</td>\n",
       "      <td>Neutered Male</td>\n",
       "      <td>4 years</td>\n",
       "      <td>Old English Bulldog Mix</td>\n",
       "      <td>White/Tan</td>\n",
       "    </tr>\n",
       "    <tr>\n",
       "      <td>A677478</td>\n",
       "      <td>NaN</td>\n",
       "      <td>2014-04-27 12:22:00</td>\n",
       "      <td>Transfer</td>\n",
       "      <td>Cat</td>\n",
       "      <td>Intact Male</td>\n",
       "      <td>4 weeks</td>\n",
       "      <td>Domestic Shorthair Mix</td>\n",
       "      <td>Black</td>\n",
       "    </tr>\n",
       "    <tr>\n",
       "      <td>A706629</td>\n",
       "      <td>NaN</td>\n",
       "      <td>2015-07-02 09:00:00</td>\n",
       "      <td>Transfer</td>\n",
       "      <td>Cat</td>\n",
       "      <td>Intact Male</td>\n",
       "      <td>1 year</td>\n",
       "      <td>Domestic Shorthair Mix</td>\n",
       "      <td>Brown Tabby/White</td>\n",
       "    </tr>\n",
       "  </tbody>\n",
       "</table>\n",
       "<p>26729 rows × 8 columns</p>\n",
       "</div>"
      ],
      "text/plain": [
       "             Name             DateTime      OutcomeType AnimalType  \\\n",
       "AnimalID                                                             \n",
       "A671945   Hambone  2014-02-12 18:22:00  Return_to_owner        Dog   \n",
       "A656520     Emily  2013-10-13 12:44:00             Died        Cat   \n",
       "A686464    Pearce  2015-01-31 12:28:00         Adoption        Dog   \n",
       "A683430       NaN  2014-07-11 19:09:00         Transfer        Cat   \n",
       "A667013       NaN  2013-11-15 12:52:00         Transfer        Dog   \n",
       "...           ...                  ...              ...        ...   \n",
       "A702446       NaN  2015-05-14 11:56:00         Transfer        Cat   \n",
       "A718934       NaN  2016-01-20 18:59:00         Transfer        Cat   \n",
       "A698128      Zeus  2015-03-09 13:33:00         Adoption        Dog   \n",
       "A677478       NaN  2014-04-27 12:22:00         Transfer        Cat   \n",
       "A706629       NaN  2015-07-02 09:00:00         Transfer        Cat   \n",
       "\n",
       "         SexuponOutcome AgeuponOutcome                        Breed  \\\n",
       "AnimalID                                                              \n",
       "A671945   Neutered Male         1 year        Shetland Sheepdog Mix   \n",
       "A656520   Spayed Female         1 year       Domestic Shorthair Mix   \n",
       "A686464   Neutered Male        2 years                 Pit Bull Mix   \n",
       "A683430     Intact Male        3 weeks       Domestic Shorthair Mix   \n",
       "A667013   Neutered Male        2 years  Lhasa Apso/Miniature Poodle   \n",
       "...                 ...            ...                          ...   \n",
       "A702446     Intact Male        1 month       Domestic Shorthair Mix   \n",
       "A718934   Spayed Female       3 months       Domestic Shorthair Mix   \n",
       "A698128   Neutered Male        4 years      Old English Bulldog Mix   \n",
       "A677478     Intact Male        4 weeks       Domestic Shorthair Mix   \n",
       "A706629     Intact Male         1 year       Domestic Shorthair Mix   \n",
       "\n",
       "                      Color  \n",
       "AnimalID                     \n",
       "A671945         Brown/White  \n",
       "A656520         Cream Tabby  \n",
       "A686464          Blue/White  \n",
       "A683430          Blue Cream  \n",
       "A667013                 Tan  \n",
       "...                     ...  \n",
       "A702446   Brown Tabby/White  \n",
       "A718934         Brown Tabby  \n",
       "A698128           White/Tan  \n",
       "A677478               Black  \n",
       "A706629   Brown Tabby/White  \n",
       "\n",
       "[26729 rows x 8 columns]"
      ]
     },
     "execution_count": 130,
     "metadata": {},
     "output_type": "execute_result"
    }
   ],
   "source": [
    "dt"
   ]
  },
  {
   "cell_type": "markdown",
   "metadata": {},
   "source": [
    "# Inspect Feature AnimalType "
   ]
  },
  {
   "cell_type": "code",
   "execution_count": 131,
   "metadata": {},
   "outputs": [
    {
     "data": {
      "text/plain": [
       "Dog    15595\n",
       "Cat    11134\n",
       "Name: AnimalType, dtype: int64"
      ]
     },
     "execution_count": 131,
     "metadata": {},
     "output_type": "execute_result"
    }
   ],
   "source": [
    "dt.AnimalType.value_counts()"
   ]
  },
  {
   "cell_type": "code",
   "execution_count": 132,
   "metadata": {},
   "outputs": [
    {
     "data": {
      "image/png": "[encoded data removed]",
      "text/plain": [
       "<Figure size 432x288 with 1 Axes>"
      ]
     },
     "metadata": {
      "needs_background": "light"
     },
     "output_type": "display_data"
    }
   ],
   "source": [
    "plt.bar(dt['AnimalType'].value_counts().keys(), dt['AnimalType'].value_counts() , color = 'pink')\n",
    "\n",
    "plt.show()"
   ]
  },
  {
   "cell_type": "markdown",
   "metadata": {},
   "source": [
    "# Inspect Feature Breed -- IMPORTANT FEATURE -- handle with care "
   ]
  },
  {
   "cell_type": "code",
   "execution_count": 133,
   "metadata": {
    "scrolled": true
   },
   "outputs": [
    {
     "data": {
      "text/plain": [
       "Domestic Shorthair Mix                    8810\n",
       "Pit Bull Mix                              1906\n",
       "Chihuahua Shorthair Mix                   1766\n",
       "Labrador Retriever Mix                    1363\n",
       "Domestic Medium Hair Mix                   839\n",
       "                                          ... \n",
       "Queensland Heeler                            1\n",
       "Cocker Spaniel/Chihuahua Longhair            1\n",
       "Flat Coat Retriever/Labrador Retriever       1\n",
       "Alaskan Malamute/German Shepherd             1\n",
       "Maltese/Chihuahua Shorthair                  1\n",
       "Name: Breed, Length: 1380, dtype: int64"
      ]
     },
     "execution_count": 133,
     "metadata": {},
     "output_type": "execute_result"
    }
   ],
   "source": [
    "dt.Breed.value_counts()\n",
    "\n",
    "#we have 1380 different ANIMAL BREEDs "
   ]
  },
  {
   "cell_type": "code",
   "execution_count": 134,
   "metadata": {},
   "outputs": [],
   "source": [
    "## Animals Breed that only appears 1 time  --- see if I should use?\n",
    "#0r\n",
    "## Animals Breed that only appears less than 30 times  --- see if I should use?\n",
    "\n",
    "\n",
    "\n"
   ]
  },
  {
   "cell_type": "code",
   "execution_count": 135,
   "metadata": {},
   "outputs": [
    {
     "data": {
      "text/plain": [
       "Domestic Shorthair Mix                    False\n",
       "Pit Bull Mix                              False\n",
       "Chihuahua Shorthair Mix                   False\n",
       "Labrador Retriever Mix                    False\n",
       "Domestic Medium Hair Mix                  False\n",
       "                                          ...  \n",
       "Queensland Heeler                          True\n",
       "Cocker Spaniel/Chihuahua Longhair          True\n",
       "Flat Coat Retriever/Labrador Retriever     True\n",
       "Alaskan Malamute/German Shepherd           True\n",
       "Maltese/Chihuahua Shorthair                True\n",
       "Name: Breed, Length: 1380, dtype: bool"
      ]
     },
     "execution_count": 135,
     "metadata": {},
     "output_type": "execute_result"
    }
   ],
   "source": [
    "dt.Breed.value_counts() == 1  ## want to know what the unique here "
   ]
  },
  {
   "cell_type": "code",
   "execution_count": 136,
   "metadata": {},
   "outputs": [],
   "source": [
    "\n",
    "#low_breed = dt['Breed'].value_counts()[dt['Breed'].value_counts() == 1]\n",
    "\n",
    "\n",
    "low_breed = dt['Breed'].value_counts()[dt['Breed'].value_counts() < 500] ## Filtering the value count of breed \n",
    "\n",
    "\n"
   ]
  },
  {
   "cell_type": "code",
   "execution_count": 137,
   "metadata": {},
   "outputs": [
    {
     "data": {
      "text/plain": [
       "'\\nFiltered the breed into low breed, the animals breed that ocurre less that 500 times\\nwill be subdevided into 3 categories. the ones that have in the breed a / will be put into a group. \\nThe ones with Mix into another and the ones without any of those into a third group.\\n'"
      ]
     },
     "execution_count": 137,
     "metadata": {},
     "output_type": "execute_result"
    }
   ],
   "source": [
    "\"\"\"\n",
    "Filtered the breed into low breed, the animals breed that ocurre less that 500 times\n",
    "will be subdevided into 3 categories. the ones that have in the breed a / will be put into a group. \n",
    "The ones with Mix into another and the ones without any of those into a third group.\n",
    "\"\"\""
   ]
  },
  {
   "cell_type": "code",
   "execution_count": 138,
   "metadata": {},
   "outputs": [
    {
     "data": {
      "text/plain": [
       "Dogue De Bordeaux Mix                     4\n",
       "Chihuahua Shorthair/Pit Bull              4\n",
       "Cocker Spaniel/Miniature Poodle           4\n",
       "Standard Poodle/Labrador Retriever        4\n",
       "Tonkinese Mix                             4\n",
       "                                         ..\n",
       "Swedish Vallhund/Miniature Poodle         1\n",
       "Queensland Heeler                         1\n",
       "Cocker Spaniel/Chihuahua Longhair         1\n",
       "Flat Coat Retriever/Labrador Retriever    1\n",
       "Alaskan Malamute/German Shepherd          1\n",
       "Name: Breed, Length: 999, dtype: int64"
      ]
     },
     "execution_count": 138,
     "metadata": {},
     "output_type": "execute_result"
    }
   ],
   "source": [
    "dt.Breed.value_counts()[-1000:-1]"
   ]
  },
  {
   "cell_type": "code",
   "execution_count": 139,
   "metadata": {
    "scrolled": true
   },
   "outputs": [
    {
     "data": {
      "text/plain": [
       "(679,)"
      ]
     },
     "execution_count": 139,
     "metadata": {},
     "output_type": "execute_result"
    }
   ],
   "source": [
    "## Number of Breeds that appear only 1 time \n",
    "\n",
    "dt.Breed.value_counts()[dt.Breed.value_counts().values == 1].shape"
   ]
  },
  {
   "cell_type": "code",
   "execution_count": 140,
   "metadata": {},
   "outputs": [
    {
     "data": {
      "text/plain": [
       "(218,)"
      ]
     },
     "execution_count": 140,
     "metadata": {},
     "output_type": "execute_result"
    }
   ],
   "source": [
    "## Number of Breeds that appear only 2 time \n",
    "\n",
    "\n",
    "\n",
    "dt.Breed.value_counts()[dt.Breed.value_counts().values == 2].shape"
   ]
  },
  {
   "cell_type": "code",
   "execution_count": 141,
   "metadata": {},
   "outputs": [
    {
     "data": {
      "text/plain": [
       "(90,)"
      ]
     },
     "execution_count": 141,
     "metadata": {},
     "output_type": "execute_result"
    }
   ],
   "source": [
    "dt.Breed.value_counts()[dt.Breed.value_counts().values == 3].shape"
   ]
  },
  {
   "cell_type": "code",
   "execution_count": 142,
   "metadata": {
    "scrolled": true
   },
   "outputs": [
    {
     "data": {
      "text/plain": [
       "(60,)"
      ]
     },
     "execution_count": 142,
     "metadata": {},
     "output_type": "execute_result"
    }
   ],
   "source": [
    "dt.Breed.value_counts()[dt.Breed.value_counts().values == 4].shape"
   ]
  },
  {
   "cell_type": "code",
   "execution_count": 143,
   "metadata": {},
   "outputs": [
    {
     "data": {
      "text/plain": [
       "(42,)"
      ]
     },
     "execution_count": 143,
     "metadata": {},
     "output_type": "execute_result"
    }
   ],
   "source": [
    "dt.Breed.value_counts()[dt.Breed.value_counts().values == 5].shape"
   ]
  },
  {
   "cell_type": "code",
   "execution_count": 144,
   "metadata": {
    "scrolled": true
   },
   "outputs": [
    {
     "data": {
      "text/plain": [
       "1373"
      ]
     },
     "execution_count": 144,
     "metadata": {},
     "output_type": "execute_result"
    }
   ],
   "source": [
    "siz_low_breed = len(low_breed)\n",
    "siz_low_breed"
   ]
  },
  {
   "cell_type": "code",
   "execution_count": 145,
   "metadata": {
    "scrolled": true
   },
   "outputs": [
    {
     "data": {
      "text/plain": [
       "0.05136742863556437"
      ]
     },
     "execution_count": 145,
     "metadata": {},
     "output_type": "execute_result"
    }
   ],
   "source": [
    "### Relative frequency of animals which theire breed is unique\n",
    "siz_low_breed/dt.shape[0]\n",
    "\n",
    "## the percentage is low relative to all the animals"
   ]
  },
  {
   "cell_type": "code",
   "execution_count": 146,
   "metadata": {
    "scrolled": true
   },
   "outputs": [
    {
     "data": {
      "image/png": "[encoded data removed]",
      "text/plain": [
       "<Figure size 432x288 with 1 Axes>"
      ]
     },
     "metadata": {
      "needs_background": "light"
     },
     "output_type": "display_data"
    }
   ],
   "source": [
    "#Boxplot to vizualize the describe \n",
    "\n",
    "pd.DataFrame(dt.Breed.value_counts()[50:]).boxplot()\n",
    "plt.show()"
   ]
  },
  {
   "cell_type": "code",
   "execution_count": 147,
   "metadata": {},
   "outputs": [
    {
     "data": {
      "text/plain": [
       "7"
      ]
     },
     "execution_count": 147,
     "metadata": {},
     "output_type": "execute_result"
    }
   ],
   "source": [
    "## Breed that have big representation -- only seven \n",
    "\n",
    "dt.Breed.value_counts().shape[0] - siz_low_breed"
   ]
  },
  {
   "cell_type": "code",
   "execution_count": 148,
   "metadata": {
    "scrolled": true
   },
   "outputs": [
    {
     "data": {
      "text/plain": [
       "0.05136742863556437"
      ]
     },
     "execution_count": 148,
     "metadata": {},
     "output_type": "execute_result"
    }
   ],
   "source": [
    "### Relative frequency of animals which theire breed is unique\n",
    "siz_low_breed/dt.shape[0]\n",
    "\n",
    "## the percentage is low relative to all the animals"
   ]
  },
  {
   "cell_type": "code",
   "execution_count": 149,
   "metadata": {
    "scrolled": false
   },
   "outputs": [
    {
     "data": {
      "text/plain": [
       "(1380,)"
      ]
     },
     "execution_count": 149,
     "metadata": {},
     "output_type": "execute_result"
    }
   ],
   "source": [
    "dt.Breed.value_counts().shape\n"
   ]
  },
  {
   "cell_type": "code",
   "execution_count": 150,
   "metadata": {},
   "outputs": [
    {
     "data": {
      "text/plain": [
       "0.994927536231884"
      ]
     },
     "execution_count": 150,
     "metadata": {},
     "output_type": "execute_result"
    }
   ],
   "source": [
    "### Relative frequency of animals with low breed relativly with other animals with more breed\n",
    "\n",
    "siz_low_breed/ dt.Breed.value_counts().shape[0]\n",
    "\n",
    "## the percentage is high"
   ]
  },
  {
   "cell_type": "code",
   "execution_count": 151,
   "metadata": {},
   "outputs": [
    {
     "data": {
      "text/plain": [
       "\"\\nWe can conclued that although there is a smal number of unique breed in all the animals, this uniques represent\\nalmost 50 percent of the the different breeds in all the dataset. \\nwe Can't remove them. They are the ones that increase the diversity.\\n\\n\""
      ]
     },
     "execution_count": 151,
     "metadata": {},
     "output_type": "execute_result"
    }
   ],
   "source": [
    "\"\"\"\n",
    "We can conclued that although there is a smal number of unique breed in all the animals, this uniques represent\n",
    "almost 50 percent of the the different breeds in all the dataset. \n",
    "we Can't remove them. They are the ones that increase the diversity.\n",
    "\n",
    "\"\"\""
   ]
  },
  {
   "cell_type": "code",
   "execution_count": 152,
   "metadata": {
    "scrolled": true
   },
   "outputs": [
    {
     "data": {
      "text/plain": [
       "Index(['Siamese Mix', 'Australian Cattle Dog Mix', 'Dachshund Mix',\n",
       "       'Boxer Mix', 'Miniature Poodle Mix', 'Border Collie Mix',\n",
       "       'Australian Shepherd Mix', 'Rat Terrier Mix', 'Catahoula Mix',\n",
       "       'Jack Russell Terrier Mix',\n",
       "       ...\n",
       "       'Lhasa Apso/Yorkshire Terrier', 'Staffordshire/Blue Lacy',\n",
       "       'Cavalier Span/Papillon', 'Dachshund Wirehair/Pbgv',\n",
       "       'Swedish Vallhund/Miniature Poodle', 'Queensland Heeler',\n",
       "       'Cocker Spaniel/Chihuahua Longhair',\n",
       "       'Flat Coat Retriever/Labrador Retriever',\n",
       "       'Alaskan Malamute/German Shepherd', 'Maltese/Chihuahua Shorthair'],\n",
       "      dtype='object', length=1373)"
      ]
     },
     "execution_count": 152,
     "metadata": {},
     "output_type": "execute_result"
    }
   ],
   "source": [
    "low_breed.index\n"
   ]
  },
  {
   "cell_type": "code",
   "execution_count": 153,
   "metadata": {},
   "outputs": [
    {
     "data": {
      "text/html": [
       "<div>\n",
       "<style scoped>\n",
       "    .dataframe tbody tr th:only-of-type {\n",
       "        vertical-align: middle;\n",
       "    }\n",
       "\n",
       "    .dataframe tbody tr th {\n",
       "        vertical-align: top;\n",
       "    }\n",
       "\n",
       "    .dataframe thead th {\n",
       "        text-align: right;\n",
       "    }\n",
       "</style>\n",
       "<table border=\"1\" class=\"dataframe\">\n",
       "  <thead>\n",
       "    <tr style=\"text-align: right;\">\n",
       "      <th></th>\n",
       "      <th>Name</th>\n",
       "      <th>DateTime</th>\n",
       "      <th>OutcomeType</th>\n",
       "      <th>AnimalType</th>\n",
       "      <th>SexuponOutcome</th>\n",
       "      <th>AgeuponOutcome</th>\n",
       "      <th>Breed</th>\n",
       "      <th>Color</th>\n",
       "    </tr>\n",
       "    <tr>\n",
       "      <th>AnimalID</th>\n",
       "      <th></th>\n",
       "      <th></th>\n",
       "      <th></th>\n",
       "      <th></th>\n",
       "      <th></th>\n",
       "      <th></th>\n",
       "      <th></th>\n",
       "      <th></th>\n",
       "    </tr>\n",
       "  </thead>\n",
       "  <tbody>\n",
       "    <tr>\n",
       "      <td>A671945</td>\n",
       "      <td>Hambone</td>\n",
       "      <td>2014-02-12 18:22:00</td>\n",
       "      <td>Return_to_owner</td>\n",
       "      <td>Dog</td>\n",
       "      <td>Neutered Male</td>\n",
       "      <td>1 year</td>\n",
       "      <td>Shetland Sheepdog Mix</td>\n",
       "      <td>Brown/White</td>\n",
       "    </tr>\n",
       "    <tr>\n",
       "      <td>A667013</td>\n",
       "      <td>NaN</td>\n",
       "      <td>2013-11-15 12:52:00</td>\n",
       "      <td>Transfer</td>\n",
       "      <td>Dog</td>\n",
       "      <td>Neutered Male</td>\n",
       "      <td>2 years</td>\n",
       "      <td>Lhasa Apso/Miniature Poodle</td>\n",
       "      <td>Tan</td>\n",
       "    </tr>\n",
       "    <tr>\n",
       "      <td>A677334</td>\n",
       "      <td>Elsa</td>\n",
       "      <td>2014-04-25 13:04:00</td>\n",
       "      <td>Transfer</td>\n",
       "      <td>Dog</td>\n",
       "      <td>Intact Female</td>\n",
       "      <td>1 month</td>\n",
       "      <td>Cairn Terrier/Chihuahua Shorthair</td>\n",
       "      <td>Black/Tan</td>\n",
       "    </tr>\n",
       "    <tr>\n",
       "      <td>A671784</td>\n",
       "      <td>Lucy</td>\n",
       "      <td>2014-02-04 17:17:00</td>\n",
       "      <td>Adoption</td>\n",
       "      <td>Dog</td>\n",
       "      <td>Spayed Female</td>\n",
       "      <td>5 months</td>\n",
       "      <td>American Pit Bull Terrier Mix</td>\n",
       "      <td>Red/White</td>\n",
       "    </tr>\n",
       "    <tr>\n",
       "      <td>A677747</td>\n",
       "      <td>NaN</td>\n",
       "      <td>2014-05-03 07:48:00</td>\n",
       "      <td>Adoption</td>\n",
       "      <td>Dog</td>\n",
       "      <td>Spayed Female</td>\n",
       "      <td>1 year</td>\n",
       "      <td>Cairn Terrier</td>\n",
       "      <td>White</td>\n",
       "    </tr>\n",
       "    <tr>\n",
       "      <td>...</td>\n",
       "      <td>...</td>\n",
       "      <td>...</td>\n",
       "      <td>...</td>\n",
       "      <td>...</td>\n",
       "      <td>...</td>\n",
       "      <td>...</td>\n",
       "      <td>...</td>\n",
       "      <td>...</td>\n",
       "    </tr>\n",
       "    <tr>\n",
       "      <td>A697158</td>\n",
       "      <td>Max</td>\n",
       "      <td>2015-05-02 21:04:00</td>\n",
       "      <td>Adoption</td>\n",
       "      <td>Dog</td>\n",
       "      <td>Neutered Male</td>\n",
       "      <td>2 months</td>\n",
       "      <td>Newfoundland Mix</td>\n",
       "      <td>White/Black</td>\n",
       "    </tr>\n",
       "    <tr>\n",
       "      <td>A519949</td>\n",
       "      <td>Bella</td>\n",
       "      <td>2014-06-30 17:34:00</td>\n",
       "      <td>Return_to_owner</td>\n",
       "      <td>Dog</td>\n",
       "      <td>Spayed Female</td>\n",
       "      <td>9 years</td>\n",
       "      <td>Bullmastiff Mix</td>\n",
       "      <td>Black</td>\n",
       "    </tr>\n",
       "    <tr>\n",
       "      <td>A701044</td>\n",
       "      <td>NaN</td>\n",
       "      <td>2015-04-28 14:26:00</td>\n",
       "      <td>Adoption</td>\n",
       "      <td>Dog</td>\n",
       "      <td>Neutered Male</td>\n",
       "      <td>2 months</td>\n",
       "      <td>Siberian Husky/German Shepherd</td>\n",
       "      <td>Black/Tricolor</td>\n",
       "    </tr>\n",
       "    <tr>\n",
       "      <td>A716997</td>\n",
       "      <td>Zeus</td>\n",
       "      <td>2016-01-29 18:52:00</td>\n",
       "      <td>Adoption</td>\n",
       "      <td>Dog</td>\n",
       "      <td>Neutered Male</td>\n",
       "      <td>6 years</td>\n",
       "      <td>Staffordshire Mix</td>\n",
       "      <td>Blue/White</td>\n",
       "    </tr>\n",
       "    <tr>\n",
       "      <td>A698128</td>\n",
       "      <td>Zeus</td>\n",
       "      <td>2015-03-09 13:33:00</td>\n",
       "      <td>Adoption</td>\n",
       "      <td>Dog</td>\n",
       "      <td>Neutered Male</td>\n",
       "      <td>4 years</td>\n",
       "      <td>Old English Bulldog Mix</td>\n",
       "      <td>White/Tan</td>\n",
       "    </tr>\n",
       "  </tbody>\n",
       "</table>\n",
       "<p>10950 rows × 8 columns</p>\n",
       "</div>"
      ],
      "text/plain": [
       "             Name             DateTime      OutcomeType AnimalType  \\\n",
       "AnimalID                                                             \n",
       "A671945   Hambone  2014-02-12 18:22:00  Return_to_owner        Dog   \n",
       "A667013       NaN  2013-11-15 12:52:00         Transfer        Dog   \n",
       "A677334      Elsa  2014-04-25 13:04:00         Transfer        Dog   \n",
       "A671784      Lucy  2014-02-04 17:17:00         Adoption        Dog   \n",
       "A677747       NaN  2014-05-03 07:48:00         Adoption        Dog   \n",
       "...           ...                  ...              ...        ...   \n",
       "A697158       Max  2015-05-02 21:04:00         Adoption        Dog   \n",
       "A519949     Bella  2014-06-30 17:34:00  Return_to_owner        Dog   \n",
       "A701044       NaN  2015-04-28 14:26:00         Adoption        Dog   \n",
       "A716997      Zeus  2016-01-29 18:52:00         Adoption        Dog   \n",
       "A698128      Zeus  2015-03-09 13:33:00         Adoption        Dog   \n",
       "\n",
       "         SexuponOutcome AgeuponOutcome                              Breed  \\\n",
       "AnimalID                                                                    \n",
       "A671945   Neutered Male         1 year              Shetland Sheepdog Mix   \n",
       "A667013   Neutered Male        2 years        Lhasa Apso/Miniature Poodle   \n",
       "A677334   Intact Female        1 month  Cairn Terrier/Chihuahua Shorthair   \n",
       "A671784   Spayed Female       5 months      American Pit Bull Terrier Mix   \n",
       "A677747   Spayed Female         1 year                      Cairn Terrier   \n",
       "...                 ...            ...                                ...   \n",
       "A697158   Neutered Male       2 months                   Newfoundland Mix   \n",
       "A519949   Spayed Female        9 years                    Bullmastiff Mix   \n",
       "A701044   Neutered Male       2 months     Siberian Husky/German Shepherd   \n",
       "A716997   Neutered Male        6 years                  Staffordshire Mix   \n",
       "A698128   Neutered Male        4 years            Old English Bulldog Mix   \n",
       "\n",
       "                   Color  \n",
       "AnimalID                  \n",
       "A671945      Brown/White  \n",
       "A667013              Tan  \n",
       "A677334        Black/Tan  \n",
       "A671784        Red/White  \n",
       "A677747            White  \n",
       "...                  ...  \n",
       "A697158      White/Black  \n",
       "A519949            Black  \n",
       "A701044   Black/Tricolor  \n",
       "A716997       Blue/White  \n",
       "A698128        White/Tan  \n",
       "\n",
       "[10950 rows x 8 columns]"
      ]
     },
     "execution_count": 153,
     "metadata": {},
     "output_type": "execute_result"
    }
   ],
   "source": [
    "# decide wether to use this or not -- Filter\n",
    "\n",
    "dt.loc[dt['Breed'].isin(low_breed.index)]"
   ]
  },
  {
   "cell_type": "code",
   "execution_count": 154,
   "metadata": {},
   "outputs": [],
   "source": [
    "## Create the Groupers \n",
    "\n",
    "lw_name = list(low_breed.keys())\n",
    "\n",
    "\n",
    "rare_d = [name for name in lw_name if '/' in name] # Rare Double\n",
    "rare_m = [name for name in lw_name if 'Mix' in name] # Rare Mix\n",
    "rare = [name for name in lw_name if 'Mix' not in name and '/' not in name ] # Rare\n",
    "\n",
    "# Rename Breeds \n",
    "\n",
    "dt.loc[dt['Breed'].isin(rare_d), 'Breed'] = 'Rare_Double'\n",
    "dt.loc[dt['Breed'].isin(rare_m), 'Breed'] = 'Rare_Mix'\n",
    "dt.loc[dt['Breed'].isin(rare), 'Breed'] = 'Rare'"
   ]
  },
  {
   "cell_type": "code",
   "execution_count": 155,
   "metadata": {},
   "outputs": [
    {
     "data": {
      "text/plain": [
       "'\\nIn order to check wich are the groups of Breeds correspondig to Rare Double, Rare Mix or Rare,\\nsee the line of code above and print \\n\\n'"
      ]
     },
     "execution_count": 155,
     "metadata": {},
     "output_type": "execute_result"
    }
   ],
   "source": [
    "\"\"\"\n",
    "In order to check wich are the groups of Breeds correspondig to Rare Double, Rare Mix or Rare,\n",
    "see the line of code above and print \n",
    "\n",
    "\"\"\""
   ]
  },
  {
   "cell_type": "code",
   "execution_count": 156,
   "metadata": {},
   "outputs": [
    {
     "data": {
      "image/png": "[encoded data removed]",
      "text/plain": [
       "<Figure size 432x288 with 1 Axes>"
      ]
     },
     "metadata": {
      "needs_background": "light"
     },
     "output_type": "display_data"
    }
   ],
   "source": [
    "pd.DataFrame(dt.Breed.value_counts()).boxplot()\n",
    "\n",
    "plt.show()"
   ]
  },
  {
   "cell_type": "code",
   "execution_count": 157,
   "metadata": {
    "scrolled": true
   },
   "outputs": [
    {
     "data": {
      "text/plain": [
       "(10,)"
      ]
     },
     "execution_count": 157,
     "metadata": {},
     "output_type": "execute_result"
    }
   ],
   "source": [
    "dt['Breed'].unique().shape"
   ]
  },
  {
   "cell_type": "code",
   "execution_count": 158,
   "metadata": {},
   "outputs": [
    {
     "data": {
      "text/plain": [
       "'\\nInsight:\\n\\nProblably will do an hot encoding of this one.\\n\\n-------\\nResponse:\\n\\nWill do an Hot encoding of the 10 Breeds!!!\\n\\n'"
      ]
     },
     "execution_count": 158,
     "metadata": {},
     "output_type": "execute_result"
    }
   ],
   "source": [
    "\"\"\"\n",
    "Insight:\n",
    "\n",
    "Problably will do an hot encoding of this one.\n",
    "\n",
    "-------\n",
    "Response:\n",
    "\n",
    "Will do an Hot encoding of the 10 Breeds!!!\n",
    "\n",
    "\"\"\""
   ]
  },
  {
   "cell_type": "markdown",
   "metadata": {},
   "source": [
    "# Inspect Feature DATETIME -- use in analysis. not in prediction (probably)"
   ]
  },
  {
   "cell_type": "code",
   "execution_count": 159,
   "metadata": {},
   "outputs": [],
   "source": [
    "# Convert DateTime column object to dattime format\n",
    "\n",
    "dt['DateTime'] = pd.to_datetime(dt['DateTime'])\n"
   ]
  },
  {
   "cell_type": "code",
   "execution_count": 160,
   "metadata": {
    "scrolled": false
   },
   "outputs": [
    {
     "data": {
      "text/plain": [
       "(Timestamp('2013-10-01 09:31:00'), Timestamp('2016-02-21 19:17:00'))"
      ]
     },
     "execution_count": 160,
     "metadata": {},
     "output_type": "execute_result"
    }
   ],
   "source": [
    "## discover the time-range: \n",
    "\n",
    "dt['DateTime'].min(), dt['DateTime'].max()"
   ]
  },
  {
   "cell_type": "code",
   "execution_count": 161,
   "metadata": {},
   "outputs": [
    {
     "data": {
      "text/plain": [
       "' \\n\\nThe time goes from 1 of October of 2013 to 21st of february of 2016.\\nSo we are missing 9 months in 2013 and 9 months on 2016.\\n\\n'"
      ]
     },
     "execution_count": 161,
     "metadata": {},
     "output_type": "execute_result"
    }
   ],
   "source": [
    "\"\"\" \n",
    "\n",
    "The time goes from 1 of October of 2013 to 21st of february of 2016.\n",
    "So we are missing 9 months in 2013 and 9 months on 2016.\n",
    "\n",
    "\"\"\""
   ]
  },
  {
   "cell_type": "code",
   "execution_count": 162,
   "metadata": {},
   "outputs": [],
   "source": [
    "dt['day'] = dt['DateTime'].dt.day\n",
    "dt['month'] = dt['DateTime'].dt.month\n",
    "dt['year'] = dt['DateTime'].dt.year\n"
   ]
  },
  {
   "cell_type": "code",
   "execution_count": 164,
   "metadata": {},
   "outputs": [
    {
     "data": {
      "text/plain": [
       "array(['Return_to_owner', 'Died', 'Adoption', 'Transfer'], dtype=object)"
      ]
     },
     "execution_count": 164,
     "metadata": {},
     "output_type": "execute_result"
    }
   ],
   "source": [
    "## Used just to change the code cell bellow and produce the other graphs \n",
    "dt['OutcomeType'].unique()"
   ]
  },
  {
   "cell_type": "code",
   "execution_count": 181,
   "metadata": {
    "scrolled": false
   },
   "outputs": [
    {
     "data": {
      "text/html": [
       "<div>\n",
       "<style scoped>\n",
       "    .dataframe tbody tr th:only-of-type {\n",
       "        vertical-align: middle;\n",
       "    }\n",
       "\n",
       "    .dataframe tbody tr th {\n",
       "        vertical-align: top;\n",
       "    }\n",
       "\n",
       "    .dataframe thead th {\n",
       "        text-align: right;\n",
       "    }\n",
       "</style>\n",
       "<table border=\"1\" class=\"dataframe\">\n",
       "  <thead>\n",
       "    <tr style=\"text-align: right;\">\n",
       "      <th></th>\n",
       "      <th>OutcomeType</th>\n",
       "    </tr>\n",
       "    <tr>\n",
       "      <th>DateTime</th>\n",
       "      <th></th>\n",
       "    </tr>\n",
       "  </thead>\n",
       "  <tbody>\n",
       "    <tr>\n",
       "      <td>2013</td>\n",
       "      <td>434</td>\n",
       "    </tr>\n",
       "    <tr>\n",
       "      <td>2014</td>\n",
       "      <td>1880</td>\n",
       "    </tr>\n",
       "    <tr>\n",
       "      <td>2015</td>\n",
       "      <td>2167</td>\n",
       "    </tr>\n",
       "    <tr>\n",
       "      <td>2016</td>\n",
       "      <td>305</td>\n",
       "    </tr>\n",
       "  </tbody>\n",
       "</table>\n",
       "</div>"
      ],
      "text/plain": [
       "          OutcomeType\n",
       "DateTime             \n",
       "2013              434\n",
       "2014             1880\n",
       "2015             2167\n",
       "2016              305"
      ]
     },
     "execution_count": 181,
     "metadata": {},
     "output_type": "execute_result"
    }
   ],
   "source": [
    "## Group table by year \n",
    "\n",
    "adopt = dt.loc[dt['OutcomeType']== 'Return_to_owner']\n",
    "\n",
    "adopt = adopt[['DateTime','OutcomeType']]\n",
    "\n",
    "piv = adopt.pivot_table(values = ['OutcomeType'], index = adopt['DateTime'].dt.year , aggfunc = ({'OutcomeType':'count'}))\n",
    "piv"
   ]
  },
  {
   "cell_type": "code",
   "execution_count": 176,
   "metadata": {},
   "outputs": [],
   "source": [
    "## For Relative Frequency\n",
    "#piv = piv/piv.sum()"
   ]
  },
  {
   "cell_type": "code",
   "execution_count": 177,
   "metadata": {
    "scrolled": true
   },
   "outputs": [
    {
     "data": {
      "text/plain": [
       "DateTime\n",
       "2013     199\n",
       "2014     992\n",
       "2015    1706\n",
       "2016    1752\n",
       "Name: OutcomeType, dtype: int64"
      ]
     },
     "execution_count": 177,
     "metadata": {},
     "output_type": "execute_result"
    }
   ],
   "source": [
    "# np.cumsum gives the comulative sum throughout the years \n",
    "np.cumsum(piv['OutcomeType'])"
   ]
  },
  {
   "cell_type": "code",
   "execution_count": 178,
   "metadata": {},
   "outputs": [
    {
     "data": {
      "text/plain": [
       "1752"
      ]
     },
     "execution_count": 178,
     "metadata": {},
     "output_type": "execute_result"
    }
   ],
   "source": [
    "np.cumsum(piv['OutcomeType']).max()"
   ]
  },
  {
   "cell_type": "code",
   "execution_count": 174,
   "metadata": {},
   "outputs": [
    {
     "data": {
      "image/png": "[encoded data removed]",
      "text/plain": [
       "<Figure size 720x720 with 1 Axes>"
      ]
     },
     "metadata": {
      "needs_background": "light"
     },
     "output_type": "display_data"
    }
   ],
   "source": [
    "# Plot adoption by year \n",
    "fig, axs = plt.subplots(figsize=(10, 10))\n",
    "\n",
    "limit = np.cumsum(piv['OutcomeType']).max()\n",
    "\n",
    "# for y limit \n",
    "plt.ylim(0, limit + 0.01)\n",
    "\n",
    "plt.bar(piv.index, piv['OutcomeType'], color = '#80aaff')\n",
    "# us step graph for the comulative increse \n",
    "plt.step(piv.index, np.cumsum(piv['OutcomeType']), color = 'pink')  # np.cumsum(piv['OutcomeType']) change for piv['OutcomeType'] for normal \n",
    "plt.xticks(list(piv.index))\n",
    "#plt.title('Adoption by Year')\n",
    "plt.ylabel('Relative Frequency')\n",
    "plt.xlabel('Year')\n",
    "\n",
    "#plt.savefig('Adoption1.png', bbox_inches='tight') # for saving\n",
    "\n",
    "plt.show()\n"
   ]
  },
  {
   "cell_type": "code",
   "execution_count": 61,
   "metadata": {
    "scrolled": false
   },
   "outputs": [
    {
     "data": {
      "image/png": "[encoded data removed]",
      "text/plain": [
       "<Figure size 1440x720 with 4 Axes>"
      ]
     },
     "metadata": {
      "needs_background": "light"
     },
     "output_type": "display_data"
    }
   ],
   "source": [
    "## do Plotting for outcome at once \n",
    "\n",
    "\n",
    "fig, axs = plt.subplots(1, 4, figsize=(20, 10))\n",
    "\n",
    "#custom_xlim = (0, 100) ## for subplots \n",
    "custom_ylim = (0, 5000) ## for subplots \n",
    "\n",
    "\n",
    "# set the same scale for all the plots \n",
    "\n",
    "plt.setp(axs, ylim=custom_ylim)\n",
    "\n",
    "\n",
    "for i, out in enumerate(dt['OutcomeType'].unique()):\n",
    "    outcome = dt[['DateTime','OutcomeType']]\n",
    "    outcome = outcome.loc[outcome['OutcomeType']== out]\n",
    "    piv = outcome.pivot_table(values = ['OutcomeType'], index = outcome['DateTime'].dt.year , aggfunc = ({'OutcomeType':'count'}))\n",
    "\n",
    "    axs[i].bar(piv.index, piv['OutcomeType'], color = 'black')\n",
    "    axs[i].plot(piv.index, piv['OutcomeType'], color = 'pink')\n",
    "    axs[i].set_title(out,fontsize= 20)\n",
    "    axs[i].set_ylabel('Absolute Frequency', fontsize = 15.0)\n",
    "    axs[i].set_xlabel('Year', fontsize = 15.0)\n",
    "    \n",
    "\n",
    "#for ax in axs.flat:\n",
    " #   ax.set(xlabel='Year', ylabel='Absolute Frequency')\n",
    "\n",
    "# Hide x labels and tick labels for top plots and y ticks for right plots.\n",
    "\n",
    "\n",
    "for ax in axs.flat:\n",
    "    ax.label_outer()"
   ]
  },
  {
   "cell_type": "code",
   "execution_count": 62,
   "metadata": {},
   "outputs": [],
   "source": [
    "dt.drop(columns = 'DateTime', inplace = True)"
   ]
  },
  {
   "cell_type": "markdown",
   "metadata": {},
   "source": [
    "# Inspect feature SexuponOutcome"
   ]
  },
  {
   "cell_type": "code",
   "execution_count": 63,
   "metadata": {},
   "outputs": [
    {
     "data": {
      "text/html": [
       "<div>\n",
       "<style scoped>\n",
       "    .dataframe tbody tr th:only-of-type {\n",
       "        vertical-align: middle;\n",
       "    }\n",
       "\n",
       "    .dataframe tbody tr th {\n",
       "        vertical-align: top;\n",
       "    }\n",
       "\n",
       "    .dataframe thead th {\n",
       "        text-align: right;\n",
       "    }\n",
       "</style>\n",
       "<table border=\"1\" class=\"dataframe\">\n",
       "  <thead>\n",
       "    <tr style=\"text-align: right;\">\n",
       "      <th></th>\n",
       "      <th>Name</th>\n",
       "      <th>OutcomeType</th>\n",
       "      <th>AnimalType</th>\n",
       "      <th>SexuponOutcome</th>\n",
       "      <th>AgeuponOutcome</th>\n",
       "      <th>Breed</th>\n",
       "      <th>Color</th>\n",
       "      <th>day</th>\n",
       "      <th>month</th>\n",
       "      <th>year</th>\n",
       "    </tr>\n",
       "    <tr>\n",
       "      <th>AnimalID</th>\n",
       "      <th></th>\n",
       "      <th></th>\n",
       "      <th></th>\n",
       "      <th></th>\n",
       "      <th></th>\n",
       "      <th></th>\n",
       "      <th></th>\n",
       "      <th></th>\n",
       "      <th></th>\n",
       "      <th></th>\n",
       "    </tr>\n",
       "  </thead>\n",
       "  <tbody>\n",
       "    <tr>\n",
       "      <td>A667395</td>\n",
       "      <td>Diego</td>\n",
       "      <td>Return_to_owner</td>\n",
       "      <td>Dog</td>\n",
       "      <td>NaN</td>\n",
       "      <td>7 years</td>\n",
       "      <td>Rare</td>\n",
       "      <td>Brown Merle</td>\n",
       "      <td>27</td>\n",
       "      <td>11</td>\n",
       "      <td>2013</td>\n",
       "    </tr>\n",
       "  </tbody>\n",
       "</table>\n",
       "</div>"
      ],
      "text/plain": [
       "           Name      OutcomeType AnimalType SexuponOutcome AgeuponOutcome  \\\n",
       "AnimalID                                                                    \n",
       "A667395   Diego  Return_to_owner        Dog            NaN        7 years   \n",
       "\n",
       "         Breed        Color  day  month  year  \n",
       "AnimalID                                       \n",
       "A667395   Rare  Brown Merle   27     11  2013  "
      ]
     },
     "execution_count": 63,
     "metadata": {},
     "output_type": "execute_result"
    }
   ],
   "source": [
    "dt.loc[dt['SexuponOutcome'].isna()]"
   ]
  },
  {
   "cell_type": "code",
   "execution_count": 64,
   "metadata": {},
   "outputs": [],
   "source": [
    "dt.drop(index = 'A667395', inplace = True)"
   ]
  },
  {
   "cell_type": "code",
   "execution_count": 65,
   "metadata": {},
   "outputs": [
    {
     "data": {
      "text/plain": [
       "'\\n\\nDrop the row that has no SexuponOutcome.\\n\\n'"
      ]
     },
     "execution_count": 65,
     "metadata": {},
     "output_type": "execute_result"
    }
   ],
   "source": [
    "\"\"\"\n",
    "\n",
    "Drop the row that has no SexuponOutcome.\n",
    "\n",
    "\"\"\""
   ]
  },
  {
   "cell_type": "code",
   "execution_count": 66,
   "metadata": {},
   "outputs": [],
   "source": [
    "## Reset the index because I removed a row. ## Not needed anymore \n",
    "\n",
    "#dt = dt.reset_index(drop=True)\n"
   ]
  },
  {
   "cell_type": "code",
   "execution_count": 67,
   "metadata": {
    "scrolled": true
   },
   "outputs": [
    {
     "data": {
      "text/plain": [
       "Neutered Male    9779\n",
       "Spayed Female    8820\n",
       "Intact Male      3525\n",
       "Intact Female    3511\n",
       "Unknown          1093\n",
       "Name: SexuponOutcome, dtype: int64"
      ]
     },
     "execution_count": 67,
     "metadata": {},
     "output_type": "execute_result"
    }
   ],
   "source": [
    "dt['SexuponOutcome'].value_counts()"
   ]
  },
  {
   "cell_type": "code",
   "execution_count": 68,
   "metadata": {},
   "outputs": [],
   "source": [
    "#sex_list = list(dt['SexuponOutcome'].unique())\n",
    "\n",
    "#for sex in sex_list:\n",
    "    #austin_fixed[event] = austin_fixed['Events'].str.contains(event).astype(int)"
   ]
  },
  {
   "cell_type": "code",
   "execution_count": 69,
   "metadata": {},
   "outputs": [],
   "source": [
    "# Creat a Gener Column based on Sex Upon Outcome\n",
    "dt['Genere'] = ['Male' if 'Male' in gen else 'Female' if 'Female' in gen else 'Unknown' for gen in dt['SexuponOutcome']]\n",
    "\n",
    "# Create a Steril or Normal Column based on Sex Upon Outcome\n",
    "\n",
    "dt['Spayed/Neutered'] = [1 if 'Spayed' in gen else 1 if 'Neutered' in gen else 0 for gen in dt['SexuponOutcome']]\n",
    "\n"
   ]
  },
  {
   "cell_type": "code",
   "execution_count": 70,
   "metadata": {},
   "outputs": [],
   "source": [
    "dt.drop(columns = 'SexuponOutcome', inplace = True)"
   ]
  },
  {
   "cell_type": "code",
   "execution_count": 71,
   "metadata": {
    "scrolled": true
   },
   "outputs": [
    {
     "data": {
      "text/html": [
       "<div>\n",
       "<style scoped>\n",
       "    .dataframe tbody tr th:only-of-type {\n",
       "        vertical-align: middle;\n",
       "    }\n",
       "\n",
       "    .dataframe tbody tr th {\n",
       "        vertical-align: top;\n",
       "    }\n",
       "\n",
       "    .dataframe thead th {\n",
       "        text-align: right;\n",
       "    }\n",
       "</style>\n",
       "<table border=\"1\" class=\"dataframe\">\n",
       "  <thead>\n",
       "    <tr style=\"text-align: right;\">\n",
       "      <th></th>\n",
       "      <th>Name</th>\n",
       "      <th>OutcomeType</th>\n",
       "      <th>AnimalType</th>\n",
       "      <th>AgeuponOutcome</th>\n",
       "      <th>Breed</th>\n",
       "      <th>Color</th>\n",
       "      <th>day</th>\n",
       "      <th>month</th>\n",
       "      <th>year</th>\n",
       "      <th>Genere</th>\n",
       "      <th>Spayed/Neutered</th>\n",
       "    </tr>\n",
       "    <tr>\n",
       "      <th>AnimalID</th>\n",
       "      <th></th>\n",
       "      <th></th>\n",
       "      <th></th>\n",
       "      <th></th>\n",
       "      <th></th>\n",
       "      <th></th>\n",
       "      <th></th>\n",
       "      <th></th>\n",
       "      <th></th>\n",
       "      <th></th>\n",
       "      <th></th>\n",
       "    </tr>\n",
       "  </thead>\n",
       "  <tbody>\n",
       "    <tr>\n",
       "      <td>A671945</td>\n",
       "      <td>Hambone</td>\n",
       "      <td>Return_to_owner</td>\n",
       "      <td>Dog</td>\n",
       "      <td>1 year</td>\n",
       "      <td>Rare_Mix</td>\n",
       "      <td>Brown/White</td>\n",
       "      <td>12</td>\n",
       "      <td>2</td>\n",
       "      <td>2014</td>\n",
       "      <td>Male</td>\n",
       "      <td>1</td>\n",
       "    </tr>\n",
       "    <tr>\n",
       "      <td>A656520</td>\n",
       "      <td>Emily</td>\n",
       "      <td>Died</td>\n",
       "      <td>Cat</td>\n",
       "      <td>1 year</td>\n",
       "      <td>Domestic Shorthair Mix</td>\n",
       "      <td>Cream Tabby</td>\n",
       "      <td>13</td>\n",
       "      <td>10</td>\n",
       "      <td>2013</td>\n",
       "      <td>Female</td>\n",
       "      <td>1</td>\n",
       "    </tr>\n",
       "    <tr>\n",
       "      <td>A686464</td>\n",
       "      <td>Pearce</td>\n",
       "      <td>Adoption</td>\n",
       "      <td>Dog</td>\n",
       "      <td>2 years</td>\n",
       "      <td>Pit Bull Mix</td>\n",
       "      <td>Blue/White</td>\n",
       "      <td>31</td>\n",
       "      <td>1</td>\n",
       "      <td>2015</td>\n",
       "      <td>Male</td>\n",
       "      <td>1</td>\n",
       "    </tr>\n",
       "    <tr>\n",
       "      <td>A683430</td>\n",
       "      <td>NaN</td>\n",
       "      <td>Transfer</td>\n",
       "      <td>Cat</td>\n",
       "      <td>3 weeks</td>\n",
       "      <td>Domestic Shorthair Mix</td>\n",
       "      <td>Blue Cream</td>\n",
       "      <td>11</td>\n",
       "      <td>7</td>\n",
       "      <td>2014</td>\n",
       "      <td>Male</td>\n",
       "      <td>0</td>\n",
       "    </tr>\n",
       "    <tr>\n",
       "      <td>A667013</td>\n",
       "      <td>NaN</td>\n",
       "      <td>Transfer</td>\n",
       "      <td>Dog</td>\n",
       "      <td>2 years</td>\n",
       "      <td>Rare_Double</td>\n",
       "      <td>Tan</td>\n",
       "      <td>15</td>\n",
       "      <td>11</td>\n",
       "      <td>2013</td>\n",
       "      <td>Male</td>\n",
       "      <td>1</td>\n",
       "    </tr>\n",
       "  </tbody>\n",
       "</table>\n",
       "</div>"
      ],
      "text/plain": [
       "             Name      OutcomeType AnimalType AgeuponOutcome  \\\n",
       "AnimalID                                                       \n",
       "A671945   Hambone  Return_to_owner        Dog         1 year   \n",
       "A656520     Emily             Died        Cat         1 year   \n",
       "A686464    Pearce         Adoption        Dog        2 years   \n",
       "A683430       NaN         Transfer        Cat        3 weeks   \n",
       "A667013       NaN         Transfer        Dog        2 years   \n",
       "\n",
       "                           Breed        Color  day  month  year  Genere  \\\n",
       "AnimalID                                                                  \n",
       "A671945                 Rare_Mix  Brown/White   12      2  2014    Male   \n",
       "A656520   Domestic Shorthair Mix  Cream Tabby   13     10  2013  Female   \n",
       "A686464             Pit Bull Mix   Blue/White   31      1  2015    Male   \n",
       "A683430   Domestic Shorthair Mix   Blue Cream   11      7  2014    Male   \n",
       "A667013              Rare_Double          Tan   15     11  2013    Male   \n",
       "\n",
       "          Spayed/Neutered  \n",
       "AnimalID                   \n",
       "A671945                 1  \n",
       "A656520                 1  \n",
       "A686464                 1  \n",
       "A683430                 0  \n",
       "A667013                 1  "
      ]
     },
     "execution_count": 71,
     "metadata": {},
     "output_type": "execute_result"
    }
   ],
   "source": [
    "dt.head()"
   ]
  },
  {
   "cell_type": "markdown",
   "metadata": {},
   "source": [
    "# Inspect feature AgeuponOutcome"
   ]
  },
  {
   "cell_type": "code",
   "execution_count": 72,
   "metadata": {
    "scrolled": true
   },
   "outputs": [
    {
     "data": {
      "text/plain": [
       "18"
      ]
     },
     "execution_count": 72,
     "metadata": {},
     "output_type": "execute_result"
    }
   ],
   "source": [
    "dt['AgeuponOutcome'].isna().sum()"
   ]
  },
  {
   "cell_type": "code",
   "execution_count": 73,
   "metadata": {},
   "outputs": [
    {
     "data": {
      "text/html": [
       "<div>\n",
       "<style scoped>\n",
       "    .dataframe tbody tr th:only-of-type {\n",
       "        vertical-align: middle;\n",
       "    }\n",
       "\n",
       "    .dataframe tbody tr th {\n",
       "        vertical-align: top;\n",
       "    }\n",
       "\n",
       "    .dataframe thead th {\n",
       "        text-align: right;\n",
       "    }\n",
       "</style>\n",
       "<table border=\"1\" class=\"dataframe\">\n",
       "  <thead>\n",
       "    <tr style=\"text-align: right;\">\n",
       "      <th></th>\n",
       "      <th>Name</th>\n",
       "      <th>OutcomeType</th>\n",
       "      <th>AnimalType</th>\n",
       "      <th>AgeuponOutcome</th>\n",
       "      <th>Breed</th>\n",
       "      <th>Color</th>\n",
       "      <th>day</th>\n",
       "      <th>month</th>\n",
       "      <th>year</th>\n",
       "      <th>Genere</th>\n",
       "      <th>Spayed/Neutered</th>\n",
       "    </tr>\n",
       "    <tr>\n",
       "      <th>AnimalID</th>\n",
       "      <th></th>\n",
       "      <th></th>\n",
       "      <th></th>\n",
       "      <th></th>\n",
       "      <th></th>\n",
       "      <th></th>\n",
       "      <th></th>\n",
       "      <th></th>\n",
       "      <th></th>\n",
       "      <th></th>\n",
       "      <th></th>\n",
       "    </tr>\n",
       "  </thead>\n",
       "  <tbody>\n",
       "    <tr>\n",
       "      <td>A720674</td>\n",
       "      <td>NaN</td>\n",
       "      <td>Transfer</td>\n",
       "      <td>Cat</td>\n",
       "      <td>NaN</td>\n",
       "      <td>Domestic Shorthair Mix</td>\n",
       "      <td>Blue Tabby/White</td>\n",
       "      <td>16</td>\n",
       "      <td>2</td>\n",
       "      <td>2016</td>\n",
       "      <td>Male</td>\n",
       "      <td>0</td>\n",
       "    </tr>\n",
       "    <tr>\n",
       "      <td>A720973</td>\n",
       "      <td>NaN</td>\n",
       "      <td>Transfer</td>\n",
       "      <td>Cat</td>\n",
       "      <td>NaN</td>\n",
       "      <td>Domestic Shorthair Mix</td>\n",
       "      <td>Gray Tabby</td>\n",
       "      <td>18</td>\n",
       "      <td>2</td>\n",
       "      <td>2016</td>\n",
       "      <td>Unknown</td>\n",
       "      <td>0</td>\n",
       "    </tr>\n",
       "    <tr>\n",
       "      <td>A720820</td>\n",
       "      <td>NaN</td>\n",
       "      <td>Transfer</td>\n",
       "      <td>Cat</td>\n",
       "      <td>NaN</td>\n",
       "      <td>Domestic Shorthair Mix</td>\n",
       "      <td>Brown Tabby</td>\n",
       "      <td>16</td>\n",
       "      <td>2</td>\n",
       "      <td>2016</td>\n",
       "      <td>Female</td>\n",
       "      <td>0</td>\n",
       "    </tr>\n",
       "    <tr>\n",
       "      <td>A721076</td>\n",
       "      <td>NaN</td>\n",
       "      <td>Died</td>\n",
       "      <td>Dog</td>\n",
       "      <td>NaN</td>\n",
       "      <td>Rare_Mix</td>\n",
       "      <td>White</td>\n",
       "      <td>20</td>\n",
       "      <td>2</td>\n",
       "      <td>2016</td>\n",
       "      <td>Male</td>\n",
       "      <td>0</td>\n",
       "    </tr>\n",
       "    <tr>\n",
       "      <td>A720422</td>\n",
       "      <td>NaN</td>\n",
       "      <td>Transfer</td>\n",
       "      <td>Cat</td>\n",
       "      <td>NaN</td>\n",
       "      <td>Domestic Shorthair Mix</td>\n",
       "      <td>Brown Tabby</td>\n",
       "      <td>9</td>\n",
       "      <td>2</td>\n",
       "      <td>2016</td>\n",
       "      <td>Female</td>\n",
       "      <td>0</td>\n",
       "    </tr>\n",
       "    <tr>\n",
       "      <td>A720697</td>\n",
       "      <td>NaN</td>\n",
       "      <td>Transfer</td>\n",
       "      <td>Cat</td>\n",
       "      <td>NaN</td>\n",
       "      <td>Domestic Shorthair Mix</td>\n",
       "      <td>Black</td>\n",
       "      <td>16</td>\n",
       "      <td>2</td>\n",
       "      <td>2016</td>\n",
       "      <td>Female</td>\n",
       "      <td>1</td>\n",
       "    </tr>\n",
       "    <tr>\n",
       "      <td>A720640</td>\n",
       "      <td>NaN</td>\n",
       "      <td>Transfer</td>\n",
       "      <td>Cat</td>\n",
       "      <td>NaN</td>\n",
       "      <td>Domestic Shorthair Mix</td>\n",
       "      <td>Black Tabby/White</td>\n",
       "      <td>16</td>\n",
       "      <td>2</td>\n",
       "      <td>2016</td>\n",
       "      <td>Unknown</td>\n",
       "      <td>0</td>\n",
       "    </tr>\n",
       "    <tr>\n",
       "      <td>A720636</td>\n",
       "      <td>NaN</td>\n",
       "      <td>Transfer</td>\n",
       "      <td>Cat</td>\n",
       "      <td>NaN</td>\n",
       "      <td>Domestic Shorthair Mix</td>\n",
       "      <td>Black</td>\n",
       "      <td>16</td>\n",
       "      <td>2</td>\n",
       "      <td>2016</td>\n",
       "      <td>Unknown</td>\n",
       "      <td>0</td>\n",
       "    </tr>\n",
       "    <tr>\n",
       "      <td>A720701</td>\n",
       "      <td>NaN</td>\n",
       "      <td>Transfer</td>\n",
       "      <td>Cat</td>\n",
       "      <td>NaN</td>\n",
       "      <td>Domestic Shorthair Mix</td>\n",
       "      <td>Blue Tabby/White</td>\n",
       "      <td>16</td>\n",
       "      <td>2</td>\n",
       "      <td>2016</td>\n",
       "      <td>Male</td>\n",
       "      <td>0</td>\n",
       "    </tr>\n",
       "    <tr>\n",
       "      <td>A720782</td>\n",
       "      <td>NaN</td>\n",
       "      <td>Transfer</td>\n",
       "      <td>Cat</td>\n",
       "      <td>NaN</td>\n",
       "      <td>Domestic Shorthair Mix</td>\n",
       "      <td>Torbie</td>\n",
       "      <td>16</td>\n",
       "      <td>2</td>\n",
       "      <td>2016</td>\n",
       "      <td>Female</td>\n",
       "      <td>0</td>\n",
       "    </tr>\n",
       "    <tr>\n",
       "      <td>A720780</td>\n",
       "      <td>NaN</td>\n",
       "      <td>Transfer</td>\n",
       "      <td>Cat</td>\n",
       "      <td>NaN</td>\n",
       "      <td>Domestic Shorthair Mix</td>\n",
       "      <td>Brown Tabby</td>\n",
       "      <td>16</td>\n",
       "      <td>2</td>\n",
       "      <td>2016</td>\n",
       "      <td>Female</td>\n",
       "      <td>0</td>\n",
       "    </tr>\n",
       "    <tr>\n",
       "      <td>A720653</td>\n",
       "      <td>NaN</td>\n",
       "      <td>Transfer</td>\n",
       "      <td>Cat</td>\n",
       "      <td>NaN</td>\n",
       "      <td>Domestic Shorthair Mix</td>\n",
       "      <td>Tortie</td>\n",
       "      <td>16</td>\n",
       "      <td>2</td>\n",
       "      <td>2016</td>\n",
       "      <td>Female</td>\n",
       "      <td>0</td>\n",
       "    </tr>\n",
       "    <tr>\n",
       "      <td>A720652</td>\n",
       "      <td>NaN</td>\n",
       "      <td>Transfer</td>\n",
       "      <td>Cat</td>\n",
       "      <td>NaN</td>\n",
       "      <td>Domestic Shorthair Mix</td>\n",
       "      <td>Blue</td>\n",
       "      <td>16</td>\n",
       "      <td>2</td>\n",
       "      <td>2016</td>\n",
       "      <td>Male</td>\n",
       "      <td>0</td>\n",
       "    </tr>\n",
       "    <tr>\n",
       "      <td>A720534</td>\n",
       "      <td>NaN</td>\n",
       "      <td>Transfer</td>\n",
       "      <td>Cat</td>\n",
       "      <td>NaN</td>\n",
       "      <td>Domestic Shorthair Mix</td>\n",
       "      <td>Brown Tabby/White</td>\n",
       "      <td>11</td>\n",
       "      <td>2</td>\n",
       "      <td>2016</td>\n",
       "      <td>Female</td>\n",
       "      <td>0</td>\n",
       "    </tr>\n",
       "    <tr>\n",
       "      <td>A720781</td>\n",
       "      <td>NaN</td>\n",
       "      <td>Transfer</td>\n",
       "      <td>Cat</td>\n",
       "      <td>NaN</td>\n",
       "      <td>Domestic Shorthair Mix</td>\n",
       "      <td>Brown Tabby</td>\n",
       "      <td>16</td>\n",
       "      <td>2</td>\n",
       "      <td>2016</td>\n",
       "      <td>Unknown</td>\n",
       "      <td>0</td>\n",
       "    </tr>\n",
       "    <tr>\n",
       "      <td>A720908</td>\n",
       "      <td>NaN</td>\n",
       "      <td>Died</td>\n",
       "      <td>Cat</td>\n",
       "      <td>NaN</td>\n",
       "      <td>Domestic Longhair Mix</td>\n",
       "      <td>Cream Tabby</td>\n",
       "      <td>17</td>\n",
       "      <td>2</td>\n",
       "      <td>2016</td>\n",
       "      <td>Male</td>\n",
       "      <td>0</td>\n",
       "    </tr>\n",
       "    <tr>\n",
       "      <td>A721113</td>\n",
       "      <td>NaN</td>\n",
       "      <td>Transfer</td>\n",
       "      <td>Cat</td>\n",
       "      <td>NaN</td>\n",
       "      <td>Domestic Shorthair Mix</td>\n",
       "      <td>Black</td>\n",
       "      <td>21</td>\n",
       "      <td>2</td>\n",
       "      <td>2016</td>\n",
       "      <td>Female</td>\n",
       "      <td>0</td>\n",
       "    </tr>\n",
       "    <tr>\n",
       "      <td>A720502</td>\n",
       "      <td>NaN</td>\n",
       "      <td>Transfer</td>\n",
       "      <td>Cat</td>\n",
       "      <td>NaN</td>\n",
       "      <td>Domestic Shorthair Mix</td>\n",
       "      <td>Black</td>\n",
       "      <td>10</td>\n",
       "      <td>2</td>\n",
       "      <td>2016</td>\n",
       "      <td>Male</td>\n",
       "      <td>0</td>\n",
       "    </tr>\n",
       "  </tbody>\n",
       "</table>\n",
       "</div>"
      ],
      "text/plain": [
       "         Name OutcomeType AnimalType AgeuponOutcome                   Breed  \\\n",
       "AnimalID                                                                      \n",
       "A720674   NaN    Transfer        Cat            NaN  Domestic Shorthair Mix   \n",
       "A720973   NaN    Transfer        Cat            NaN  Domestic Shorthair Mix   \n",
       "A720820   NaN    Transfer        Cat            NaN  Domestic Shorthair Mix   \n",
       "A721076   NaN        Died        Dog            NaN                Rare_Mix   \n",
       "A720422   NaN    Transfer        Cat            NaN  Domestic Shorthair Mix   \n",
       "A720697   NaN    Transfer        Cat            NaN  Domestic Shorthair Mix   \n",
       "A720640   NaN    Transfer        Cat            NaN  Domestic Shorthair Mix   \n",
       "A720636   NaN    Transfer        Cat            NaN  Domestic Shorthair Mix   \n",
       "A720701   NaN    Transfer        Cat            NaN  Domestic Shorthair Mix   \n",
       "A720782   NaN    Transfer        Cat            NaN  Domestic Shorthair Mix   \n",
       "A720780   NaN    Transfer        Cat            NaN  Domestic Shorthair Mix   \n",
       "A720653   NaN    Transfer        Cat            NaN  Domestic Shorthair Mix   \n",
       "A720652   NaN    Transfer        Cat            NaN  Domestic Shorthair Mix   \n",
       "A720534   NaN    Transfer        Cat            NaN  Domestic Shorthair Mix   \n",
       "A720781   NaN    Transfer        Cat            NaN  Domestic Shorthair Mix   \n",
       "A720908   NaN        Died        Cat            NaN   Domestic Longhair Mix   \n",
       "A721113   NaN    Transfer        Cat            NaN  Domestic Shorthair Mix   \n",
       "A720502   NaN    Transfer        Cat            NaN  Domestic Shorthair Mix   \n",
       "\n",
       "                      Color  day  month  year   Genere  Spayed/Neutered  \n",
       "AnimalID                                                                 \n",
       "A720674    Blue Tabby/White   16      2  2016     Male                0  \n",
       "A720973          Gray Tabby   18      2  2016  Unknown                0  \n",
       "A720820         Brown Tabby   16      2  2016   Female                0  \n",
       "A721076               White   20      2  2016     Male                0  \n",
       "A720422         Brown Tabby    9      2  2016   Female                0  \n",
       "A720697               Black   16      2  2016   Female                1  \n",
       "A720640   Black Tabby/White   16      2  2016  Unknown                0  \n",
       "A720636               Black   16      2  2016  Unknown                0  \n",
       "A720701    Blue Tabby/White   16      2  2016     Male                0  \n",
       "A720782              Torbie   16      2  2016   Female                0  \n",
       "A720780         Brown Tabby   16      2  2016   Female                0  \n",
       "A720653              Tortie   16      2  2016   Female                0  \n",
       "A720652                Blue   16      2  2016     Male                0  \n",
       "A720534   Brown Tabby/White   11      2  2016   Female                0  \n",
       "A720781         Brown Tabby   16      2  2016  Unknown                0  \n",
       "A720908         Cream Tabby   17      2  2016     Male                0  \n",
       "A721113               Black   21      2  2016   Female                0  \n",
       "A720502               Black   10      2  2016     Male                0  "
      ]
     },
     "execution_count": 73,
     "metadata": {},
     "output_type": "execute_result"
    }
   ],
   "source": [
    "dt.loc[dt['AgeuponOutcome'].isna()]"
   ]
  },
  {
   "cell_type": "code",
   "execution_count": 74,
   "metadata": {},
   "outputs": [],
   "source": [
    "## Drop the 18 rows that have NaN in AgeuponOutcome\n",
    "\n",
    "dt.drop(index = dt.loc[dt['AgeuponOutcome'].isna()].index , inplace = True)"
   ]
  },
  {
   "cell_type": "code",
   "execution_count": 75,
   "metadata": {},
   "outputs": [],
   "source": [
    "# Reset the index again ## NOT NEEDED ANYMORE \n",
    "\n",
    "#dt.reset_index(drop = True)"
   ]
  },
  {
   "cell_type": "code",
   "execution_count": 76,
   "metadata": {
    "scrolled": true
   },
   "outputs": [
    {
     "data": {
      "text/plain": [
       "array(['1 year', '2 years', '3 weeks', '1 month', '5 months', '4 years',\n",
       "       '3 months', '2 weeks', '2 months', '10 months', '6 months',\n",
       "       '5 years', '7 years', '3 years', '4 months', '12 years', '9 years',\n",
       "       '6 years', '1 weeks', '11 years', '4 weeks', '7 months', '8 years',\n",
       "       '11 months', '4 days', '9 months', '8 months', '15 years',\n",
       "       '10 years', '1 week', '0 years', '14 years', '3 days', '6 days',\n",
       "       '5 days', '5 weeks', '2 days', '16 years', '1 day', '13 years',\n",
       "       '17 years', '18 years', '19 years', '20 years'], dtype=object)"
      ]
     },
     "execution_count": 76,
     "metadata": {},
     "output_type": "execute_result"
    }
   ],
   "source": [
    "## Convert age upon outcome into the same unity  : decided it to be month \n",
    "\n",
    "dt['AgeuponOutcome'].unique()"
   ]
  },
  {
   "cell_type": "code",
   "execution_count": 77,
   "metadata": {},
   "outputs": [],
   "source": [
    "## FUNCTION 1#\n",
    "\n",
    "def convert_to_month(s):\n",
    "    \"\"\"\n",
    "    Convert a string value to numeric. Also make the unity of the string as months.\n",
    "    \n",
    "    Args:\n",
    "        s: The AgeuponOutcome in string format.\n",
    "\n",
    "    Returns:\n",
    "        The correct value in Months.\n",
    "    \"\"\"\n",
    "    \n",
    "    if 'year' in s or 'years' in s:\n",
    "        \n",
    "        return float(re.sub('\\D+', '', s))* 12\n",
    "    \n",
    "    elif 'month' in s or 'months' in s:\n",
    "        \n",
    "        return float(re.sub('\\D+', '', s))\n",
    "    \n",
    "    elif 'week' in s or 'weeks' in s:\n",
    "        \n",
    "        return float(re.sub('\\D+', '', s)) * 0.23\n",
    "    else:\n",
    "        \n",
    "        return float(re.sub('\\D+', '', s)) * 0.03\n",
    "    \n",
    "    "
   ]
  },
  {
   "cell_type": "code",
   "execution_count": 78,
   "metadata": {},
   "outputs": [],
   "source": [
    "dt['AgeuponOutcome'] = dt['AgeuponOutcome'].apply(convert_to_month)"
   ]
  },
  {
   "cell_type": "code",
   "execution_count": 79,
   "metadata": {},
   "outputs": [],
   "source": [
    "dt.rename(columns = {'AgeuponOutcome': 'Age_Months'}, inplace = True)"
   ]
  },
  {
   "cell_type": "code",
   "execution_count": 80,
   "metadata": {},
   "outputs": [
    {
     "data": {
      "text/html": [
       "<div>\n",
       "<style scoped>\n",
       "    .dataframe tbody tr th:only-of-type {\n",
       "        vertical-align: middle;\n",
       "    }\n",
       "\n",
       "    .dataframe tbody tr th {\n",
       "        vertical-align: top;\n",
       "    }\n",
       "\n",
       "    .dataframe thead th {\n",
       "        text-align: right;\n",
       "    }\n",
       "</style>\n",
       "<table border=\"1\" class=\"dataframe\">\n",
       "  <thead>\n",
       "    <tr style=\"text-align: right;\">\n",
       "      <th></th>\n",
       "      <th>Name</th>\n",
       "      <th>OutcomeType</th>\n",
       "      <th>AnimalType</th>\n",
       "      <th>Age_Months</th>\n",
       "      <th>Breed</th>\n",
       "      <th>Color</th>\n",
       "      <th>day</th>\n",
       "      <th>month</th>\n",
       "      <th>year</th>\n",
       "      <th>Genere</th>\n",
       "      <th>Spayed/Neutered</th>\n",
       "    </tr>\n",
       "    <tr>\n",
       "      <th>AnimalID</th>\n",
       "      <th></th>\n",
       "      <th></th>\n",
       "      <th></th>\n",
       "      <th></th>\n",
       "      <th></th>\n",
       "      <th></th>\n",
       "      <th></th>\n",
       "      <th></th>\n",
       "      <th></th>\n",
       "      <th></th>\n",
       "      <th></th>\n",
       "    </tr>\n",
       "  </thead>\n",
       "  <tbody>\n",
       "    <tr>\n",
       "      <td>A671945</td>\n",
       "      <td>Hambone</td>\n",
       "      <td>Return_to_owner</td>\n",
       "      <td>Dog</td>\n",
       "      <td>12.00</td>\n",
       "      <td>Rare_Mix</td>\n",
       "      <td>Brown/White</td>\n",
       "      <td>12</td>\n",
       "      <td>2</td>\n",
       "      <td>2014</td>\n",
       "      <td>Male</td>\n",
       "      <td>1</td>\n",
       "    </tr>\n",
       "    <tr>\n",
       "      <td>A656520</td>\n",
       "      <td>Emily</td>\n",
       "      <td>Died</td>\n",
       "      <td>Cat</td>\n",
       "      <td>12.00</td>\n",
       "      <td>Domestic Shorthair Mix</td>\n",
       "      <td>Cream Tabby</td>\n",
       "      <td>13</td>\n",
       "      <td>10</td>\n",
       "      <td>2013</td>\n",
       "      <td>Female</td>\n",
       "      <td>1</td>\n",
       "    </tr>\n",
       "    <tr>\n",
       "      <td>A686464</td>\n",
       "      <td>Pearce</td>\n",
       "      <td>Adoption</td>\n",
       "      <td>Dog</td>\n",
       "      <td>24.00</td>\n",
       "      <td>Pit Bull Mix</td>\n",
       "      <td>Blue/White</td>\n",
       "      <td>31</td>\n",
       "      <td>1</td>\n",
       "      <td>2015</td>\n",
       "      <td>Male</td>\n",
       "      <td>1</td>\n",
       "    </tr>\n",
       "    <tr>\n",
       "      <td>A683430</td>\n",
       "      <td>NaN</td>\n",
       "      <td>Transfer</td>\n",
       "      <td>Cat</td>\n",
       "      <td>0.69</td>\n",
       "      <td>Domestic Shorthair Mix</td>\n",
       "      <td>Blue Cream</td>\n",
       "      <td>11</td>\n",
       "      <td>7</td>\n",
       "      <td>2014</td>\n",
       "      <td>Male</td>\n",
       "      <td>0</td>\n",
       "    </tr>\n",
       "    <tr>\n",
       "      <td>A667013</td>\n",
       "      <td>NaN</td>\n",
       "      <td>Transfer</td>\n",
       "      <td>Dog</td>\n",
       "      <td>24.00</td>\n",
       "      <td>Rare_Double</td>\n",
       "      <td>Tan</td>\n",
       "      <td>15</td>\n",
       "      <td>11</td>\n",
       "      <td>2013</td>\n",
       "      <td>Male</td>\n",
       "      <td>1</td>\n",
       "    </tr>\n",
       "  </tbody>\n",
       "</table>\n",
       "</div>"
      ],
      "text/plain": [
       "             Name      OutcomeType AnimalType  Age_Months  \\\n",
       "AnimalID                                                    \n",
       "A671945   Hambone  Return_to_owner        Dog       12.00   \n",
       "A656520     Emily             Died        Cat       12.00   \n",
       "A686464    Pearce         Adoption        Dog       24.00   \n",
       "A683430       NaN         Transfer        Cat        0.69   \n",
       "A667013       NaN         Transfer        Dog       24.00   \n",
       "\n",
       "                           Breed        Color  day  month  year  Genere  \\\n",
       "AnimalID                                                                  \n",
       "A671945                 Rare_Mix  Brown/White   12      2  2014    Male   \n",
       "A656520   Domestic Shorthair Mix  Cream Tabby   13     10  2013  Female   \n",
       "A686464             Pit Bull Mix   Blue/White   31      1  2015    Male   \n",
       "A683430   Domestic Shorthair Mix   Blue Cream   11      7  2014    Male   \n",
       "A667013              Rare_Double          Tan   15     11  2013    Male   \n",
       "\n",
       "          Spayed/Neutered  \n",
       "AnimalID                   \n",
       "A671945                 1  \n",
       "A656520                 1  \n",
       "A686464                 1  \n",
       "A683430                 0  \n",
       "A667013                 1  "
      ]
     },
     "execution_count": 80,
     "metadata": {},
     "output_type": "execute_result"
    }
   ],
   "source": [
    "dt.head()"
   ]
  },
  {
   "cell_type": "markdown",
   "metadata": {},
   "source": [
    "# Animal Name column --- after anlayzis drop it\n"
   ]
  },
  {
   "cell_type": "code",
   "execution_count": 81,
   "metadata": {},
   "outputs": [
    {
     "data": {
      "text/html": [
       "<div>\n",
       "<style scoped>\n",
       "    .dataframe tbody tr th:only-of-type {\n",
       "        vertical-align: middle;\n",
       "    }\n",
       "\n",
       "    .dataframe tbody tr th {\n",
       "        vertical-align: top;\n",
       "    }\n",
       "\n",
       "    .dataframe thead th {\n",
       "        text-align: right;\n",
       "    }\n",
       "</style>\n",
       "<table border=\"1\" class=\"dataframe\">\n",
       "  <thead>\n",
       "    <tr style=\"text-align: right;\">\n",
       "      <th></th>\n",
       "      <th>Frequency</th>\n",
       "    </tr>\n",
       "  </thead>\n",
       "  <tbody>\n",
       "    <tr>\n",
       "      <td>Max</td>\n",
       "      <td>136</td>\n",
       "    </tr>\n",
       "    <tr>\n",
       "      <td>Bella</td>\n",
       "      <td>135</td>\n",
       "    </tr>\n",
       "    <tr>\n",
       "      <td>Charlie</td>\n",
       "      <td>107</td>\n",
       "    </tr>\n",
       "    <tr>\n",
       "      <td>Daisy</td>\n",
       "      <td>106</td>\n",
       "    </tr>\n",
       "    <tr>\n",
       "      <td>Lucy</td>\n",
       "      <td>94</td>\n",
       "    </tr>\n",
       "    <tr>\n",
       "      <td>Buddy</td>\n",
       "      <td>87</td>\n",
       "    </tr>\n",
       "    <tr>\n",
       "      <td>Princess</td>\n",
       "      <td>86</td>\n",
       "    </tr>\n",
       "    <tr>\n",
       "      <td>Rocky</td>\n",
       "      <td>85</td>\n",
       "    </tr>\n",
       "    <tr>\n",
       "      <td>Luna</td>\n",
       "      <td>68</td>\n",
       "    </tr>\n",
       "    <tr>\n",
       "      <td>Jack</td>\n",
       "      <td>66</td>\n",
       "    </tr>\n",
       "  </tbody>\n",
       "</table>\n",
       "</div>"
      ],
      "text/plain": [
       "          Frequency\n",
       "Max             136\n",
       "Bella           135\n",
       "Charlie         107\n",
       "Daisy           106\n",
       "Lucy             94\n",
       "Buddy            87\n",
       "Princess         86\n",
       "Rocky            85\n",
       "Luna             68\n",
       "Jack             66"
      ]
     },
     "execution_count": 81,
     "metadata": {},
     "output_type": "execute_result"
    }
   ],
   "source": [
    "a_name = pd.DataFrame(dt['Name'].value_counts())\n",
    "a_name.rename(columns = {'Name': 'Frequency'}, inplace = True)\n",
    "\n",
    "a_name.loc[a_name['Frequency'] > 50]\n",
    "\n",
    "a_name.head(10)\n",
    "\n"
   ]
  },
  {
   "cell_type": "code",
   "execution_count": 82,
   "metadata": {},
   "outputs": [
    {
     "data": {
      "text/plain": [
       "Index(['Max', 'Bella', 'Charlie', 'Daisy', 'Lucy', 'Buddy', 'Princess',\n",
       "       'Rocky', 'Luna', 'Jack'],\n",
       "      dtype='object')"
      ]
     },
     "execution_count": 82,
     "metadata": {},
     "output_type": "execute_result"
    }
   ],
   "source": [
    "a_name.head(10).index"
   ]
  },
  {
   "cell_type": "code",
   "execution_count": 83,
   "metadata": {},
   "outputs": [
    {
     "data": {
      "image/png": "[encoded data removed]",
      "text/plain": [
       "<Figure size 720x720 with 1 Axes>"
      ]
     },
     "metadata": {
      "needs_background": "light"
     },
     "output_type": "display_data"
    }
   ],
   "source": [
    "plt.figure(figsize = (10,10))\n",
    "\n",
    "plt.bar(x = a_name.head(10).index, height = a_name.head(10)['Frequency'], color = '#ffcccc')\n",
    "\n",
    "plt.ylabel('Freqeuncy', fontsize = 'x-large', alpha = 100)\n",
    "plt.xlabel('Names', fontsize = 'x-large', alpha = 100) # alpha is transparency \n",
    "plt.title('Top 10 Names', fontsize = 'xx-large', position = (0.5,1.033))\n",
    "#plt.savefig('Topnames.png',  bbox_inches='tight')\n",
    "plt.show()"
   ]
  },
  {
   "cell_type": "code",
   "execution_count": 84,
   "metadata": {},
   "outputs": [
    {
     "data": {
      "text/plain": [
       "'\\nThe most frequent names are the ones displayed on the graph above\\n'"
      ]
     },
     "execution_count": 84,
     "metadata": {},
     "output_type": "execute_result"
    }
   ],
   "source": [
    "\"\"\"\n",
    "The most frequent names are the ones displayed on the graph above\n",
    "\"\"\"\n"
   ]
  },
  {
   "cell_type": "code",
   "execution_count": 85,
   "metadata": {},
   "outputs": [],
   "source": [
    "# Drop the Name column\n",
    "\n",
    "dt.drop(columns = 'Name', inplace = True)"
   ]
  },
  {
   "cell_type": "code",
   "execution_count": 86,
   "metadata": {},
   "outputs": [
    {
     "data": {
      "text/plain": [
       "'\\nNot gonna be relevant in the prediction\\n\\n'"
      ]
     },
     "execution_count": 86,
     "metadata": {},
     "output_type": "execute_result"
    }
   ],
   "source": [
    "\"\"\"\n",
    "Not gonna be relevant in the prediction\n",
    "\n",
    "\"\"\""
   ]
  },
  {
   "cell_type": "markdown",
   "metadata": {},
   "source": [
    "# Color feature "
   ]
  },
  {
   "cell_type": "code",
   "execution_count": 87,
   "metadata": {},
   "outputs": [
    {
     "data": {
      "text/plain": [
       "Black/White                2824\n",
       "Black                      2288\n",
       "Brown Tabby                1631\n",
       "Brown Tabby/White           939\n",
       "White                       930\n",
       "                           ... \n",
       "Cream/Seal Point              1\n",
       "Chocolate/Brown Brindle       1\n",
       "Tan/Brown Brindle             1\n",
       "Orange Tabby/Orange           1\n",
       "Black/Yellow                  1\n",
       "Name: Color, Length: 366, dtype: int64"
      ]
     },
     "execution_count": 87,
     "metadata": {},
     "output_type": "execute_result"
    }
   ],
   "source": [
    "dt['Color'].value_counts()"
   ]
  },
  {
   "cell_type": "code",
   "execution_count": 88,
   "metadata": {},
   "outputs": [
    {
     "data": {
      "text/plain": [
       "array(['Brown/White', 'Cream Tabby', 'Blue/White', 'Blue Cream', 'Tan',\n",
       "       'Black/Tan', 'Blue Tabby', 'Brown Tabby', 'Red/White', 'White',\n",
       "       'Black', 'Silver', 'Brown', 'Black/Red', 'White/Cream',\n",
       "       'Orange Tabby/White', 'Black/White', 'Brown Brindle/White',\n",
       "       'Black/Brown', 'Orange Tabby', 'Chocolate/White', 'White/Tan',\n",
       "       'Cream Tabby/White', 'Blue', 'Calico', 'Torbie', 'Brown/Black',\n",
       "       'Yellow', 'Tricolor', 'White/Black', 'Tortie', 'Blue Tabby/White',\n",
       "       'Gray/White', 'Tan/Black', 'Tan/White', 'Buff',\n",
       "       'Brown Tabby/White', 'Red', 'Blue/Tan', 'Seal Point',\n",
       "       'Brown Brindle', 'White/Brown', 'Gray', 'Yellow Brindle/White',\n",
       "       'Fawn/White', 'Flame Point', 'Black Tabby/White', 'Tortie/Calico',\n",
       "       'Black/Brown Brindle', 'White/Gray', 'Tan/Silver',\n",
       "       'Red Tick/Black', 'White/Cream Tabby', 'Blue Merle',\n",
       "       'Chocolate/Tan', 'Sable', 'Brown Merle/White', 'Brown Tiger/White',\n",
       "       'Liver/White', 'White/Blue Tabby', 'Black/Gray', 'Cream',\n",
       "       'Chocolate', 'Blue Point', 'Apricot/White', 'Red Merle/Black',\n",
       "       'White/Brown Tabby', 'Blue Merle/White', 'Fawn',\n",
       "       'Lynx Point/White', 'Fawn/Black', 'Red Tick/White', 'Buff/Tan',\n",
       "       'Brown Brindle/Red Tick', 'White/Blue', 'Lilac Point',\n",
       "       'Buff/White', 'White/Orange Tabby', 'Tortie Point', 'Lynx Point',\n",
       "       'Tortie/White', 'Black/Tricolor', 'Apricot', 'Red/Tan',\n",
       "       'Tan/Brown', 'White/Tricolor', 'Brown/Tricolor', 'White/White',\n",
       "       'Gray Tabby', 'Sable/White', 'Blue Tiger/White', 'Yellow Brindle',\n",
       "       'White/Brown Brindle', 'Gold', 'Brown/Tan', 'Blue Tick',\n",
       "       'Torbie/White', 'Black Smoke/White', 'Blue Tabby/Orange',\n",
       "       'Red Merle', 'Tricolor/Blue', 'Yellow/White', 'Black Smoke',\n",
       "       'Calico Point', 'Blue Cream/Blue Tiger', 'Blue Merle/Gray',\n",
       "       'Brown/Silver', 'Tricolor/White', 'Sable/Black', 'Black Brindle',\n",
       "       'Tortie Point/Lynx Point', 'Brown Brindle/Black', 'Black/Buff',\n",
       "       'Calico/White', 'White/Orange', 'Black Tabby', 'Brown Merle',\n",
       "       'Black Brindle/White', 'Tan/Gray', 'Blue Merle/Brown',\n",
       "       'Red Merle/White', 'White/Chocolate Point', 'Silver/Black',\n",
       "       'White/Red', 'Cream/Red Tick', 'Cream/White', 'White/Liver',\n",
       "       'Chocolate/Gold', 'Calico Point/White', 'Brown/Brown',\n",
       "       'Seal Point/White', 'White/Black Brindle', 'Red/Black',\n",
       "       'Sable/Brown', 'Silver/Tan', 'White/Blue Merle',\n",
       "       'Calico/Brown Tabby', 'Silver Tabby', 'Tan/Blue', 'Blue Merle/Tan',\n",
       "       'Blue Tick/Black', 'Cream/Black', 'Chocolate/Tricolor',\n",
       "       'Gold/White', 'Silver/Brown', 'Cream/Gray', 'Black/Blue Tick',\n",
       "       'White/Chocolate', 'Black/Blue Merle', 'Red/Red Tick',\n",
       "       'Tricolor/Black', 'Orange', 'Black/Orange', 'Tan/Buff',\n",
       "       'Chocolate Point/White', 'Orange/White', 'Tortie/Blue Cream',\n",
       "       'White/Black Tabby', 'Brown/Red Tick', 'Blue/Brown Brindle',\n",
       "       'Black/Silver Tabby', 'Tan/Red', 'White/Lynx Point', 'Gray/Silver',\n",
       "       'Red/Gold', 'White/Buff', 'Tan/Gold', 'Blue Tabby/Blue Cream',\n",
       "       'Cream/Tan', 'Calico/Black', 'Sable/Tan', 'Blue/Black',\n",
       "       'Brown Tabby/Black', 'Red/Cream', 'Brown Tiger', 'Agouti',\n",
       "       'Gray/Tan', 'Calico/Tricolor', 'Black/Black', 'White/Blue Cream',\n",
       "       'Brown/Gray', 'Blue Point/White', 'Gray Tabby/White',\n",
       "       'White/Brown Tiger', 'Black/Cream', 'Red Tick/Tan',\n",
       "       'Orange Tabby/Apricot', 'Red Tick/Brown', 'White/Brown Merle',\n",
       "       'Fawn/Tricolor', 'Blue Smoke', 'Chocolate/Brown Brindle',\n",
       "       'Black Brindle/Black', 'Tan/Cream', 'Black Tabby/Orange',\n",
       "       'Apricot/Brown', 'Gray/Black', 'Buff/Red', 'Tan/Brown Brindle',\n",
       "       'Brown/Red', 'Black/Silver', 'Red Tick', 'Blue Tick/White',\n",
       "       'Silver Tabby/White', 'White/Apricot', 'White/Red Merle',\n",
       "       'Fawn/Brown Brindle', 'Orange/Tan', 'Black/Black Smoke',\n",
       "       'Brown/Chocolate', 'Liver Tick', 'Cream/Red',\n",
       "       'Black Smoke/Brown Tabby', 'Gray/Cream', 'Chocolate Point',\n",
       "       'Blue Merle/Tricolor', 'Red/Blue', 'Tricolor/Brown Merle',\n",
       "       'Blue/Tortie', 'Blue Smoke/Brown', 'Red/Brown', 'White/Silver',\n",
       "       'Tricolor/Brown', 'Chocolate/Brown', 'Blue Cream/White',\n",
       "       'Chocolate/Red', 'Cream/Brown', 'Blue Merle/Cream', 'Buff/Black',\n",
       "       'Tortie/Orange', 'Brown Merle/Black', 'Seal Point/Brown',\n",
       "       'Blue Tabby/Tan', 'Red/Red Merle', 'Tortie/Brown', 'Sable/Cream',\n",
       "       'Black/Black Tabby', 'Brown Tabby/Gray', 'Tan/Tan',\n",
       "       'Blue Tick/Brown', 'Chocolate/Black Smoke', 'Brown/Black Tabby',\n",
       "       'Brown/Buff', 'Yellow Brindle/Tan', 'Blue Tick/Tan',\n",
       "       'Red Tick/Brown Merle', 'White/Yellow', 'Lynx Point/Brown Tabby',\n",
       "       'Torbie/Brown', 'Liver/Buff', 'Tricolor/Tan', 'Chocolate/Black',\n",
       "       'Pink', 'Black/Blue', 'White/Gold', 'Red Tick/Red',\n",
       "       'Black/Yellow Brindle', 'Black/Chocolate', 'Silver Lynx Point',\n",
       "       'Brown/Brown Merle', 'Orange Tabby/Black', 'Tortie/Black',\n",
       "       'Brown Tabby/Brown', 'Brown Brindle/Tan', 'Torbie/Blue Cream',\n",
       "       'Black Brindle/Brown', 'Red/Tricolor', 'Blue/Yellow Brindle',\n",
       "       'White/Black Smoke', 'Ruddy/Cream', 'Blue Merle/Black',\n",
       "       'White/Yellow Brindle', 'Blue/Cream', 'Gold/Yellow', 'Blue Tiger',\n",
       "       'Tan/Brown Merle', 'White/Red Tick', 'Buff/Yellow',\n",
       "       'Tricolor/Chocolate', 'Silver/White', 'Gold/Tan', 'Gold/Gold',\n",
       "       'Tortie Point/White', 'Blue Tick/Red Tick', 'Brown Merle/Tan',\n",
       "       'Red Tick/Blue Tick', 'Brown/Blue Smoke', 'Liver/Tan',\n",
       "       'Red Merle/Tan', 'Black/Black Brindle', 'Blue Cream/Buff',\n",
       "       'Gray/Brown', 'Blue/Orange', 'Brown Merle/Blue Merle',\n",
       "       'White/Pink', 'Calico/Brown', 'Torbie/Calico', 'White/Gray Tabby',\n",
       "       'Brown Brindle/Blue', 'Brown/Blue', 'Blue Merle/Red',\n",
       "       'Brown Brindle/Brown Merle', 'Blue/Brown', 'Calico/Orange Tabby',\n",
       "       'White/Flame Point', 'Brown/Cream', 'Brown Brindle/Brown Brindle',\n",
       "       'Blue Merle/Blue Merle', 'White/Calico', 'Fawn/Brown',\n",
       "       'Gold/Black', 'Chocolate/Brown Merle', 'White/Blue Tick',\n",
       "       'Agouti/Brown Tabby', 'Brown Tabby/Tortie', 'Black/Yellow',\n",
       "       'Chocolate/Red Tick', 'Gray/Red', 'Brown Brindle/Blue Tick',\n",
       "       'Tan/Apricot', 'Blue Tick/Brown Brindle', 'Liver Tick/White',\n",
       "       'Cream/Seal Point', 'Lynx Point/Gray Tabby', 'Red/Buff',\n",
       "       'Tan/Tricolor', 'Blue Tabby/Cream', 'Black Tiger/White',\n",
       "       'Silver/Chocolate', 'Tricolor/Silver', 'Blue Merle/Red Merle',\n",
       "       'Silver Tabby/Black', 'Tortie/Black Smoke', 'Orange/Orange Tabby',\n",
       "       'Fawn/Blue', 'Black/Brown Merle', 'Tricolor/Blue Merle',\n",
       "       'Blue Cream/Tortie', 'Orange Tabby/Orange', 'Blue Tick/Red',\n",
       "       'Fawn/Tan', 'Brown Tabby/Orange', 'Yellow Brindle/Blue',\n",
       "       'Brown Brindle/Blue Cream', 'Yellow/Black', 'Calico/Blue Cream',\n",
       "       'Tan/Yellow Brindle', 'Black Brindle/Brown Brindle',\n",
       "       'Chocolate/Cream', 'Blue Cream/Blue Tabby', 'Calico/Blue Tabby',\n",
       "       'Orange Tiger', 'Cream/Orange', 'Sable/Red', 'Buff/Gray',\n",
       "       'Gold/Buff', 'Silver/Red', 'Tricolor/Calico',\n",
       "       'Brown/Black Brindle', 'Chocolate/Gray', 'Brown Tabby/Gray Tabby',\n",
       "       'Yellow/Yellow', 'Gray Tabby/Black', 'Red/Silver', 'Buff/Brown',\n",
       "       'Sable/Buff'], dtype=object)"
      ]
     },
     "execution_count": 88,
     "metadata": {},
     "output_type": "execute_result"
    }
   ],
   "source": [
    "dt['Color'].unique()"
   ]
  },
  {
   "cell_type": "code",
   "execution_count": 89,
   "metadata": {},
   "outputs": [
    {
     "data": {
      "text/plain": [
       "'\\n\\nI have 366 diferent types of color! Should I do an Hot encode of this and get 366 more columns or is it too much ?\\n\\n'"
      ]
     },
     "execution_count": 89,
     "metadata": {},
     "output_type": "execute_result"
    }
   ],
   "source": [
    "\"\"\"\n",
    "\n",
    "I have 366 diferent types of color! Should I do an Hot encode of this and get 366 more columns or is it too much ?\n",
    "\n",
    "\"\"\""
   ]
  },
  {
   "cell_type": "code",
   "execution_count": 90,
   "metadata": {},
   "outputs": [
    {
     "data": {
      "text/plain": [
       "['Brown/White',\n",
       " 'Cream Tabby',\n",
       " 'Blue/White',\n",
       " 'Blue Cream',\n",
       " 'Tan',\n",
       " 'Black/Tan',\n",
       " 'Blue Tabby',\n",
       " 'Brown Tabby',\n",
       " 'Red/White',\n",
       " 'White',\n",
       " 'Black',\n",
       " 'Silver',\n",
       " 'Brown',\n",
       " 'Black/Red',\n",
       " 'White/Cream',\n",
       " 'Orange Tabby/White',\n",
       " 'Black/White',\n",
       " 'Brown Brindle/White',\n",
       " 'Black/Brown',\n",
       " 'Orange Tabby',\n",
       " 'Chocolate/White',\n",
       " 'White/Tan',\n",
       " 'Cream Tabby/White',\n",
       " 'Blue',\n",
       " 'Calico',\n",
       " 'Torbie',\n",
       " 'Brown/Black',\n",
       " 'Yellow',\n",
       " 'Tricolor',\n",
       " 'White/Black',\n",
       " 'Tortie',\n",
       " 'Blue Tabby/White',\n",
       " 'Gray/White',\n",
       " 'Tan/Black',\n",
       " 'Tan/White',\n",
       " 'Buff',\n",
       " 'Brown Tabby/White',\n",
       " 'Red',\n",
       " 'Blue/Tan',\n",
       " 'Seal Point',\n",
       " 'Brown Brindle',\n",
       " 'White/Brown',\n",
       " 'Gray',\n",
       " 'Yellow Brindle/White',\n",
       " 'Fawn/White',\n",
       " 'Flame Point',\n",
       " 'Black Tabby/White',\n",
       " 'Tortie/Calico',\n",
       " 'Black/Brown Brindle',\n",
       " 'White/Gray',\n",
       " 'Tan/Silver',\n",
       " 'Red Tick/Black',\n",
       " 'White/Cream Tabby',\n",
       " 'Blue Merle',\n",
       " 'Chocolate/Tan',\n",
       " 'Sable',\n",
       " 'Brown Merle/White',\n",
       " 'Brown Tiger/White',\n",
       " 'Liver/White',\n",
       " 'White/Blue Tabby',\n",
       " 'Black/Gray',\n",
       " 'Cream',\n",
       " 'Chocolate',\n",
       " 'Blue Point',\n",
       " 'Apricot/White',\n",
       " 'Red Merle/Black',\n",
       " 'White/Brown Tabby',\n",
       " 'Blue Merle/White',\n",
       " 'Fawn',\n",
       " 'Lynx Point/White',\n",
       " 'Fawn/Black',\n",
       " 'Red Tick/White',\n",
       " 'Buff/Tan',\n",
       " 'Brown Brindle/Red Tick',\n",
       " 'White/Blue',\n",
       " 'Lilac Point',\n",
       " 'Buff/White',\n",
       " 'White/Orange Tabby',\n",
       " 'Tortie Point',\n",
       " 'Lynx Point',\n",
       " 'Tortie/White',\n",
       " 'Black/Tricolor',\n",
       " 'Apricot',\n",
       " 'Red/Tan',\n",
       " 'Tan/Brown',\n",
       " 'White/Tricolor',\n",
       " 'Brown/Tricolor',\n",
       " 'White/White',\n",
       " 'Gray Tabby',\n",
       " 'Sable/White',\n",
       " 'Blue Tiger/White',\n",
       " 'Yellow Brindle',\n",
       " 'White/Brown Brindle',\n",
       " 'Gold',\n",
       " 'Brown/Tan',\n",
       " 'Blue Tick',\n",
       " 'Torbie/White',\n",
       " 'Black Smoke/White',\n",
       " 'Blue Tabby/Orange',\n",
       " 'Red Merle',\n",
       " 'Tricolor/Blue',\n",
       " 'Yellow/White',\n",
       " 'Black Smoke',\n",
       " 'Calico Point',\n",
       " 'Blue Cream/Blue Tiger',\n",
       " 'Blue Merle/Gray',\n",
       " 'Brown/Silver',\n",
       " 'Tricolor/White',\n",
       " 'Sable/Black',\n",
       " 'Black Brindle',\n",
       " 'Tortie Point/Lynx Point',\n",
       " 'Brown Brindle/Black',\n",
       " 'Black/Buff',\n",
       " 'Calico/White',\n",
       " 'White/Orange',\n",
       " 'Black Tabby',\n",
       " 'Brown Merle',\n",
       " 'Black Brindle/White',\n",
       " 'Tan/Gray',\n",
       " 'Blue Merle/Brown',\n",
       " 'Red Merle/White',\n",
       " 'White/Chocolate Point',\n",
       " 'Silver/Black',\n",
       " 'White/Red',\n",
       " 'Cream/Red Tick',\n",
       " 'Cream/White',\n",
       " 'White/Liver',\n",
       " 'Chocolate/Gold',\n",
       " 'Calico Point/White',\n",
       " 'Brown/Brown',\n",
       " 'Seal Point/White',\n",
       " 'White/Black Brindle',\n",
       " 'Red/Black',\n",
       " 'Sable/Brown',\n",
       " 'Silver/Tan',\n",
       " 'White/Blue Merle',\n",
       " 'Calico/Brown Tabby',\n",
       " 'Silver Tabby',\n",
       " 'Tan/Blue',\n",
       " 'Blue Merle/Tan',\n",
       " 'Blue Tick/Black',\n",
       " 'Cream/Black',\n",
       " 'Chocolate/Tricolor',\n",
       " 'Gold/White',\n",
       " 'Silver/Brown',\n",
       " 'Cream/Gray',\n",
       " 'Black/Blue Tick',\n",
       " 'White/Chocolate',\n",
       " 'Black/Blue Merle',\n",
       " 'Red/Red Tick',\n",
       " 'Tricolor/Black',\n",
       " 'Orange',\n",
       " 'Black/Orange',\n",
       " 'Tan/Buff',\n",
       " 'Chocolate Point/White',\n",
       " 'Orange/White',\n",
       " 'Tortie/Blue Cream',\n",
       " 'White/Black Tabby',\n",
       " 'Brown/Red Tick',\n",
       " 'Blue/Brown Brindle',\n",
       " 'Black/Silver Tabby',\n",
       " 'Tan/Red',\n",
       " 'White/Lynx Point',\n",
       " 'Gray/Silver',\n",
       " 'Red/Gold',\n",
       " 'White/Buff',\n",
       " 'Tan/Gold',\n",
       " 'Blue Tabby/Blue Cream',\n",
       " 'Cream/Tan',\n",
       " 'Calico/Black',\n",
       " 'Sable/Tan',\n",
       " 'Blue/Black',\n",
       " 'Brown Tabby/Black',\n",
       " 'Red/Cream',\n",
       " 'Brown Tiger',\n",
       " 'Agouti',\n",
       " 'Gray/Tan',\n",
       " 'Calico/Tricolor',\n",
       " 'Black/Black',\n",
       " 'White/Blue Cream',\n",
       " 'Brown/Gray',\n",
       " 'Blue Point/White',\n",
       " 'Gray Tabby/White',\n",
       " 'White/Brown Tiger',\n",
       " 'Black/Cream',\n",
       " 'Red Tick/Tan',\n",
       " 'Orange Tabby/Apricot',\n",
       " 'Red Tick/Brown',\n",
       " 'White/Brown Merle',\n",
       " 'Fawn/Tricolor',\n",
       " 'Blue Smoke',\n",
       " 'Chocolate/Brown Brindle',\n",
       " 'Black Brindle/Black',\n",
       " 'Tan/Cream',\n",
       " 'Black Tabby/Orange',\n",
       " 'Apricot/Brown',\n",
       " 'Gray/Black',\n",
       " 'Buff/Red',\n",
       " 'Tan/Brown Brindle',\n",
       " 'Brown/Red',\n",
       " 'Black/Silver',\n",
       " 'Red Tick',\n",
       " 'Blue Tick/White',\n",
       " 'Silver Tabby/White',\n",
       " 'White/Apricot',\n",
       " 'White/Red Merle',\n",
       " 'Fawn/Brown Brindle',\n",
       " 'Orange/Tan',\n",
       " 'Black/Black Smoke',\n",
       " 'Brown/Chocolate',\n",
       " 'Liver Tick',\n",
       " 'Cream/Red',\n",
       " 'Black Smoke/Brown Tabby',\n",
       " 'Gray/Cream',\n",
       " 'Chocolate Point',\n",
       " 'Blue Merle/Tricolor',\n",
       " 'Red/Blue',\n",
       " 'Tricolor/Brown Merle',\n",
       " 'Blue/Tortie',\n",
       " 'Blue Smoke/Brown',\n",
       " 'Red/Brown',\n",
       " 'White/Silver',\n",
       " 'Tricolor/Brown',\n",
       " 'Chocolate/Brown',\n",
       " 'Blue Cream/White',\n",
       " 'Chocolate/Red',\n",
       " 'Cream/Brown',\n",
       " 'Blue Merle/Cream',\n",
       " 'Buff/Black',\n",
       " 'Tortie/Orange',\n",
       " 'Brown Merle/Black',\n",
       " 'Seal Point/Brown',\n",
       " 'Blue Tabby/Tan',\n",
       " 'Red/Red Merle',\n",
       " 'Tortie/Brown',\n",
       " 'Sable/Cream',\n",
       " 'Black/Black Tabby',\n",
       " 'Brown Tabby/Gray',\n",
       " 'Tan/Tan',\n",
       " 'Blue Tick/Brown',\n",
       " 'Chocolate/Black Smoke',\n",
       " 'Brown/Black Tabby',\n",
       " 'Brown/Buff',\n",
       " 'Yellow Brindle/Tan',\n",
       " 'Blue Tick/Tan',\n",
       " 'Red Tick/Brown Merle',\n",
       " 'White/Yellow',\n",
       " 'Lynx Point/Brown Tabby',\n",
       " 'Torbie/Brown',\n",
       " 'Liver/Buff',\n",
       " 'Tricolor/Tan',\n",
       " 'Chocolate/Black',\n",
       " 'Pink',\n",
       " 'Black/Blue',\n",
       " 'White/Gold',\n",
       " 'Red Tick/Red',\n",
       " 'Black/Yellow Brindle',\n",
       " 'Black/Chocolate',\n",
       " 'Silver Lynx Point',\n",
       " 'Brown/Brown Merle',\n",
       " 'Orange Tabby/Black',\n",
       " 'Tortie/Black',\n",
       " 'Brown Tabby/Brown',\n",
       " 'Brown Brindle/Tan',\n",
       " 'Torbie/Blue Cream',\n",
       " 'Black Brindle/Brown',\n",
       " 'Red/Tricolor',\n",
       " 'Blue/Yellow Brindle',\n",
       " 'White/Black Smoke',\n",
       " 'Ruddy/Cream',\n",
       " 'Blue Merle/Black',\n",
       " 'White/Yellow Brindle',\n",
       " 'Blue/Cream',\n",
       " 'Gold/Yellow',\n",
       " 'Blue Tiger',\n",
       " 'Tan/Brown Merle',\n",
       " 'White/Red Tick',\n",
       " 'Buff/Yellow',\n",
       " 'Tricolor/Chocolate',\n",
       " 'Silver/White',\n",
       " 'Gold/Tan',\n",
       " 'Gold/Gold',\n",
       " 'Tortie Point/White',\n",
       " 'Blue Tick/Red Tick',\n",
       " 'Brown Merle/Tan',\n",
       " 'Red Tick/Blue Tick',\n",
       " 'Brown/Blue Smoke',\n",
       " 'Liver/Tan',\n",
       " 'Red Merle/Tan',\n",
       " 'Black/Black Brindle',\n",
       " 'Blue Cream/Buff',\n",
       " 'Gray/Brown',\n",
       " 'Blue/Orange',\n",
       " 'Brown Merle/Blue Merle',\n",
       " 'White/Pink',\n",
       " 'Calico/Brown',\n",
       " 'Torbie/Calico',\n",
       " 'White/Gray Tabby',\n",
       " 'Brown Brindle/Blue',\n",
       " 'Brown/Blue',\n",
       " 'Blue Merle/Red',\n",
       " 'Brown Brindle/Brown Merle',\n",
       " 'Blue/Brown',\n",
       " 'Calico/Orange Tabby',\n",
       " 'White/Flame Point',\n",
       " 'Brown/Cream',\n",
       " 'Brown Brindle/Brown Brindle',\n",
       " 'Blue Merle/Blue Merle',\n",
       " 'White/Calico',\n",
       " 'Fawn/Brown',\n",
       " 'Gold/Black',\n",
       " 'Chocolate/Brown Merle',\n",
       " 'White/Blue Tick',\n",
       " 'Agouti/Brown Tabby',\n",
       " 'Brown Tabby/Tortie',\n",
       " 'Black/Yellow',\n",
       " 'Chocolate/Red Tick',\n",
       " 'Gray/Red',\n",
       " 'Brown Brindle/Blue Tick',\n",
       " 'Tan/Apricot',\n",
       " 'Blue Tick/Brown Brindle',\n",
       " 'Liver Tick/White',\n",
       " 'Cream/Seal Point',\n",
       " 'Lynx Point/Gray Tabby',\n",
       " 'Red/Buff',\n",
       " 'Tan/Tricolor',\n",
       " 'Blue Tabby/Cream',\n",
       " 'Black Tiger/White',\n",
       " 'Silver/Chocolate',\n",
       " 'Tricolor/Silver',\n",
       " 'Blue Merle/Red Merle',\n",
       " 'Silver Tabby/Black',\n",
       " 'Tortie/Black Smoke',\n",
       " 'Orange/Orange Tabby',\n",
       " 'Fawn/Blue',\n",
       " 'Black/Brown Merle',\n",
       " 'Tricolor/Blue Merle',\n",
       " 'Blue Cream/Tortie',\n",
       " 'Orange Tabby/Orange',\n",
       " 'Blue Tick/Red',\n",
       " 'Fawn/Tan',\n",
       " 'Brown Tabby/Orange',\n",
       " 'Yellow Brindle/Blue',\n",
       " 'Brown Brindle/Blue Cream',\n",
       " 'Yellow/Black',\n",
       " 'Calico/Blue Cream',\n",
       " 'Tan/Yellow Brindle',\n",
       " 'Black Brindle/Brown Brindle',\n",
       " 'Chocolate/Cream',\n",
       " 'Blue Cream/Blue Tabby',\n",
       " 'Calico/Blue Tabby',\n",
       " 'Orange Tiger',\n",
       " 'Cream/Orange',\n",
       " 'Sable/Red',\n",
       " 'Buff/Gray',\n",
       " 'Gold/Buff',\n",
       " 'Silver/Red',\n",
       " 'Tricolor/Calico',\n",
       " 'Brown/Black Brindle',\n",
       " 'Chocolate/Gray',\n",
       " 'Brown Tabby/Gray Tabby',\n",
       " 'Yellow/Yellow',\n",
       " 'Gray Tabby/Black',\n",
       " 'Red/Silver',\n",
       " 'Buff/Brown',\n",
       " 'Sable/Buff']"
      ]
     },
     "execution_count": 90,
     "metadata": {},
     "output_type": "execute_result"
    }
   ],
   "source": [
    "col = list(dt['Color'].unique())\n",
    "col"
   ]
  },
  {
   "cell_type": "code",
   "execution_count": 91,
   "metadata": {},
   "outputs": [],
   "source": [
    "# Split the color by the / for first color and second color\n",
    "\n",
    "dt['Color1'], dt['Color2'] = dt['Color'].str.split('/', 1).str\n"
   ]
  },
  {
   "cell_type": "code",
   "execution_count": 92,
   "metadata": {
    "scrolled": true
   },
   "outputs": [
    {
     "data": {
      "text/plain": [
       "array(['Brown', 'Cream Tabby', 'Blue', 'Blue Cream', 'Tan', 'Black',\n",
       "       'Blue Tabby', 'Brown Tabby', 'Red', 'White', 'Silver',\n",
       "       'Orange Tabby', 'Brown Brindle', 'Chocolate', 'Calico', 'Torbie',\n",
       "       'Yellow', 'Tricolor', 'Tortie', 'Gray', 'Buff', 'Seal Point',\n",
       "       'Yellow Brindle', 'Fawn', 'Flame Point', 'Black Tabby', 'Red Tick',\n",
       "       'Blue Merle', 'Sable', 'Brown Merle', 'Brown Tiger', 'Liver',\n",
       "       'Cream', 'Blue Point', 'Apricot', 'Red Merle', 'Lynx Point',\n",
       "       'Lilac Point', 'Tortie Point', 'Gray Tabby', 'Blue Tiger', 'Gold',\n",
       "       'Blue Tick', 'Black Smoke', 'Calico Point', 'Black Brindle',\n",
       "       'Silver Tabby', 'Orange', 'Chocolate Point', 'Agouti',\n",
       "       'Blue Smoke', 'Liver Tick', 'Pink', 'Silver Lynx Point', 'Ruddy',\n",
       "       'Black Tiger', 'Orange Tiger'], dtype=object)"
      ]
     },
     "execution_count": 92,
     "metadata": {},
     "output_type": "execute_result"
    }
   ],
   "source": [
    "dt['Color1'].unique()"
   ]
  },
  {
   "cell_type": "code",
   "execution_count": 93,
   "metadata": {
    "scrolled": true
   },
   "outputs": [
    {
     "data": {
      "text/plain": [
       "nan"
      ]
     },
     "execution_count": 93,
     "metadata": {},
     "output_type": "execute_result"
    }
   ],
   "source": [
    "list(dt['Color2'].unique())[1]"
   ]
  },
  {
   "cell_type": "code",
   "execution_count": 94,
   "metadata": {
    "scrolled": true
   },
   "outputs": [],
   "source": [
    "dt['Color2'].fillna('NaN', inplace = True)"
   ]
  },
  {
   "cell_type": "code",
   "execution_count": 95,
   "metadata": {},
   "outputs": [],
   "source": [
    "dt['Color1'] = [n.split(' ')[0] for n in dt['Color1']]\n",
    "dt['Color2'] = [n.split(' ')[0] if n != 'NaN'  else  'NaN' for n in dt['Color2']]\n",
    "\n",
    "\n"
   ]
  },
  {
   "cell_type": "code",
   "execution_count": 96,
   "metadata": {},
   "outputs": [
    {
     "data": {
      "text/plain": [
       "array(['Brown', 'Cream', 'Blue', 'Tan', 'Black', 'Red', 'White', 'Silver',\n",
       "       'Orange', 'Chocolate', 'Calico', 'Torbie', 'Yellow', 'Tricolor',\n",
       "       'Tortie', 'Gray', 'Buff', 'Seal', 'Fawn', 'Flame', 'Sable',\n",
       "       'Liver', 'Apricot', 'Lynx', 'Lilac', 'Gold', 'Agouti', 'Pink',\n",
       "       'Ruddy'], dtype=object)"
      ]
     },
     "execution_count": 96,
     "metadata": {},
     "output_type": "execute_result"
    }
   ],
   "source": [
    "dt['Color1'].unique()"
   ]
  },
  {
   "cell_type": "code",
   "execution_count": 97,
   "metadata": {},
   "outputs": [
    {
     "data": {
      "text/plain": [
       "Black        6641\n",
       "Brown        5312\n",
       "White        3343\n",
       "Blue         2146\n",
       "Tan          1674\n",
       "Orange       1343\n",
       "Red           871\n",
       "Tricolor      800\n",
       "Tortie        613\n",
       "Calico        579\n",
       "Cream         497\n",
       "Chocolate     469\n",
       "Torbie        397\n",
       "Sable         324\n",
       "Gray          277\n",
       "Buff          267\n",
       "Yellow        261\n",
       "Fawn          209\n",
       "Lynx          183\n",
       "Seal          158\n",
       "Silver         96\n",
       "Flame          85\n",
       "Gold           77\n",
       "Lilac          39\n",
       "Apricot        26\n",
       "Liver          19\n",
       "Agouti          2\n",
       "Pink            1\n",
       "Ruddy           1\n",
       "Name: Color1, dtype: int64"
      ]
     },
     "execution_count": 97,
     "metadata": {},
     "output_type": "execute_result"
    }
   ],
   "source": [
    "dt['Color1'].value_counts()"
   ]
  },
  {
   "cell_type": "code",
   "execution_count": 98,
   "metadata": {
    "scrolled": false
   },
   "outputs": [
    {
     "data": {
      "text/plain": [
       "array(['White', 'NaN', 'Tan', 'Red', 'Cream', 'Brown', 'Black', 'Calico',\n",
       "       'Gray', 'Silver', 'Blue', 'Orange', 'Tricolor', 'Lynx', 'Buff',\n",
       "       'Chocolate', 'Liver', 'Gold', 'Apricot', 'Tortie', 'Yellow',\n",
       "       'Pink', 'Flame', 'Seal'], dtype=object)"
      ]
     },
     "execution_count": 98,
     "metadata": {},
     "output_type": "execute_result"
    }
   ],
   "source": [
    "dt['Color2'].unique()"
   ]
  },
  {
   "cell_type": "code",
   "execution_count": 99,
   "metadata": {},
   "outputs": [
    {
     "data": {
      "text/plain": [
       "NaN          12790\n",
       "White         8850\n",
       "Black         1392\n",
       "Brown         1381\n",
       "Tan           1357\n",
       "Blue           209\n",
       "Gray           129\n",
       "Red            120\n",
       "Tricolor       112\n",
       "Orange          97\n",
       "Cream           80\n",
       "Buff            61\n",
       "Chocolate       50\n",
       "Silver          26\n",
       "Yellow          15\n",
       "Liver           12\n",
       "Gold             9\n",
       "Tortie           4\n",
       "Calico           4\n",
       "Apricot          4\n",
       "Lynx             3\n",
       "Pink             3\n",
       "Flame            1\n",
       "Seal             1\n",
       "Name: Color2, dtype: int64"
      ]
     },
     "execution_count": 99,
     "metadata": {},
     "output_type": "execute_result"
    }
   ],
   "source": [
    "dt['Color2'].value_counts()"
   ]
  },
  {
   "cell_type": "code",
   "execution_count": 100,
   "metadata": {},
   "outputs": [],
   "source": [
    "dt.drop(columns = 'Color', inplace = True)"
   ]
  },
  {
   "cell_type": "code",
   "execution_count": 101,
   "metadata": {},
   "outputs": [
    {
     "data": {
      "text/plain": [
       "'NaN'"
      ]
     },
     "execution_count": 101,
     "metadata": {},
     "output_type": "execute_result"
    }
   ],
   "source": [
    "dt['Color2']['A656520']"
   ]
  },
  {
   "cell_type": "code",
   "execution_count": 102,
   "metadata": {
    "scrolled": true
   },
   "outputs": [],
   "source": [
    "#dt['Color2'] = dt['Color2'].apply(lambda x : None if x == 'NaN' else x )"
   ]
  },
  {
   "cell_type": "markdown",
   "metadata": {},
   "source": [
    "# Save Cleaned Data"
   ]
  },
  {
   "cell_type": "code",
   "execution_count": 103,
   "metadata": {},
   "outputs": [
    {
     "data": {
      "text/plain": [
       "OutcomeType         object\n",
       "AnimalType          object\n",
       "Age_Months         float64\n",
       "Breed               object\n",
       "day                  int64\n",
       "month                int64\n",
       "year                 int64\n",
       "Genere              object\n",
       "Spayed/Neutered      int64\n",
       "Color1              object\n",
       "Color2              object\n",
       "dtype: object"
      ]
     },
     "execution_count": 103,
     "metadata": {},
     "output_type": "execute_result"
    }
   ],
   "source": [
    "dt.dtypes"
   ]
  },
  {
   "cell_type": "code",
   "execution_count": 104,
   "metadata": {
    "scrolled": true
   },
   "outputs": [
    {
     "data": {
      "text/html": [
       "<div>\n",
       "<style scoped>\n",
       "    .dataframe tbody tr th:only-of-type {\n",
       "        vertical-align: middle;\n",
       "    }\n",
       "\n",
       "    .dataframe tbody tr th {\n",
       "        vertical-align: top;\n",
       "    }\n",
       "\n",
       "    .dataframe thead th {\n",
       "        text-align: right;\n",
       "    }\n",
       "</style>\n",
       "<table border=\"1\" class=\"dataframe\">\n",
       "  <thead>\n",
       "    <tr style=\"text-align: right;\">\n",
       "      <th></th>\n",
       "      <th>OutcomeType</th>\n",
       "      <th>AnimalType</th>\n",
       "      <th>Age_Months</th>\n",
       "      <th>Breed</th>\n",
       "      <th>day</th>\n",
       "      <th>month</th>\n",
       "      <th>year</th>\n",
       "      <th>Genere</th>\n",
       "      <th>Spayed/Neutered</th>\n",
       "      <th>Color1</th>\n",
       "      <th>Color2</th>\n",
       "    </tr>\n",
       "    <tr>\n",
       "      <th>AnimalID</th>\n",
       "      <th></th>\n",
       "      <th></th>\n",
       "      <th></th>\n",
       "      <th></th>\n",
       "      <th></th>\n",
       "      <th></th>\n",
       "      <th></th>\n",
       "      <th></th>\n",
       "      <th></th>\n",
       "      <th></th>\n",
       "      <th></th>\n",
       "    </tr>\n",
       "  </thead>\n",
       "  <tbody>\n",
       "    <tr>\n",
       "      <td>A671945</td>\n",
       "      <td>Return_to_owner</td>\n",
       "      <td>Dog</td>\n",
       "      <td>12.00</td>\n",
       "      <td>Rare_Mix</td>\n",
       "      <td>12</td>\n",
       "      <td>2</td>\n",
       "      <td>2014</td>\n",
       "      <td>Male</td>\n",
       "      <td>1</td>\n",
       "      <td>Brown</td>\n",
       "      <td>White</td>\n",
       "    </tr>\n",
       "    <tr>\n",
       "      <td>A656520</td>\n",
       "      <td>Died</td>\n",
       "      <td>Cat</td>\n",
       "      <td>12.00</td>\n",
       "      <td>Domestic Shorthair Mix</td>\n",
       "      <td>13</td>\n",
       "      <td>10</td>\n",
       "      <td>2013</td>\n",
       "      <td>Female</td>\n",
       "      <td>1</td>\n",
       "      <td>Cream</td>\n",
       "      <td>NaN</td>\n",
       "    </tr>\n",
       "    <tr>\n",
       "      <td>A686464</td>\n",
       "      <td>Adoption</td>\n",
       "      <td>Dog</td>\n",
       "      <td>24.00</td>\n",
       "      <td>Pit Bull Mix</td>\n",
       "      <td>31</td>\n",
       "      <td>1</td>\n",
       "      <td>2015</td>\n",
       "      <td>Male</td>\n",
       "      <td>1</td>\n",
       "      <td>Blue</td>\n",
       "      <td>White</td>\n",
       "    </tr>\n",
       "    <tr>\n",
       "      <td>A683430</td>\n",
       "      <td>Transfer</td>\n",
       "      <td>Cat</td>\n",
       "      <td>0.69</td>\n",
       "      <td>Domestic Shorthair Mix</td>\n",
       "      <td>11</td>\n",
       "      <td>7</td>\n",
       "      <td>2014</td>\n",
       "      <td>Male</td>\n",
       "      <td>0</td>\n",
       "      <td>Blue</td>\n",
       "      <td>NaN</td>\n",
       "    </tr>\n",
       "    <tr>\n",
       "      <td>A667013</td>\n",
       "      <td>Transfer</td>\n",
       "      <td>Dog</td>\n",
       "      <td>24.00</td>\n",
       "      <td>Rare_Double</td>\n",
       "      <td>15</td>\n",
       "      <td>11</td>\n",
       "      <td>2013</td>\n",
       "      <td>Male</td>\n",
       "      <td>1</td>\n",
       "      <td>Tan</td>\n",
       "      <td>NaN</td>\n",
       "    </tr>\n",
       "  </tbody>\n",
       "</table>\n",
       "</div>"
      ],
      "text/plain": [
       "              OutcomeType AnimalType  Age_Months                   Breed  day  \\\n",
       "AnimalID                                                                        \n",
       "A671945   Return_to_owner        Dog       12.00                Rare_Mix   12   \n",
       "A656520              Died        Cat       12.00  Domestic Shorthair Mix   13   \n",
       "A686464          Adoption        Dog       24.00            Pit Bull Mix   31   \n",
       "A683430          Transfer        Cat        0.69  Domestic Shorthair Mix   11   \n",
       "A667013          Transfer        Dog       24.00             Rare_Double   15   \n",
       "\n",
       "          month  year  Genere  Spayed/Neutered Color1 Color2  \n",
       "AnimalID                                                      \n",
       "A671945       2  2014    Male                1  Brown  White  \n",
       "A656520      10  2013  Female                1  Cream    NaN  \n",
       "A686464       1  2015    Male                1   Blue  White  \n",
       "A683430       7  2014    Male                0   Blue    NaN  \n",
       "A667013      11  2013    Male                1    Tan    NaN  "
      ]
     },
     "execution_count": 104,
     "metadata": {},
     "output_type": "execute_result"
    }
   ],
   "source": [
    "dt.head()"
   ]
  },
  {
   "cell_type": "code",
   "execution_count": 105,
   "metadata": {
    "scrolled": true
   },
   "outputs": [
    {
     "data": {
      "text/html": [
       "<div>\n",
       "<style scoped>\n",
       "    .dataframe tbody tr th:only-of-type {\n",
       "        vertical-align: middle;\n",
       "    }\n",
       "\n",
       "    .dataframe tbody tr th {\n",
       "        vertical-align: top;\n",
       "    }\n",
       "\n",
       "    .dataframe thead th {\n",
       "        text-align: right;\n",
       "    }\n",
       "</style>\n",
       "<table border=\"1\" class=\"dataframe\">\n",
       "  <thead>\n",
       "    <tr style=\"text-align: right;\">\n",
       "      <th></th>\n",
       "      <th>AnimalType</th>\n",
       "      <th>Breed</th>\n",
       "      <th>Color1</th>\n",
       "      <th>Color2</th>\n",
       "      <th>Genere</th>\n",
       "      <th>Spayed/Neutered</th>\n",
       "      <th>Age_Months</th>\n",
       "      <th>OutcomeType</th>\n",
       "    </tr>\n",
       "    <tr>\n",
       "      <th>AnimalID</th>\n",
       "      <th></th>\n",
       "      <th></th>\n",
       "      <th></th>\n",
       "      <th></th>\n",
       "      <th></th>\n",
       "      <th></th>\n",
       "      <th></th>\n",
       "      <th></th>\n",
       "    </tr>\n",
       "  </thead>\n",
       "  <tbody>\n",
       "    <tr>\n",
       "      <td>A671945</td>\n",
       "      <td>Dog</td>\n",
       "      <td>Rare_Mix</td>\n",
       "      <td>Brown</td>\n",
       "      <td>White</td>\n",
       "      <td>Male</td>\n",
       "      <td>1</td>\n",
       "      <td>12.00</td>\n",
       "      <td>Return_to_owner</td>\n",
       "    </tr>\n",
       "    <tr>\n",
       "      <td>A656520</td>\n",
       "      <td>Cat</td>\n",
       "      <td>Domestic Shorthair Mix</td>\n",
       "      <td>Cream</td>\n",
       "      <td>NaN</td>\n",
       "      <td>Female</td>\n",
       "      <td>1</td>\n",
       "      <td>12.00</td>\n",
       "      <td>Died</td>\n",
       "    </tr>\n",
       "    <tr>\n",
       "      <td>A686464</td>\n",
       "      <td>Dog</td>\n",
       "      <td>Pit Bull Mix</td>\n",
       "      <td>Blue</td>\n",
       "      <td>White</td>\n",
       "      <td>Male</td>\n",
       "      <td>1</td>\n",
       "      <td>24.00</td>\n",
       "      <td>Adoption</td>\n",
       "    </tr>\n",
       "    <tr>\n",
       "      <td>A683430</td>\n",
       "      <td>Cat</td>\n",
       "      <td>Domestic Shorthair Mix</td>\n",
       "      <td>Blue</td>\n",
       "      <td>NaN</td>\n",
       "      <td>Male</td>\n",
       "      <td>0</td>\n",
       "      <td>0.69</td>\n",
       "      <td>Transfer</td>\n",
       "    </tr>\n",
       "    <tr>\n",
       "      <td>A667013</td>\n",
       "      <td>Dog</td>\n",
       "      <td>Rare_Double</td>\n",
       "      <td>Tan</td>\n",
       "      <td>NaN</td>\n",
       "      <td>Male</td>\n",
       "      <td>1</td>\n",
       "      <td>24.00</td>\n",
       "      <td>Transfer</td>\n",
       "    </tr>\n",
       "  </tbody>\n",
       "</table>\n",
       "</div>"
      ],
      "text/plain": [
       "         AnimalType                   Breed Color1 Color2  Genere  \\\n",
       "AnimalID                                                            \n",
       "A671945         Dog                Rare_Mix  Brown  White    Male   \n",
       "A656520         Cat  Domestic Shorthair Mix  Cream    NaN  Female   \n",
       "A686464         Dog            Pit Bull Mix   Blue  White    Male   \n",
       "A683430         Cat  Domestic Shorthair Mix   Blue    NaN    Male   \n",
       "A667013         Dog             Rare_Double    Tan    NaN    Male   \n",
       "\n",
       "          Spayed/Neutered  Age_Months      OutcomeType  \n",
       "AnimalID                                                \n",
       "A671945                 1       12.00  Return_to_owner  \n",
       "A656520                 1       12.00             Died  \n",
       "A686464                 1       24.00         Adoption  \n",
       "A683430                 0        0.69         Transfer  \n",
       "A667013                 1       24.00         Transfer  "
      ]
     },
     "execution_count": 105,
     "metadata": {},
     "output_type": "execute_result"
    }
   ],
   "source": [
    "data = dt[['AnimalType', 'Breed','Color1', 'Color2', 'Genere', 'Spayed/Neutered', 'Age_Months', 'OutcomeType']]\n",
    "data.head()"
   ]
  },
  {
   "cell_type": "code",
   "execution_count": 106,
   "metadata": {},
   "outputs": [
    {
     "data": {
      "text/plain": [
       "NaN          12790\n",
       "White         8850\n",
       "Black         1392\n",
       "Brown         1381\n",
       "Tan           1357\n",
       "Blue           209\n",
       "Gray           129\n",
       "Red            120\n",
       "Tricolor       112\n",
       "Orange          97\n",
       "Cream           80\n",
       "Buff            61\n",
       "Chocolate       50\n",
       "Silver          26\n",
       "Yellow          15\n",
       "Liver           12\n",
       "Gold             9\n",
       "Tortie           4\n",
       "Calico           4\n",
       "Apricot          4\n",
       "Lynx             3\n",
       "Pink             3\n",
       "Flame            1\n",
       "Seal             1\n",
       "Name: Color2, dtype: int64"
      ]
     },
     "execution_count": 106,
     "metadata": {},
     "output_type": "execute_result"
    }
   ],
   "source": [
    "data['Color2'].value_counts()"
   ]
  },
  {
   "cell_type": "code",
   "execution_count": 107,
   "metadata": {},
   "outputs": [],
   "source": [
    "data.to_csv('Shelter_animal_outcome_clean')"
   ]
  },
  {
   "cell_type": "code",
   "execution_count": 108,
   "metadata": {},
   "outputs": [
    {
     "ename": "NameError",
     "evalue": "name 'diamonds' is not defined",
     "output_type": "error",
     "traceback": [
      "\u001b[0;31m---------------------------------------------------------------------------\u001b[0m",
      "\u001b[0;31mNameError\u001b[0m                                 Traceback (most recent call last)",
      "\u001b[0;32m<ipython-input-108-3dd05175d943>\u001b[0m in \u001b[0;36m<module>\u001b[0;34m\u001b[0m\n\u001b[1;32m      2\u001b[0m \u001b[0;34m\u001b[0m\u001b[0m\n\u001b[1;32m      3\u001b[0m \u001b[0;32mimport\u001b[0m \u001b[0mseaborn\u001b[0m \u001b[0;32mas\u001b[0m \u001b[0msns\u001b[0m\u001b[0;34m\u001b[0m\u001b[0;34m\u001b[0m\u001b[0m\n\u001b[0;32m----> 4\u001b[0;31m \u001b[0msns\u001b[0m\u001b[0;34m.\u001b[0m\u001b[0mpairplot\u001b[0m\u001b[0;34m(\u001b[0m\u001b[0mdiamonds\u001b[0m\u001b[0;34m,\u001b[0m \u001b[0mdiag_kind\u001b[0m \u001b[0;34m=\u001b[0m \u001b[0;34m'kde'\u001b[0m\u001b[0;34m,\u001b[0m \u001b[0mplot_kws\u001b[0m \u001b[0;34m=\u001b[0m \u001b[0;34m{\u001b[0m\u001b[0;34m'alpha'\u001b[0m\u001b[0;34m:\u001b[0m \u001b[0;36m0.6\u001b[0m\u001b[0;34m,\u001b[0m \u001b[0;34m's'\u001b[0m\u001b[0;34m:\u001b[0m \u001b[0;36m80\u001b[0m\u001b[0;34m,\u001b[0m \u001b[0;34m'edgecolor'\u001b[0m\u001b[0;34m:\u001b[0m \u001b[0;34m'k'\u001b[0m\u001b[0;34m}\u001b[0m\u001b[0;34m)\u001b[0m\u001b[0;34m\u001b[0m\u001b[0;34m\u001b[0m\u001b[0m\n\u001b[0m\u001b[1;32m      5\u001b[0m \u001b[0;34m\u001b[0m\u001b[0m\n\u001b[1;32m      6\u001b[0m \u001b[0;34m\u001b[0m\u001b[0m\n",
      "\u001b[0;31mNameError\u001b[0m: name 'diamonds' is not defined"
     ]
    }
   ],
   "source": [
    "##Use this code for the \n",
    "\n",
    "import seaborn as sns\n",
    "sns.pairplot(diamonds, diag_kind = 'kde', plot_kws = {'alpha': 0.6, 's': 80, 'edgecolor': 'k'})\n",
    "\n",
    "\n",
    "##and this \n",
    "\n",
    "# your code here\n",
    "\n",
    "sns.regplot(x=\"carat\", y=\"price\", data=diamonds);"
   ]
  }
 ],
 "metadata": {
  "kernelspec": {
   "display_name": "Python 3",
   "language": "python",
   "name": "python3"
  },
  "language_info": {
   "codemirror_mode": {
    "name": "ipython",
    "version": 3
   },
   "file_extension": ".py",
   "mimetype": "text/x-python",
   "name": "python",
   "nbconvert_exporter": "python",
   "pygments_lexer": "ipython3",
   "version": "3.7.4"
  }
 },
 "nbformat": 4,
 "nbformat_minor": 2
}

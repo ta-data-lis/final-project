{
 "cells": [
  {
   "cell_type": "markdown",
   "metadata": {},
   "source": [
    "### Imports"
   ]
  },
  {
   "cell_type": "code",
   "execution_count": 233,
   "metadata": {},
   "outputs": [],
   "source": [
    "import pandas as pd\n",
    "import numpy as np\n",
    "import matplotlib.pyplot as plt\n",
    "\n",
    "import glob\n",
    "import os\n",
    "\n",
    "from nltk.corpus import stopwords\n",
    "from nltk.tokenize import word_tokenize\n",
    "from nltk.stem import PorterStemmer \n",
    "from nltk.stem import WordNetLemmatizer \n",
    "from nltk.probability import FreqDist\n",
    "import nltk\n",
    "\n",
    "from sklearn.feature_extraction.text import CountVectorizer\n",
    "from sklearn.feature_extraction.text import TfidfVectorizer\n",
    "from sklearn.cluster import KMeans\n",
    "from sklearn.metrics import silhouette_score\n",
    "from sklearn import preprocessing\n",
    "\n",
    "from datetime import datetime\n",
    "import re"
   ]
  },
  {
   "cell_type": "code",
   "execution_count": 234,
   "metadata": {},
   "outputs": [],
   "source": [
    "pd.set_option('max_colwidth', 800)"
   ]
  },
  {
   "cell_type": "markdown",
   "metadata": {},
   "source": [
    "### Functions"
   ]
  },
  {
   "cell_type": "code",
   "execution_count": 235,
   "metadata": {},
   "outputs": [],
   "source": [
    "def clean_up(tweet):\n",
    "    tweet = re.sub('((www\\.[^\\s]+)|(https?://[^\\s]+))','',tweet.lower())\n",
    "    tweet = re.sub('[\\s]+', ' ', tweet)  \n",
    "    tweet = re.sub(r'\\W*\\b\\w{1,3}\\b', '', tweet)\n",
    "    tweet = re.sub('[^A-Za-z0-9]+', ' ', tweet) \n",
    "    return tweet\n",
    "\n",
    "def tokenize(tweet):\n",
    "    return word_tokenize(tweet)\n",
    "\n",
    "def stem_and_lemmatize(tweet):\n",
    "    tweet = ' '.join(tweet)\n",
    "    stem = PorterStemmer().stem(tweet)\n",
    "    return WordNetLemmatizer().lemmatize(stem)\n",
    "\n",
    "def remove_stopwords(tweet):\n",
    "    stop_words = set(stopwords.words('english')) \n",
    "    return [i for i in tweet.split() if i not in stop_words]\n",
    "\n",
    "#function to detect language based on # of stop words for particular language\n",
    "stopwords_dict = {lang: set(nltk.corpus.stopwords.words(lang)) for lang in nltk.corpus.stopwords.fileids()}\n",
    "def get_language(text):\n",
    "    words = set(nltk.wordpunct_tokenize(text.lower()))\n",
    "    lang = max(((lang, len(words & stopwords)) for lang, stopwords in stopwords_dict.items()), key = lambda x: x[1])[0]\n",
    "    return True if lang == 'english'else False\n",
    "    \n",
    "def get_pm(row):\n",
    "    pms = []\n",
    "    text = row[\"TEXT\"].lower()\n",
    "    if \"boris\" in text or \"johnson\" in text:\n",
    "        pms.append(\"Boris Johnson\")\n",
    "    elif \"theresa\" in text:\n",
    "        pms.append(\"Theresa May\")\n",
    "    else:\n",
    "        pms.append(\"none\") \n",
    "    return \",\".join(pms)"
   ]
  },
  {
   "cell_type": "markdown",
   "metadata": {},
   "source": [
    "### Data"
   ]
  },
  {
   "cell_type": "code",
   "execution_count": 236,
   "metadata": {},
   "outputs": [
    {
     "name": "stderr",
     "output_type": "stream",
     "text": [
      "/Users/ironhack/opt/anaconda3/lib/python3.7/site-packages/ipykernel_launcher.py:9: FutureWarning: Sorting because non-concatenation axis is not aligned. A future version\n",
      "of pandas will change to not sort by default.\n",
      "\n",
      "To accept the future behavior, pass 'sort=False'.\n",
      "\n",
      "To retain the current behavior and silence the warning, pass 'sort=True'.\n",
      "\n",
      "  if __name__ == '__main__':\n"
     ]
    }
   ],
   "source": [
    "path = r'/Users/ironhack/Documents/GitHub/IronHack/W9FinalProject/final-project/your-project/tweets/2019'\n",
    "all_files = glob.glob(os.path.join(path, \"*.csv\"))\n",
    "list_of_files = []\n",
    "\n",
    "for filename in all_files:\n",
    "    df = pd.read_csv(filename, index_col=None, header=0)\n",
    "    list_of_files.append(df)\n",
    "\n",
    "df = pd.concat(list_of_files, axis=0, ignore_index=True)"
   ]
  },
  {
   "cell_type": "code",
   "execution_count": 237,
   "metadata": {},
   "outputs": [
    {
     "name": "stdout",
     "output_type": "stream",
     "text": [
      "<class 'pandas.core.frame.DataFrame'>\n",
      "RangeIndex: 383269 entries, 0 to 383268\n",
      "Data columns (total 16 columns):\n",
      "author_id         380000 non-null float64\n",
      "date              383269 non-null object\n",
      "favorites         380000 non-null float64\n",
      "formatted_date    380000 non-null object\n",
      "geo               0 non-null float64\n",
      "hashtags          93174 non-null object\n",
      "id                383269 non-null int64\n",
      "mentions          49660 non-null object\n",
      "permalink         380000 non-null object\n",
      "pm                3269 non-null object\n",
      "replies           380000 non-null float64\n",
      "retweets          380000 non-null float64\n",
      "text              382645 non-null object\n",
      "to                235693 non-null object\n",
      "urls              117328 non-null object\n",
      "username          383269 non-null object\n",
      "dtypes: float64(5), int64(1), object(10)\n",
      "memory usage: 46.8+ MB\n"
     ]
    }
   ],
   "source": [
    "df.info()"
   ]
  },
  {
   "cell_type": "code",
   "execution_count": 238,
   "metadata": {},
   "outputs": [
    {
     "data": {
      "text/plain": [
       "author_id           0.852926\n",
       "date                0.000000\n",
       "favorites           0.852926\n",
       "formatted_date      0.852926\n",
       "geo               100.000000\n",
       "hashtags           75.689659\n",
       "id                  0.000000\n",
       "mentions           87.043043\n",
       "permalink           0.852926\n",
       "pm                 99.147074\n",
       "replies             0.852926\n",
       "retweets            0.852926\n",
       "text                0.162810\n",
       "to                 38.504549\n",
       "urls               69.387558\n",
       "username            0.000000\n",
       "dtype: float64"
      ]
     },
     "execution_count": 238,
     "metadata": {},
     "output_type": "execute_result"
    }
   ],
   "source": [
    "df.isna().sum()*100/len(df)"
   ]
  },
  {
   "cell_type": "code",
   "execution_count": 239,
   "metadata": {},
   "outputs": [
    {
     "data": {
      "text/plain": [
       "Index(['author_id', 'date', 'favorites', 'formatted_date', 'geo', 'hashtags',\n",
       "       'id', 'mentions', 'permalink', 'pm', 'replies', 'retweets', 'text',\n",
       "       'to', 'urls', 'username'],\n",
       "      dtype='object')"
      ]
     },
     "execution_count": 239,
     "metadata": {},
     "output_type": "execute_result"
    }
   ],
   "source": [
    "df.columns"
   ]
  },
  {
   "cell_type": "code",
   "execution_count": 240,
   "metadata": {},
   "outputs": [],
   "source": [
    "df = df[['date','id', 'username', 'text']]\n",
    "df.columns = map(str.upper, df.columns)"
   ]
  },
  {
   "cell_type": "code",
   "execution_count": 241,
   "metadata": {},
   "outputs": [
    {
     "data": {
      "text/plain": [
       "(383269, 4)"
      ]
     },
     "execution_count": 241,
     "metadata": {},
     "output_type": "execute_result"
    }
   ],
   "source": [
    "df.shape"
   ]
  },
  {
   "cell_type": "code",
   "execution_count": 242,
   "metadata": {},
   "outputs": [],
   "source": [
    "df.dropna(inplace=True)"
   ]
  },
  {
   "cell_type": "code",
   "execution_count": 243,
   "metadata": {},
   "outputs": [
    {
     "data": {
      "text/plain": [
       "DATE        object\n",
       "ID           int64\n",
       "USERNAME    object\n",
       "TEXT        object\n",
       "dtype: object"
      ]
     },
     "execution_count": 243,
     "metadata": {},
     "output_type": "execute_result"
    }
   ],
   "source": [
    "#check types\n",
    "df.dtypes"
   ]
  },
  {
   "cell_type": "code",
   "execution_count": 244,
   "metadata": {},
   "outputs": [
    {
     "data": {
      "text/html": [
       "<div>\n",
       "<style scoped>\n",
       "    .dataframe tbody tr th:only-of-type {\n",
       "        vertical-align: middle;\n",
       "    }\n",
       "\n",
       "    .dataframe tbody tr th {\n",
       "        vertical-align: top;\n",
       "    }\n",
       "\n",
       "    .dataframe thead th {\n",
       "        text-align: right;\n",
       "    }\n",
       "</style>\n",
       "<table border=\"1\" class=\"dataframe\">\n",
       "  <thead>\n",
       "    <tr style=\"text-align: right;\">\n",
       "      <th></th>\n",
       "      <th>DATE</th>\n",
       "      <th>ID</th>\n",
       "      <th>USERNAME</th>\n",
       "      <th>TEXT</th>\n",
       "    </tr>\n",
       "  </thead>\n",
       "  <tbody>\n",
       "    <tr>\n",
       "      <td>30000</td>\n",
       "      <td>2019-03-12 23:59:59+00:00</td>\n",
       "      <td>1105619479478845441</td>\n",
       "      <td>El_7usseny</td>\n",
       "      <td>طب سريعاً كدا فيه غفلة من رجال الأمن أحب أتكلم شويه عن الـBrexit اللي هو انفصال المملكة المتحدة UK عن الاتحاد الأوروبي في ثريد صغير</td>\n",
       "    </tr>\n",
       "    <tr>\n",
       "      <td>30001</td>\n",
       "      <td>2019-03-12 23:59:59+00:00</td>\n",
       "      <td>1105619476047953928</td>\n",
       "      <td>michael_b28</td>\n",
       "      <td>@heuteshow ist das eigentlich richtig, dass der simulierte Angriff auf den EU Luftraum gestern Abend durch TUIfly mit #737MAX8 eine Aktionskunst zur Verhinderung des #Brexit war?</td>\n",
       "    </tr>\n",
       "    <tr>\n",
       "      <td>30002</td>\n",
       "      <td>2019-03-12 23:59:57+00:00</td>\n",
       "      <td>1105619470641446912</td>\n",
       "      <td>repnews</td>\n",
       "      <td>Listen to this. What is Britain's \"fundamental interest\" in Ireland? If they answer that first, then they can figure out the border, then they can figure out Brexit.</td>\n",
       "    </tr>\n",
       "    <tr>\n",
       "      <td>30003</td>\n",
       "      <td>2019-03-12 23:59:54+00:00</td>\n",
       "      <td>1105619456565395458</td>\n",
       "      <td>Lusa_noticias</td>\n",
       "      <td>Portugal prepara-se para cenário do 'Brexit' sem acordo que é “hoje mais possível” - MNE - https://www.lusa.pt/article/25807673</td>\n",
       "    </tr>\n",
       "    <tr>\n",
       "      <td>30004</td>\n",
       "      <td>2019-03-12 23:59:54+00:00</td>\n",
       "      <td>1105619455739158529</td>\n",
       "      <td>themarketsniper</td>\n",
       "      <td>Parliament’s rejection of Mrs. May’s deal shifts the focus to a vote scheduled for Wednesday on whether to oppose leaving without a deal - WATCH TOMORROW'S BETRAYAL OF REAL BREXIT, AS MAJORITY VOTE AGAINST NO DEAL EXIT. 99% CERTAIN OF IT. @TheResetSniper @DollarVigilante</td>\n",
       "    </tr>\n",
       "    <tr>\n",
       "      <td>...</td>\n",
       "      <td>...</td>\n",
       "      <td>...</td>\n",
       "      <td>...</td>\n",
       "      <td>...</td>\n",
       "    </tr>\n",
       "    <tr>\n",
       "      <td>306811</td>\n",
       "      <td>2019-09-13 21:52:15+00:00</td>\n",
       "      <td>1172629085387968513</td>\n",
       "      <td>ittatto23</td>\n",
       "      <td>This absolute gobshite has a nerve since he’s the very one who’s responsible for all this #Brexit shite in the first place, then he pissed off when it all went wrong &amp;amp; let other politicians in Parliament like #TheresaMay to deal with it all! #DavidCameron</td>\n",
       "    </tr>\n",
       "    <tr>\n",
       "      <td>306976</td>\n",
       "      <td>2019-09-13 21:47:57+00:00</td>\n",
       "      <td>1172628003987345408</td>\n",
       "      <td>DarrylInnes</td>\n",
       "      <td>your fantasy Brexit was lost the moment that Theresa May called a snap election and ended up with a minority government. Bercow has just given the majority of opposition a voice as he is supposed to do and as the election mandated.</td>\n",
       "    </tr>\n",
       "    <tr>\n",
       "      <td>307814</td>\n",
       "      <td>2019-09-13 21:28:25+00:00</td>\n",
       "      <td>1172623090922196999</td>\n",
       "      <td>sundersays</td>\n",
       "      <td>David Cameron and Theresa May, for somewhat different reasons, are in an especially lonely place in a politics polarised by Brexit. Distrusted as \"Remainers\" by Leave advocates, but probably more unpopular still with Remainers</td>\n",
       "    </tr>\n",
       "    <tr>\n",
       "      <td>308094</td>\n",
       "      <td>2019-09-13 21:21:49+00:00</td>\n",
       "      <td>1172621430196002817</td>\n",
       "      <td>femiokes</td>\n",
       "      <td>I see your argument. But would rather he resign if he felt he can't can it through. What wrong with a bit of honesty? #TheresaMay took over promising to deliver but could not have done more to mess up #brexit instead!</td>\n",
       "    </tr>\n",
       "    <tr>\n",
       "      <td>308163</td>\n",
       "      <td>2019-09-13 21:20:17+00:00</td>\n",
       "      <td>1172621041543200768</td>\n",
       "      <td>Mouette291</td>\n",
       "      <td>Les #européistes sont \"sur les dents\" et prêt à tout pour faire capoter le #BREXIT Dernière supercherie en date, le soit disant rapport sur l'opération #Yellowhammer ou #ProjetdelaPeur Un rapport commandée en janvier dernier par #TheresaMay aux fins d'affoler la population. #UPR</td>\n",
       "    </tr>\n",
       "  </tbody>\n",
       "</table>\n",
       "<p>14952 rows × 4 columns</p>\n",
       "</div>"
      ],
      "text/plain": [
       "                             DATE                   ID         USERNAME  \\\n",
       "30000   2019-03-12 23:59:59+00:00  1105619479478845441       El_7usseny   \n",
       "30001   2019-03-12 23:59:59+00:00  1105619476047953928      michael_b28   \n",
       "30002   2019-03-12 23:59:57+00:00  1105619470641446912          repnews   \n",
       "30003   2019-03-12 23:59:54+00:00  1105619456565395458    Lusa_noticias   \n",
       "30004   2019-03-12 23:59:54+00:00  1105619455739158529  themarketsniper   \n",
       "...                           ...                  ...              ...   \n",
       "306811  2019-09-13 21:52:15+00:00  1172629085387968513        ittatto23   \n",
       "306976  2019-09-13 21:47:57+00:00  1172628003987345408      DarrylInnes   \n",
       "307814  2019-09-13 21:28:25+00:00  1172623090922196999       sundersays   \n",
       "308094  2019-09-13 21:21:49+00:00  1172621430196002817         femiokes   \n",
       "308163  2019-09-13 21:20:17+00:00  1172621041543200768       Mouette291   \n",
       "\n",
       "                                                                                                                                                                                                                                                                                           TEXT  \n",
       "30000                                                                                                                                                       طب سريعاً كدا فيه غفلة من رجال الأمن أحب أتكلم شويه عن الـBrexit اللي هو انفصال المملكة المتحدة UK عن الاتحاد الأوروبي في ثريد صغير  \n",
       "30001                                                                                                        @heuteshow ist das eigentlich richtig, dass der simulierte Angriff auf den EU Luftraum gestern Abend durch TUIfly mit #737MAX8 eine Aktionskunst zur Verhinderung des #Brexit war?  \n",
       "30002                                                                                                                    Listen to this. What is Britain's \"fundamental interest\" in Ireland? If they answer that first, then they can figure out the border, then they can figure out Brexit.   \n",
       "30003                                                                                                                                                           Portugal prepara-se para cenário do 'Brexit' sem acordo que é “hoje mais possível” - MNE - https://www.lusa.pt/article/25807673  \n",
       "30004           Parliament’s rejection of Mrs. May’s deal shifts the focus to a vote scheduled for Wednesday on whether to oppose leaving without a deal - WATCH TOMORROW'S BETRAYAL OF REAL BREXIT, AS MAJORITY VOTE AGAINST NO DEAL EXIT. 99% CERTAIN OF IT. @TheResetSniper @DollarVigilante  \n",
       "...                                                                                                                                                                                                                                                                                         ...  \n",
       "306811                      This absolute gobshite has a nerve since he’s the very one who’s responsible for all this #Brexit shite in the first place, then he pissed off when it all went wrong &amp; let other politicians in Parliament like #TheresaMay to deal with it all! #DavidCameron  \n",
       "306976                                                  your fantasy Brexit was lost the moment that Theresa May called a snap election and ended up with a minority government. Bercow has just given the majority of opposition a voice as he is supposed to do and as the election mandated.  \n",
       "307814                                                       David Cameron and Theresa May, for somewhat different reasons, are in an especially lonely place in a politics polarised by Brexit. Distrusted as \"Remainers\" by Leave advocates, but probably more unpopular still with Remainers  \n",
       "308094                                                                I see your argument. But would rather he resign if he felt he can't can it through. What wrong with a bit of honesty? #TheresaMay took over promising to deliver but could not have done more to mess up #brexit instead!  \n",
       "308163  Les #européistes sont \"sur les dents\" et prêt à tout pour faire capoter le #BREXIT Dernière supercherie en date, le soit disant rapport sur l'opération #Yellowhammer ou #ProjetdelaPeur Un rapport commandée en janvier dernier par #TheresaMay aux fins d'affoler la population. #UPR  \n",
       "\n",
       "[14952 rows x 4 columns]"
      ]
     },
     "execution_count": 244,
     "metadata": {},
     "output_type": "execute_result"
    }
   ],
   "source": [
    "#check for duplicates in the tweet ID column\n",
    "df[df.duplicated(subset = 'ID')]"
   ]
  },
  {
   "cell_type": "code",
   "execution_count": 245,
   "metadata": {},
   "outputs": [],
   "source": [
    "#removing duplicates\n",
    "df.drop_duplicates(subset='ID', keep=\"first\", inplace=True)"
   ]
  },
  {
   "cell_type": "code",
   "execution_count": 246,
   "metadata": {},
   "outputs": [],
   "source": [
    "#now that there are no duplicates, so we can drop the column\n",
    "df.drop('ID', inplace=True, axis=1)"
   ]
  },
  {
   "cell_type": "code",
   "execution_count": 247,
   "metadata": {},
   "outputs": [
    {
     "data": {
      "text/plain": [
       "(367693, 3)"
      ]
     },
     "execution_count": 247,
     "metadata": {},
     "output_type": "execute_result"
    }
   ],
   "source": [
    "#checking totalrows\n",
    "df.shape"
   ]
  },
  {
   "cell_type": "markdown",
   "metadata": {},
   "source": [
    "### Fixing time type column"
   ]
  },
  {
   "cell_type": "code",
   "execution_count": 248,
   "metadata": {},
   "outputs": [],
   "source": [
    "#from the date only the month is important to analyse the change throughout the year\n",
    "df['DATE'] = pd.to_datetime(df['DATE'])\n",
    "df['MONTH_INT'] = pd.DatetimeIndex(df['DATE']).month\n",
    "df['MONTH_STR'] = df['DATE'].dt.strftime('%b')\n",
    "df.drop('DATE', inplace=True, axis=1)"
   ]
  },
  {
   "cell_type": "markdown",
   "metadata": {},
   "source": [
    "### Removing non english tweets"
   ]
  },
  {
   "cell_type": "code",
   "execution_count": 249,
   "metadata": {},
   "outputs": [],
   "source": [
    "df['language'] = df['TEXT'].apply(get_language)\n",
    "df = df[(df['language'] == True)]\n",
    "df.drop('language', inplace=True, axis=1)"
   ]
  },
  {
   "cell_type": "code",
   "execution_count": 250,
   "metadata": {},
   "outputs": [
    {
     "data": {
      "text/plain": [
       "(329937, 4)"
      ]
     },
     "execution_count": 250,
     "metadata": {},
     "output_type": "execute_result"
    }
   ],
   "source": [
    "df.shape"
   ]
  },
  {
   "cell_type": "markdown",
   "metadata": {},
   "source": [
    "### Creating column for Theresa May/Boris Jonhson - selecting tweets that only refer the PMs"
   ]
  },
  {
   "cell_type": "code",
   "execution_count": 251,
   "metadata": {},
   "outputs": [],
   "source": [
    "df[\"PM\"] = df.apply(get_pm,axis=1)"
   ]
  },
  {
   "cell_type": "code",
   "execution_count": 252,
   "metadata": {},
   "outputs": [
    {
     "data": {
      "text/plain": [
       "none             282333\n",
       "Boris Johnson     33555\n",
       "Theresa May       14049\n",
       "Name: PM, dtype: int64"
      ]
     },
     "execution_count": 252,
     "metadata": {},
     "output_type": "execute_result"
    }
   ],
   "source": [
    "df['PM'].value_counts()"
   ]
  },
  {
   "cell_type": "markdown",
   "metadata": {},
   "source": [
    "### Adjusting dataset so we have a more balanced number of tweets between May&Boris"
   ]
  },
  {
   "cell_type": "code",
   "execution_count": 253,
   "metadata": {},
   "outputs": [
    {
     "data": {
      "text/plain": [
       "none             0.855718\n",
       "Boris Johnson    0.101701\n",
       "Theresa May      0.042581\n",
       "Name: PM, dtype: float64"
      ]
     },
     "execution_count": 253,
     "metadata": {},
     "output_type": "execute_result"
    }
   ],
   "source": [
    "df['PM'].value_counts()/len(df)"
   ]
  },
  {
   "cell_type": "code",
   "execution_count": 254,
   "metadata": {},
   "outputs": [],
   "source": [
    "#removing 5% of Boris tweets\n",
    "cdf = df.drop(df[df['PM'] == 'Boris Johnson'].sample(frac=.5).index)"
   ]
  },
  {
   "cell_type": "code",
   "execution_count": 255,
   "metadata": {},
   "outputs": [
    {
     "data": {
      "text/plain": [
       "none             282333\n",
       "Boris Johnson     16777\n",
       "Theresa May       14049\n",
       "Name: PM, dtype: int64"
      ]
     },
     "execution_count": 255,
     "metadata": {},
     "output_type": "execute_result"
    }
   ],
   "source": [
    "cdf['PM'].value_counts()"
   ]
  },
  {
   "cell_type": "code",
   "execution_count": 256,
   "metadata": {},
   "outputs": [],
   "source": [
    "df_may = df[df['PM'] == 'Theresa May']\n",
    "df_boris = df[df['PM'] == 'Boris Johnson']\n",
    "df_none = df[df['PM'] == 'none']\n",
    "df_mb = df_may.append(df_boris)"
   ]
  },
  {
   "cell_type": "code",
   "execution_count": 257,
   "metadata": {},
   "outputs": [
    {
     "data": {
      "text/plain": [
       "Boris Johnson    33555\n",
       "Theresa May      14049\n",
       "Name: PM, dtype: int64"
      ]
     },
     "execution_count": 257,
     "metadata": {},
     "output_type": "execute_result"
    }
   ],
   "source": [
    "df_mb['PM'].value_counts()"
   ]
  },
  {
   "cell_type": "code",
   "execution_count": 258,
   "metadata": {},
   "outputs": [
    {
     "data": {
      "text/plain": [
       "USERNAME     object\n",
       "TEXT         object\n",
       "MONTH_INT     int64\n",
       "MONTH_STR    object\n",
       "PM           object\n",
       "dtype: object"
      ]
     },
     "execution_count": 258,
     "metadata": {},
     "output_type": "execute_result"
    }
   ],
   "source": [
    "df_mb.dtypes"
   ]
  },
  {
   "cell_type": "markdown",
   "metadata": {},
   "source": [
    "### Dataset with the \"None\" group and the group that mentions May & Boris"
   ]
  },
  {
   "cell_type": "markdown",
   "metadata": {},
   "source": [
    "### Remove user accounts that are mostly likely related to news and trolls"
   ]
  },
  {
   "cell_type": "code",
   "execution_count": 259,
   "metadata": {},
   "outputs": [],
   "source": [
    "#find twitter accounts with brexit in the name, these are to be removed\n",
    "brexit_usernames = cdf[cdf['USERNAME'].str.contains('brexit|Brexit')]"
   ]
  },
  {
   "cell_type": "code",
   "execution_count": 260,
   "metadata": {},
   "outputs": [],
   "source": [
    "cond = cdf['USERNAME'].isin(brexit_usernames['USERNAME'])\n",
    "#cond.value_counts()\n",
    "cdf.drop(cdf[cond].index, inplace = True)"
   ]
  },
  {
   "cell_type": "code",
   "execution_count": 261,
   "metadata": {},
   "outputs": [
    {
     "data": {
      "text/plain": [
       "(306916, 5)"
      ]
     },
     "execution_count": 261,
     "metadata": {},
     "output_type": "execute_result"
    }
   ],
   "source": [
    "cdf.shape"
   ]
  },
  {
   "cell_type": "code",
   "execution_count": 262,
   "metadata": {},
   "outputs": [
    {
     "data": {
      "text/html": [
       "<div>\n",
       "<style scoped>\n",
       "    .dataframe tbody tr th:only-of-type {\n",
       "        vertical-align: middle;\n",
       "    }\n",
       "\n",
       "    .dataframe tbody tr th {\n",
       "        vertical-align: top;\n",
       "    }\n",
       "\n",
       "    .dataframe thead th {\n",
       "        text-align: right;\n",
       "    }\n",
       "</style>\n",
       "<table border=\"1\" class=\"dataframe\">\n",
       "  <thead>\n",
       "    <tr style=\"text-align: right;\">\n",
       "      <th></th>\n",
       "      <th>index</th>\n",
       "      <th>USERNAME</th>\n",
       "    </tr>\n",
       "  </thead>\n",
       "  <tbody>\n",
       "    <tr>\n",
       "      <td>0</td>\n",
       "      <td>AtlantoCeltica</td>\n",
       "      <td>619</td>\n",
       "    </tr>\n",
       "    <tr>\n",
       "      <td>1</td>\n",
       "      <td>dddoc_blogger</td>\n",
       "      <td>288</td>\n",
       "    </tr>\n",
       "    <tr>\n",
       "      <td>2</td>\n",
       "      <td>Doozy_45</td>\n",
       "      <td>259</td>\n",
       "    </tr>\n",
       "    <tr>\n",
       "      <td>3</td>\n",
       "      <td>BBCPropaganda</td>\n",
       "      <td>243</td>\n",
       "    </tr>\n",
       "    <tr>\n",
       "      <td>4</td>\n",
       "      <td>JeanneBartram</td>\n",
       "      <td>199</td>\n",
       "    </tr>\n",
       "  </tbody>\n",
       "</table>\n",
       "</div>"
      ],
      "text/plain": [
       "            index  USERNAME\n",
       "0  AtlantoCeltica       619\n",
       "1   dddoc_blogger       288\n",
       "2        Doozy_45       259\n",
       "3   BBCPropaganda       243\n",
       "4   JeanneBartram       199"
      ]
     },
     "execution_count": 262,
     "metadata": {},
     "output_type": "execute_result"
    }
   ],
   "source": [
    "'''checking top users with most frequent tweets, these look like bots/trolls/news and do not add any meaningful value \n",
    "to the analysis so they will be removed'''\n",
    "usernames_to_remove = cdf['USERNAME'].value_counts().sort_values(ascending=False).nlargest(5)\n",
    "frame = usernames_to_remove.to_frame().reset_index()\n",
    "frame"
   ]
  },
  {
   "cell_type": "code",
   "execution_count": 263,
   "metadata": {},
   "outputs": [],
   "source": [
    "cond1 = cdf['USERNAME'].isin(frame['index'])\n",
    "#cond.value_counts()\n",
    "cdf.drop(cdf[cond1].index, inplace = True)"
   ]
  },
  {
   "cell_type": "code",
   "execution_count": 264,
   "metadata": {},
   "outputs": [
    {
     "data": {
      "text/plain": [
       "(305308, 5)"
      ]
     },
     "execution_count": 264,
     "metadata": {},
     "output_type": "execute_result"
    }
   ],
   "source": [
    "cdf.shape"
   ]
  },
  {
   "cell_type": "code",
   "execution_count": 265,
   "metadata": {},
   "outputs": [
    {
     "data": {
      "text/plain": [
       "none             275161\n",
       "Boris Johnson     16412\n",
       "Theresa May       13735\n",
       "Name: PM, dtype: int64"
      ]
     },
     "execution_count": 265,
     "metadata": {},
     "output_type": "execute_result"
    }
   ],
   "source": [
    "cdf['PM'].value_counts()"
   ]
  },
  {
   "cell_type": "code",
   "execution_count": 266,
   "metadata": {},
   "outputs": [
    {
     "data": {
      "text/plain": [
       "none             0.833980\n",
       "Boris Johnson    0.049743\n",
       "Theresa May      0.041629\n",
       "Name: PM, dtype: float64"
      ]
     },
     "execution_count": 266,
     "metadata": {},
     "output_type": "execute_result"
    }
   ],
   "source": [
    "cdf['PM'].value_counts()/len(df)"
   ]
  },
  {
   "cell_type": "markdown",
   "metadata": {},
   "source": [
    "### Cleaning the tweets"
   ]
  },
  {
   "cell_type": "code",
   "execution_count": 267,
   "metadata": {},
   "outputs": [],
   "source": [
    "cdf['TWEET_PROCESSED'] = cdf['TEXT'].apply(clean_up).apply(tokenize).apply(stem_and_lemmatize).apply(remove_stopwords)\n",
    "cdf['TWEET_CLEANED'] = [' '.join(map(str, l)) for l in cdf['TWEET_PROCESSED']]"
   ]
  },
  {
   "cell_type": "code",
   "execution_count": 270,
   "metadata": {},
   "outputs": [
    {
     "data": {
      "text/plain": [
       "USERNAME           object\n",
       "TEXT               object\n",
       "MONTH_INT           int64\n",
       "MONTH_STR          object\n",
       "PM                 object\n",
       "TWEET_PROCESSED    object\n",
       "TWEET_CLEANED      object\n",
       "dtype: object"
      ]
     },
     "execution_count": 270,
     "metadata": {},
     "output_type": "execute_result"
    }
   ],
   "source": [
    "cdf.dtypes"
   ]
  },
  {
   "cell_type": "code",
   "execution_count": null,
   "metadata": {},
   "outputs": [],
   "source": [
    "#df_mb = df_mb[['MONTH_INT', 'MONTH_STR','USERNAME','TEXT','TWEET_PROCESSED','TWEET_CLEANED','PM']]\n",
    "#df_may = df_may[['MONTH_INT','MONTH_STR','USERNAME','TEXT','TWEET_PROCESSED','TWEET_CLEANED','PM']]\n",
    "#df_boris = df_boris[['MONTH_INT','MONTH_STR','USERNAME','TEXT','TWEET_PROCESSED','TWEET_CLEANED','PM']]\n",
    "cdf = cdf[['MONTH_INT','MONTH_STR','USERNAME','TEXT','TWEET_PROCESSED','TWEET_CLEANED','PM']]"
   ]
  },
  {
   "cell_type": "code",
   "execution_count": 229,
   "metadata": {},
   "outputs": [],
   "source": [
    "cdf.to_csv('cdf1.csv',index=False)"
   ]
  }
 ],
 "metadata": {
  "kernelspec": {
   "display_name": "Python 3",
   "language": "python",
   "name": "python3"
  },
  "language_info": {
   "codemirror_mode": {
    "name": "ipython",
    "version": 3
   },
   "file_extension": ".py",
   "mimetype": "text/x-python",
   "name": "python",
   "nbconvert_exporter": "python",
   "pygments_lexer": "ipython3",
   "version": "3.7.6"
  }
 },
 "nbformat": 4,
 "nbformat_minor": 2
}
